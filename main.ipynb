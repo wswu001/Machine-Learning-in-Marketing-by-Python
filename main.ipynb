{
 "cells": [
  {
   "attachments": {},
   "cell_type": "markdown",
   "metadata": {},
   "source": [
    "# Machine Learning in Marketing by Python"
   ]
  },
  {
   "attachments": {},
   "cell_type": "markdown",
   "metadata": {},
   "source": [
    "## 1. Churn Predictions"
   ]
  },
  {
   "attachments": {},
   "cell_type": "markdown",
   "metadata": {},
   "source": [
    "### Introduction & Data Cleaning\n",
    "\n",
    "**Churn**\n",
    "- Churn happens when a customer stop doing business with a company, and it could also apply when subscribers cancel or don't renew the subscription. \n",
    "- The business context could be *contractual* or *non-contractual*. Contractual churn apply to business involved with subscription and has explicit terminal of the purchase while the other involved with uncontinuos business without explicit periods and customer decision which could be harder to be analyzed\n",
    "- *Voluntary* or *involuntary* churn: the former happens when customers decide to stop buying or engaging, the latter is that customers fail to engage in using the service or renewing.\n"
   ]
  },
  {
   "cell_type": "code",
   "execution_count": 1,
   "metadata": {},
   "outputs": [],
   "source": [
    "#conda install python-graphviz"
   ]
  },
  {
   "cell_type": "code",
   "execution_count": 2,
   "metadata": {},
   "outputs": [],
   "source": [
    "import pandas as pd\n",
    "import numpy as np\n",
    "import matplotlib.pyplot as plt\n",
    "from sklearn import tree\n",
    "import graphviz\n",
    "from sklearn.preprocessing import StandardScaler \n",
    "from sklearn.utils import shuffle\n",
    "from sklearn.model_selection import train_test_split\n",
    "from sklearn.tree import DecisionTreeClassifier\n",
    "\n",
    "from sklearn.metrics import accuracy_score, precision_score, recall_score\n",
    "from sklearn.linear_model import LogisticRegression"
   ]
  },
  {
   "cell_type": "code",
   "execution_count": 3,
   "metadata": {},
   "outputs": [
    {
     "name": "stdout",
     "output_type": "stream",
     "text": [
      "   customerID  gender  SeniorCitizen Partner Dependents  tenure PhoneService  \\\n",
      "0  7590-VHVEG  Female              0     Yes         No       1           No   \n",
      "1  5575-GNVDE    Male              0      No         No      34          Yes   \n",
      "2  3668-QPYBK    Male              0      No         No       2          Yes   \n",
      "3  7795-CFOCW    Male              0      No         No      45           No   \n",
      "4  9237-HQITU  Female              0      No         No       2          Yes   \n",
      "\n",
      "      MultipleLines InternetService OnlineSecurity  ... DeviceProtection  \\\n",
      "0  No phone service             DSL             No  ...               No   \n",
      "1                No             DSL            Yes  ...              Yes   \n",
      "2                No             DSL            Yes  ...               No   \n",
      "3  No phone service             DSL            Yes  ...              Yes   \n",
      "4                No     Fiber optic             No  ...               No   \n",
      "\n",
      "  TechSupport StreamingTV StreamingMovies        Contract PaperlessBilling  \\\n",
      "0          No          No              No  Month-to-month              Yes   \n",
      "1          No          No              No        One year               No   \n",
      "2          No          No              No  Month-to-month              Yes   \n",
      "3         Yes          No              No        One year               No   \n",
      "4          No          No              No  Month-to-month              Yes   \n",
      "\n",
      "               PaymentMethod MonthlyCharges  TotalCharges Churn  \n",
      "0           Electronic check          29.85         29.85    No  \n",
      "1               Mailed check          56.95        1889.5    No  \n",
      "2               Mailed check          53.85        108.15   Yes  \n",
      "3  Bank transfer (automatic)          42.30       1840.75    No  \n",
      "4           Electronic check          70.70        151.65   Yes  \n",
      "\n",
      "[5 rows x 21 columns]\n"
     ]
    }
   ],
   "source": [
    "telco = pd.read_csv('telco.csv')\n",
    "print(telco.head(5))"
   ]
  },
  {
   "cell_type": "code",
   "execution_count": 4,
   "metadata": {},
   "outputs": [
    {
     "name": "stdout",
     "output_type": "stream",
     "text": [
      "customerID           object\n",
      "gender               object\n",
      "SeniorCitizen         int64\n",
      "Partner              object\n",
      "Dependents           object\n",
      "tenure                int64\n",
      "PhoneService         object\n",
      "MultipleLines        object\n",
      "InternetService      object\n",
      "OnlineSecurity       object\n",
      "OnlineBackup         object\n",
      "DeviceProtection     object\n",
      "TechSupport          object\n",
      "StreamingTV          object\n",
      "StreamingMovies      object\n",
      "Contract             object\n",
      "PaperlessBilling     object\n",
      "PaymentMethod        object\n",
      "MonthlyCharges      float64\n",
      "TotalCharges         object\n",
      "Churn                object\n",
      "dtype: object\n",
      "   customerID  gender  SeniorCitizen Partner Dependents  tenure PhoneService  \\\n",
      "0  7590-VHVEG  Female              0     Yes         No       1           No   \n",
      "1  5575-GNVDE    Male              0      No         No      34          Yes   \n",
      "2  3668-QPYBK    Male              0      No         No       2          Yes   \n",
      "\n",
      "      MultipleLines InternetService OnlineSecurity  ... DeviceProtection  \\\n",
      "0  No phone service             DSL             No  ...               No   \n",
      "1                No             DSL            Yes  ...              Yes   \n",
      "2                No             DSL            Yes  ...               No   \n",
      "\n",
      "  TechSupport StreamingTV StreamingMovies        Contract PaperlessBilling  \\\n",
      "0          No          No              No  Month-to-month              Yes   \n",
      "1          No          No              No        One year               No   \n",
      "2          No          No              No  Month-to-month              Yes   \n",
      "\n",
      "      PaymentMethod MonthlyCharges  TotalCharges Churn  \n",
      "0  Electronic check          29.85         29.85    No  \n",
      "1      Mailed check          56.95        1889.5    No  \n",
      "2      Mailed check          53.85        108.15   Yes  \n",
      "\n",
      "[3 rows x 21 columns]\n",
      "customerID          7043\n",
      "gender                 2\n",
      "SeniorCitizen          2\n",
      "Partner                2\n",
      "Dependents             2\n",
      "tenure                73\n",
      "PhoneService           2\n",
      "MultipleLines          3\n",
      "InternetService        3\n",
      "OnlineSecurity         3\n",
      "OnlineBackup           3\n",
      "DeviceProtection       3\n",
      "TechSupport            3\n",
      "StreamingTV            3\n",
      "StreamingMovies        3\n",
      "Contract               3\n",
      "PaperlessBilling       2\n",
      "PaymentMethod          4\n",
      "MonthlyCharges      1585\n",
      "TotalCharges        6531\n",
      "Churn                  2\n",
      "dtype: int64\n"
     ]
    },
    {
     "data": {
      "text/plain": [
       "customerID          0.0\n",
       "gender              0.0\n",
       "SeniorCitizen       0.0\n",
       "Partner             0.0\n",
       "Dependents          0.0\n",
       "tenure              0.0\n",
       "PhoneService        0.0\n",
       "MultipleLines       0.0\n",
       "InternetService     0.0\n",
       "OnlineSecurity      0.0\n",
       "OnlineBackup        0.0\n",
       "DeviceProtection    0.0\n",
       "TechSupport         0.0\n",
       "StreamingTV         0.0\n",
       "StreamingMovies     0.0\n",
       "Contract            0.0\n",
       "PaperlessBilling    0.0\n",
       "PaymentMethod       0.0\n",
       "MonthlyCharges      0.0\n",
       "TotalCharges        0.0\n",
       "Churn               0.0\n",
       "dtype: float64"
      ]
     },
     "execution_count": 4,
     "metadata": {},
     "output_type": "execute_result"
    }
   ],
   "source": [
    "telco_raw = telco.copy()\n",
    "\n",
    "# print the data types\n",
    "print(telco_raw.dtypes)\n",
    "\n",
    "# print the header\n",
    "print(telco_raw.head(3))\n",
    "\n",
    "# print unique values of each column\n",
    "print(telco_raw.nunique())\n",
    "\n",
    "# check the proportion of missing data\n",
    "telco_raw.isnull().mean()"
   ]
  },
  {
   "cell_type": "code",
   "execution_count": 5,
   "metadata": {},
   "outputs": [
    {
     "name": "stdout",
     "output_type": "stream",
     "text": [
      "Categorical columns: ['gender', 'Partner', 'Dependents', 'PhoneService', 'MultipleLines', 'InternetService', 'OnlineSecurity', 'OnlineBackup', 'DeviceProtection', 'TechSupport', 'StreamingTV', 'StreamingMovies', 'Contract', 'PaperlessBilling', 'PaymentMethod']\n",
      "\n",
      "Numerical columns: ['tenure', 'MonthlyCharges', 'TotalCharges']\n"
     ]
    }
   ],
   "source": [
    "# Store numerical and categorical data\n",
    "\n",
    "## change data type\n",
    "\n",
    "## store customerId and Churn column names\n",
    "custid = ['customerID']\n",
    "target = ['Churn']\n",
    "\n",
    "## store categorical column names\n",
    "categorical = telco_raw.nunique()[telco_raw.nunique()<5].keys().tolist()\n",
    "categorical.remove(target[0])\n",
    "categorical.remove('SeniorCitizen')\n",
    "print(f'Categorical columns: {categorical}')\n",
    "print()\n",
    "\n",
    "## store numerical column names\n",
    "numerical = [col for col in telco_raw.columns\n",
    "                 if col not in custid + target + categorical]\n",
    "numerical.remove('SeniorCitizen')\n",
    "print(f'Numerical columns: {numerical}')"
   ]
  },
  {
   "cell_type": "code",
   "execution_count": 6,
   "metadata": {},
   "outputs": [
    {
     "name": "stdout",
     "output_type": "stream",
     "text": [
      "            tenure  MonthlyCharges\n",
      "count  7043.000000     7043.000000\n",
      "mean     32.371149       64.761692\n",
      "std      24.559481       30.090047\n",
      "min       0.000000       18.250000\n",
      "25%       9.000000       35.500000\n",
      "50%      29.000000       70.350000\n",
      "75%      55.000000       89.850000\n",
      "max      72.000000      118.750000\n",
      "count    7032.000000\n",
      "mean     2283.300441\n",
      "std      2266.771362\n",
      "min        18.800000\n",
      "25%       401.450000\n",
      "50%      1397.475000\n",
      "75%      3794.737500\n",
      "max      8684.800000\n",
      "Name: TotalCharges, dtype: float64\n",
      "       SeniorCitizen       tenure  MonthlyCharges  TotalCharges\n",
      "count    7032.000000  7032.000000     7032.000000   7032.000000\n",
      "mean        0.162400    32.421786       64.798208   2283.300441\n",
      "std         0.368844    24.545260       30.085974   2266.771362\n",
      "min         0.000000     1.000000       18.250000     18.800000\n",
      "25%         0.000000     9.000000       35.587500    401.450000\n",
      "50%         0.000000    29.000000       70.350000   1397.475000\n",
      "75%         0.000000    55.000000       89.862500   3794.737500\n",
      "max         1.000000    72.000000      118.750000   8684.800000\n"
     ]
    }
   ],
   "source": [
    "# check numerical columns' property\n",
    "print(telco_raw[numerical].describe())\n",
    "\n",
    "# convert to numerical datatype\n",
    "telco_raw['TotalCharges'] = pd.to_numeric(telco_raw['TotalCharges'], errors = 'coerce')\n",
    "print(telco_raw['TotalCharges'].describe())\n",
    "\n",
    "# drop na values\n",
    "telco_raw = telco_raw.dropna(axis=0)\n",
    "\n",
    "print(telco_raw.describe())"
   ]
  },
  {
   "attachments": {},
   "cell_type": "markdown",
   "metadata": {},
   "source": [
    "While trying to examine properties of numerical columns, there is only information of two columns showing, and column `TotalCharges` is missing. Which means that TotalCharges needs to be changed its datatype.Therefore, I converted this column by its datatype, from string to float, and to ensure all the value can be changed to numerical values, I set the false one to coerce. After the cleaning process, the entire dataset has 7032 rows instead of original 7043 rows."
   ]
  },
  {
   "cell_type": "code",
   "execution_count": 7,
   "metadata": {},
   "outputs": [],
   "source": [
    "# perform one-hot encoding to categorical variables\n",
    "telco_raw = pd.get_dummies(data=telco_raw, columns = categorical+['Churn'], drop_first = True)\n",
    "\n",
    "# initialize StandardScaler\n",
    "scaler = StandardScaler()\n",
    "\n",
    "# fit and transform the scaler on numerical columns\n",
    "scaled_numerical = scaler.fit_transform(telco_raw[numerical])\n",
    "telco_raw[numerical] = scaled_numerical\n",
    "#scaled_numerical = pd.DataFrame(scaled_numerical, columns = numerical)\n",
    "\n",
    "# change column name\n",
    "telco_raw.rename(columns={'Churn_Yes':'Churn'}, inplace= True)"
   ]
  },
  {
   "attachments": {},
   "cell_type": "markdown",
   "metadata": {},
   "source": [
    "### (1) Predict Churn with Decision Tree\n",
    "\n",
    "The dicision tree is proned to over-fitting, since it will memorize the pattern and use it down to observation level"
   ]
  },
  {
   "cell_type": "code",
   "execution_count": 8,
   "metadata": {},
   "outputs": [],
   "source": [
    "# Preparing training and testing data\n",
    "\n",
    "# obtain features X \n",
    "X = telco_raw.copy()\n",
    "X = X.drop(columns = ['Churn', 'customerID'])\n",
    "X = shuffle(X, random_state=2022)\n",
    "\n",
    "# obtain Y\n",
    "Y = telco_raw.copy()['Churn']\n",
    "#Y = pd.get_dummies(data=Y, drop_first=True)\n",
    "Y = shuffle(Y, random_state=2022)"
   ]
  },
  {
   "cell_type": "code",
   "execution_count": 9,
   "metadata": {},
   "outputs": [
    {
     "name": "stdout",
     "output_type": "stream",
     "text": [
      "0.75\n",
      "0.25\n"
     ]
    }
   ],
   "source": [
    "# split X and Y into training and testing datasets\n",
    "train_X, test_X, train_Y, test_Y = train_test_split(X, Y, test_size = 0.25, random_state = 2022) \n",
    "\n",
    "# ensure the proportion of training data and testing data are 75% and 25%\n",
    "print(train_X.shape[0] / X.shape[0])\n",
    "print(test_X.shape[0] / X.shape[0])"
   ]
  },
  {
   "cell_type": "code",
   "execution_count": 10,
   "metadata": {},
   "outputs": [
    {
     "name": "stdout",
     "output_type": "stream",
     "text": [
      "Accuracy score is : 0.7906712172923777\n"
     ]
    }
   ],
   "source": [
    "# Fit an initial decision tree\n",
    "\n",
    "## Initialize the model \n",
    "mytree = DecisionTreeClassifier(max_depth = 5)\n",
    "\n",
    "## Fit the model on the training data\n",
    "treemodel = mytree.fit(train_X, train_Y)\n",
    "\n",
    "## Predict values on the testing data\n",
    "pred_Y = treemodel.predict(test_X)\n",
    "\n",
    "## Measure model performance on testing data\n",
    "print(f'Accuracy score is : {accuracy_score(test_Y, pred_Y)}')"
   ]
  },
  {
   "cell_type": "code",
   "execution_count": 11,
   "metadata": {},
   "outputs": [
    {
     "name": "stdout",
     "output_type": "stream",
     "text": [
      "Training Accuracy is  0.818\n",
      "Testing Accuracy is  0.782\n"
     ]
    }
   ],
   "source": [
    "# Build a decision tree with different parameters\n",
    "\n",
    "# initialize the Decision Tree\n",
    "clf = DecisionTreeClassifier(max_depth = 7, criterion = 'gini', splitter = 'best')\n",
    "\n",
    "# fit the model\n",
    "clf = clf.fit(train_X, train_Y)\n",
    "\n",
    "# predict the values on test dataset\n",
    "pred_Y = clf.predict(test_X)\n",
    "\n",
    "# print accuracy values\n",
    "print(\"Training Accuracy is \", np.round(clf.score(train_X, train_Y),3))\n",
    "print(\"Testing Accuracy is \", np.round(accuracy_score(test_Y, pred_Y),3))"
   ]
  },
  {
   "attachments": {},
   "cell_type": "markdown",
   "metadata": {},
   "source": [
    "The accuracy score fro training and testing procedure is similar in the case. It means that the pattern are nearly equally memorized and generalized in both data. However, if the training accuracy is a lot higher than testing accuracy, that say 0.98 vs. 0.7, it might indicate that the tree model memorized the pattern and rules for the training data perfectly but failed to generalize the rule for testing data."
   ]
  },
  {
   "cell_type": "code",
   "execution_count": 12,
   "metadata": {},
   "outputs": [
    {
     "data": {
      "text/html": [
       "<div>\n",
       "<style scoped>\n",
       "    .dataframe tbody tr th:only-of-type {\n",
       "        vertical-align: middle;\n",
       "    }\n",
       "\n",
       "    .dataframe tbody tr th {\n",
       "        vertical-align: top;\n",
       "    }\n",
       "\n",
       "    .dataframe thead th {\n",
       "        text-align: right;\n",
       "    }\n",
       "</style>\n",
       "<table border=\"1\" class=\"dataframe\">\n",
       "  <thead>\n",
       "    <tr style=\"text-align: right;\">\n",
       "      <th></th>\n",
       "      <th>Max_depth</th>\n",
       "      <th>Accuracy</th>\n",
       "      <th>Precision</th>\n",
       "      <th>Recall</th>\n",
       "    </tr>\n",
       "  </thead>\n",
       "  <tbody>\n",
       "    <tr>\n",
       "      <th>0</th>\n",
       "      <td>2.0</td>\n",
       "      <td>0.796359</td>\n",
       "      <td>0.689394</td>\n",
       "      <td>0.397380</td>\n",
       "    </tr>\n",
       "    <tr>\n",
       "      <th>1</th>\n",
       "      <td>3.0</td>\n",
       "      <td>0.796359</td>\n",
       "      <td>0.689394</td>\n",
       "      <td>0.397380</td>\n",
       "    </tr>\n",
       "    <tr>\n",
       "      <th>2</th>\n",
       "      <td>4.0</td>\n",
       "      <td>0.792947</td>\n",
       "      <td>0.626344</td>\n",
       "      <td>0.508734</td>\n",
       "    </tr>\n",
       "    <tr>\n",
       "      <th>3</th>\n",
       "      <td>5.0</td>\n",
       "      <td>0.790671</td>\n",
       "      <td>0.610837</td>\n",
       "      <td>0.541485</td>\n",
       "    </tr>\n",
       "    <tr>\n",
       "      <th>4</th>\n",
       "      <td>6.0</td>\n",
       "      <td>0.791240</td>\n",
       "      <td>0.623978</td>\n",
       "      <td>0.500000</td>\n",
       "    </tr>\n",
       "    <tr>\n",
       "      <th>5</th>\n",
       "      <td>7.0</td>\n",
       "      <td>0.781570</td>\n",
       "      <td>0.620130</td>\n",
       "      <td>0.417031</td>\n",
       "    </tr>\n",
       "    <tr>\n",
       "      <th>6</th>\n",
       "      <td>8.0</td>\n",
       "      <td>0.774175</td>\n",
       "      <td>0.578406</td>\n",
       "      <td>0.491266</td>\n",
       "    </tr>\n",
       "    <tr>\n",
       "      <th>7</th>\n",
       "      <td>9.0</td>\n",
       "      <td>0.762230</td>\n",
       "      <td>0.549261</td>\n",
       "      <td>0.486900</td>\n",
       "    </tr>\n",
       "    <tr>\n",
       "      <th>8</th>\n",
       "      <td>10.0</td>\n",
       "      <td>0.741752</td>\n",
       "      <td>0.504878</td>\n",
       "      <td>0.451965</td>\n",
       "    </tr>\n",
       "    <tr>\n",
       "      <th>9</th>\n",
       "      <td>11.0</td>\n",
       "      <td>0.749716</td>\n",
       "      <td>0.522727</td>\n",
       "      <td>0.451965</td>\n",
       "    </tr>\n",
       "    <tr>\n",
       "      <th>10</th>\n",
       "      <td>12.0</td>\n",
       "      <td>0.723549</td>\n",
       "      <td>0.466507</td>\n",
       "      <td>0.425764</td>\n",
       "    </tr>\n",
       "    <tr>\n",
       "      <th>11</th>\n",
       "      <td>13.0</td>\n",
       "      <td>0.730944</td>\n",
       "      <td>0.483370</td>\n",
       "      <td>0.475983</td>\n",
       "    </tr>\n",
       "    <tr>\n",
       "      <th>12</th>\n",
       "      <td>14.0</td>\n",
       "      <td>0.725825</td>\n",
       "      <td>0.472093</td>\n",
       "      <td>0.443231</td>\n",
       "    </tr>\n",
       "  </tbody>\n",
       "</table>\n",
       "</div>"
      ],
      "text/plain": [
       "    Max_depth  Accuracy  Precision    Recall\n",
       "0         2.0  0.796359   0.689394  0.397380\n",
       "1         3.0  0.796359   0.689394  0.397380\n",
       "2         4.0  0.792947   0.626344  0.508734\n",
       "3         5.0  0.790671   0.610837  0.541485\n",
       "4         6.0  0.791240   0.623978  0.500000\n",
       "5         7.0  0.781570   0.620130  0.417031\n",
       "6         8.0  0.774175   0.578406  0.491266\n",
       "7         9.0  0.762230   0.549261  0.486900\n",
       "8        10.0  0.741752   0.504878  0.451965\n",
       "9        11.0  0.749716   0.522727  0.451965\n",
       "10       12.0  0.723549   0.466507  0.425764\n",
       "11       13.0  0.730944   0.483370  0.475983\n",
       "12       14.0  0.725825   0.472093  0.443231"
      ]
     },
     "execution_count": 12,
     "metadata": {},
     "output_type": "execute_result"
    }
   ],
   "source": [
    "# Tuning the parameter 'max_depth'\n",
    "\n",
    "# Run a for loop over the range of depth list length\n",
    "depth_list = list(range(2,15))\n",
    "depth_tuning = np.zeros((len(depth_list),4))\n",
    "depth_tuning[:,0] = depth_list\n",
    "for index in range(0,len(depth_list)):\n",
    "    mytree = DecisionTreeClassifier(max_depth=depth_list[index])\n",
    "    mytree.fit(train_X, train_Y)\n",
    "    pred_test_Y = mytree.predict(test_X)\n",
    "    depth_tuning[index,1] = accuracy_score(test_Y, pred_test_Y)\n",
    "    depth_tuning[index,2] = precision_score(test_Y, pred_test_Y)\n",
    "    depth_tuning[index,3] = recall_score(test_Y, pred_test_Y)\n",
    "\n",
    "depth_tuning_df = pd.DataFrame(depth_tuning, columns=['Max_depth', 'Accuracy', 'Precision', 'Recall'])\n",
    "depth_tuning_df"
   ]
  },
  {
   "cell_type": "code",
   "execution_count": 13,
   "metadata": {},
   "outputs": [
    {
     "data": {
      "image/png": "[encoded data removed]",
      "text/plain": [
       "<Figure size 432x288 with 1 Axes>"
      ]
     },
     "metadata": {
      "needs_background": "light"
     },
     "output_type": "display_data"
    }
   ],
   "source": [
    "# Visualize the performance in a plot\n",
    "plt.plot(depth_tuning_df['Max_depth'], depth_tuning_df['Accuracy'], label = 'Accuracy')\n",
    "plt.plot(depth_tuning_df['Max_depth'], depth_tuning_df['Precision'], label = 'Precision')\n",
    "plt.plot(depth_tuning_df['Max_depth'], depth_tuning_df['Recall'], label = 'Recall')\n",
    "plt.legend()\n",
    "plt.show()"
   ]
  },
  {
   "attachments": {},
   "cell_type": "markdown",
   "metadata": {},
   "source": [
    "From the plot, it seems that 6 is a good choice for the tree depth, since it got higher accuracy and precision but also has a good recall. It means that it can well identify churn customers well as well as classify the churn customers."
   ]
  },
  {
   "cell_type": "code",
   "execution_count": 14,
   "metadata": {},
   "outputs": [
    {
     "name": "stdout",
     "output_type": "stream",
     "text": [
      "Training Accuracy is  0.809\n",
      "Testing Accuracy is  0.791\n"
     ]
    }
   ],
   "source": [
    "# Build second model with tuning parameter\n",
    "\n",
    "mytree_tuned = DecisionTreeClassifier(max_depth=6)\n",
    "mytree_tuned.fit(train_X,train_Y)\n",
    "pred_test_Y = mytree_tuned.predict(test_X)\n",
    "print(\"Training Accuracy is \", np.round(mytree_tuned.score(train_X, train_Y),3))\n",
    "print(\"Testing Accuracy is \", np.round(accuracy_score(test_Y, pred_test_Y),3))"
   ]
  },
  {
   "cell_type": "code",
   "execution_count": 15,
   "metadata": {},
   "outputs": [
    {
     "data": {
      "image/svg+xml": "<?xml version=\"1.0\" encoding=\"UTF-8\" standalone=\"no\"?>\n<!DOCTYPE svg PUBLIC \"-//W3C//DTD SVG 1.1//EN\"\n \"http://www.w3.org/Graphics/SVG/1.1/DTD/svg11.dtd\">\n<!-- Generated by graphviz version 2.50.0 (0)\n -->\n<!-- Title: Tree Pages: 1 -->\n<svg width=\"6769pt\" height=\"790pt\"\n viewBox=\"0.00 0.00 6769.00 790.00\" xmlns=\"http://www.w3.org/2000/svg\" xmlns:xlink=\"http://www.w3.org/1999/xlink\">\n<g id=\"graph0\" class=\"graph\" transform=\"scale(1 1) rotate(0) translate(4 786)\">\n<title>Tree</title>\n<polygon fill=\"white\" stroke=\"transparent\" points=\"-4,4 -4,-786 6765,-786 6765,4 -4,4\"/>\n<!-- 0 -->\n<g id=\"node1\" class=\"node\">\n<title>0</title>\n<polygon fill=\"#eeaf81\" stroke=\"black\" points=\"3129.5,-782 2997.5,-782 2997.5,-699 3129.5,-699 3129.5,-782\"/>\n<text text-anchor=\"middle\" x=\"3063.5\" y=\"-766.8\" font-family=\"Times,serif\" font-size=\"14.00\">tenure &lt;= &#45;0.6</text>\n<text text-anchor=\"middle\" x=\"3063.5\" y=\"-751.8\" font-family=\"Times,serif\" font-size=\"14.00\">gini = 0.4</text>\n<text text-anchor=\"middle\" x=\"3063.5\" y=\"-736.8\" font-family=\"Times,serif\" font-size=\"14.00\">samples = 5274</text>\n<text text-anchor=\"middle\" x=\"3063.5\" y=\"-721.8\" font-family=\"Times,serif\" font-size=\"14.00\">value = [3863, 1411]</text>\n<text text-anchor=\"middle\" x=\"3063.5\" y=\"-706.8\" font-family=\"Times,serif\" font-size=\"14.00\">class = Not churn</text>\n</g>\n<!-- 1 -->\n<g id=\"node2\" class=\"node\">\n<title>1</title>\n<polygon fill=\"#fbeade\" stroke=\"black\" points=\"2287.5,-663 2081.5,-663 2081.5,-580 2287.5,-580 2287.5,-663\"/>\n<text text-anchor=\"middle\" x=\"2184.5\" y=\"-647.8\" font-family=\"Times,serif\" font-size=\"14.00\">InternetService_Fiber optic &lt;= 0.5</text>\n<text text-anchor=\"middle\" x=\"2184.5\" y=\"-632.8\" font-family=\"Times,serif\" font-size=\"14.00\">gini = 0.5</text>\n<text text-anchor=\"middle\" x=\"2184.5\" y=\"-617.8\" font-family=\"Times,serif\" font-size=\"14.00\">samples = 1941</text>\n<text text-anchor=\"middle\" x=\"2184.5\" y=\"-602.8\" font-family=\"Times,serif\" font-size=\"14.00\">value = [1059, 882]</text>\n<text text-anchor=\"middle\" x=\"2184.5\" y=\"-587.8\" font-family=\"Times,serif\" font-size=\"14.00\">class = Not churn</text>\n</g>\n<!-- 0&#45;&gt;1 -->\n<g id=\"edge1\" class=\"edge\">\n<title>0&#45;&gt;1</title>\n<path fill=\"none\" stroke=\"black\" d=\"M2997.43,-730.71C2848.26,-710.85 2483.9,-662.35 2297.85,-637.59\"/>\n<polygon fill=\"black\" stroke=\"black\" points=\"2298.14,-634.1 2287.77,-636.25 2297.22,-641.03 2298.14,-634.1\"/>\n<text text-anchor=\"middle\" x=\"2302.96\" y=\"-652.4\" font-family=\"Times,serif\" font-size=\"14.00\">True</text>\n</g>\n<!-- 56 -->\n<g id=\"node57\" class=\"node\">\n<title>56</title>\n<polygon fill=\"#ea995e\" stroke=\"black\" points=\"4190.5,-663 3984.5,-663 3984.5,-580 4190.5,-580 4190.5,-663\"/>\n<text text-anchor=\"middle\" x=\"4087.5\" y=\"-647.8\" font-family=\"Times,serif\" font-size=\"14.00\">InternetService_Fiber optic &lt;= 0.5</text>\n<text text-anchor=\"middle\" x=\"4087.5\" y=\"-632.8\" font-family=\"Times,serif\" font-size=\"14.00\">gini = 0.3</text>\n<text text-anchor=\"middle\" x=\"4087.5\" y=\"-617.8\" font-family=\"Times,serif\" font-size=\"14.00\">samples = 3333</text>\n<text text-anchor=\"middle\" x=\"4087.5\" y=\"-602.8\" font-family=\"Times,serif\" font-size=\"14.00\">value = [2804, 529]</text>\n<text text-anchor=\"middle\" x=\"4087.5\" y=\"-587.8\" font-family=\"Times,serif\" font-size=\"14.00\">class = Not churn</text>\n</g>\n<!-- 0&#45;&gt;56 -->\n<g id=\"edge56\" class=\"edge\">\n<title>0&#45;&gt;56</title>\n<path fill=\"none\" stroke=\"black\" d=\"M3129.51,-731.96C3300.62,-712.41 3760.08,-659.91 3974.45,-635.42\"/>\n<polygon fill=\"black\" stroke=\"black\" points=\"3974.94,-638.88 3984.47,-634.27 3974.14,-631.93 3974.94,-638.88\"/>\n<text text-anchor=\"middle\" x=\"3968.92\" y=\"-650.14\" font-family=\"Times,serif\" font-size=\"14.00\">False</text>\n</g>\n<!-- 2 -->\n<g id=\"node3\" class=\"node\">\n<title>2</title>\n<polygon fill=\"#f0b48a\" stroke=\"black\" points=\"1376,-544 1257,-544 1257,-461 1376,-461 1376,-544\"/>\n<text text-anchor=\"middle\" x=\"1316.5\" y=\"-528.8\" font-family=\"Times,serif\" font-size=\"14.00\">tenure &lt;= &#45;1.1</text>\n<text text-anchor=\"middle\" x=\"1316.5\" y=\"-513.8\" font-family=\"Times,serif\" font-size=\"14.00\">gini = 0.4</text>\n<text text-anchor=\"middle\" x=\"1316.5\" y=\"-498.8\" font-family=\"Times,serif\" font-size=\"14.00\">samples = 1117</text>\n<text text-anchor=\"middle\" x=\"1316.5\" y=\"-483.8\" font-family=\"Times,serif\" font-size=\"14.00\">value = [793, 324]</text>\n<text text-anchor=\"middle\" x=\"1316.5\" y=\"-468.8\" font-family=\"Times,serif\" font-size=\"14.00\">class = Not churn</text>\n</g>\n<!-- 1&#45;&gt;2 -->\n<g id=\"edge2\" class=\"edge\">\n<title>1&#45;&gt;2</title>\n<path fill=\"none\" stroke=\"black\" d=\"M2081.09,-606.56C1902.02,-582.42 1538.77,-533.46 1386.33,-512.91\"/>\n<polygon fill=\"black\" stroke=\"black\" points=\"1386.54,-509.41 1376.16,-511.54 1385.6,-516.35 1386.54,-509.41\"/>\n</g>\n<!-- 31 -->\n<g id=\"node32\" class=\"node\">\n<title>31</title>\n<polygon fill=\"#97ccf1\" stroke=\"black\" points=\"2251.5,-544 2117.5,-544 2117.5,-461 2251.5,-461 2251.5,-544\"/>\n<text text-anchor=\"middle\" x=\"2184.5\" y=\"-528.8\" font-family=\"Times,serif\" font-size=\"14.00\">TotalCharges &lt;= &#45;1.0</text>\n<text text-anchor=\"middle\" x=\"2184.5\" y=\"-513.8\" font-family=\"Times,serif\" font-size=\"14.00\">gini = 0.4</text>\n<text text-anchor=\"middle\" x=\"2184.5\" y=\"-498.8\" font-family=\"Times,serif\" font-size=\"14.00\">samples = 824</text>\n<text text-anchor=\"middle\" x=\"2184.5\" y=\"-483.8\" font-family=\"Times,serif\" font-size=\"14.00\">value = [266, 558]</text>\n<text text-anchor=\"middle\" x=\"2184.5\" y=\"-468.8\" font-family=\"Times,serif\" font-size=\"14.00\">class = Churn</text>\n</g>\n<!-- 1&#45;&gt;31 -->\n<g id=\"edge31\" class=\"edge\">\n<title>1&#45;&gt;31</title>\n<path fill=\"none\" stroke=\"black\" d=\"M2184.5,-579.91C2184.5,-571.65 2184.5,-562.86 2184.5,-554.3\"/>\n<polygon fill=\"black\" stroke=\"black\" points=\"2188,-554.02 2184.5,-544.02 2181,-554.02 2188,-554.02\"/>\n</g>\n<!-- 3 -->\n<g id=\"node4\" class=\"node\">\n<title>3</title>\n<polygon fill=\"#f6d4bc\" stroke=\"black\" points=\"893.5,-425 647.5,-425 647.5,-342 893.5,-342 893.5,-425\"/>\n<text text-anchor=\"middle\" x=\"770.5\" y=\"-409.8\" font-family=\"Times,serif\" font-size=\"14.00\">OnlineBackup_No internet service &lt;= 0.5</text>\n<text text-anchor=\"middle\" x=\"770.5\" y=\"-394.8\" font-family=\"Times,serif\" font-size=\"14.00\">gini = 0.5</text>\n<text text-anchor=\"middle\" x=\"770.5\" y=\"-379.8\" font-family=\"Times,serif\" font-size=\"14.00\">samples = 601</text>\n<text text-anchor=\"middle\" x=\"770.5\" y=\"-364.8\" font-family=\"Times,serif\" font-size=\"14.00\">value = [362, 239]</text>\n<text text-anchor=\"middle\" x=\"770.5\" y=\"-349.8\" font-family=\"Times,serif\" font-size=\"14.00\">class = Not churn</text>\n</g>\n<!-- 2&#45;&gt;3 -->\n<g id=\"edge3\" class=\"edge\">\n<title>2&#45;&gt;3</title>\n<path fill=\"none\" stroke=\"black\" d=\"M1256.77,-488.7C1172.49,-470.64 1016.42,-437.2 903.79,-413.06\"/>\n<polygon fill=\"black\" stroke=\"black\" points=\"904.22,-409.57 893.71,-410.9 902.75,-416.42 904.22,-409.57\"/>\n</g>\n<!-- 18 -->\n<g id=\"node19\" class=\"node\">\n<title>18</title>\n<polygon fill=\"#ea9a60\" stroke=\"black\" points=\"1393.5,-425 1239.5,-425 1239.5,-342 1393.5,-342 1393.5,-425\"/>\n<text text-anchor=\"middle\" x=\"1316.5\" y=\"-409.8\" font-family=\"Times,serif\" font-size=\"14.00\">MonthlyCharges &lt;= &#45;1.2</text>\n<text text-anchor=\"middle\" x=\"1316.5\" y=\"-394.8\" font-family=\"Times,serif\" font-size=\"14.00\">gini = 0.3</text>\n<text text-anchor=\"middle\" x=\"1316.5\" y=\"-379.8\" font-family=\"Times,serif\" font-size=\"14.00\">samples = 516</text>\n<text text-anchor=\"middle\" x=\"1316.5\" y=\"-364.8\" font-family=\"Times,serif\" font-size=\"14.00\">value = [431, 85]</text>\n<text text-anchor=\"middle\" x=\"1316.5\" y=\"-349.8\" font-family=\"Times,serif\" font-size=\"14.00\">class = Not churn</text>\n</g>\n<!-- 2&#45;&gt;18 -->\n<g id=\"edge18\" class=\"edge\">\n<title>2&#45;&gt;18</title>\n<path fill=\"none\" stroke=\"black\" d=\"M1316.5,-460.91C1316.5,-452.65 1316.5,-443.86 1316.5,-435.3\"/>\n<polygon fill=\"black\" stroke=\"black\" points=\"1320,-435.02 1316.5,-425.02 1313,-435.02 1320,-435.02\"/>\n</g>\n<!-- 4 -->\n<g id=\"node5\" class=\"node\">\n<title>4</title>\n<polygon fill=\"#f7fbfe\" stroke=\"black\" points=\"471.5,-306 317.5,-306 317.5,-223 471.5,-223 471.5,-306\"/>\n<text text-anchor=\"middle\" x=\"394.5\" y=\"-290.8\" font-family=\"Times,serif\" font-size=\"14.00\">MonthlyCharges &lt;= &#45;0.3</text>\n<text text-anchor=\"middle\" x=\"394.5\" y=\"-275.8\" font-family=\"Times,serif\" font-size=\"14.00\">gini = 0.5</text>\n<text text-anchor=\"middle\" x=\"394.5\" y=\"-260.8\" font-family=\"Times,serif\" font-size=\"14.00\">samples = 359</text>\n<text text-anchor=\"middle\" x=\"394.5\" y=\"-245.8\" font-family=\"Times,serif\" font-size=\"14.00\">value = [176, 183]</text>\n<text text-anchor=\"middle\" x=\"394.5\" y=\"-230.8\" font-family=\"Times,serif\" font-size=\"14.00\">class = Churn</text>\n</g>\n<!-- 3&#45;&gt;4 -->\n<g id=\"edge4\" class=\"edge\">\n<title>3&#45;&gt;4</title>\n<path fill=\"none\" stroke=\"black\" d=\"M647.38,-344.19C593.07,-327.29 530.52,-307.83 481.22,-292.48\"/>\n<polygon fill=\"black\" stroke=\"black\" points=\"482.13,-289.1 471.54,-289.47 480.05,-295.79 482.13,-289.1\"/>\n</g>\n<!-- 11 -->\n<g id=\"node12\" class=\"node\">\n<title>11</title>\n<polygon fill=\"#eda775\" stroke=\"black\" points=\"837.5,-306 703.5,-306 703.5,-223 837.5,-223 837.5,-306\"/>\n<text text-anchor=\"middle\" x=\"770.5\" y=\"-290.8\" font-family=\"Times,serif\" font-size=\"14.00\">TotalCharges &lt;= &#45;1.0</text>\n<text text-anchor=\"middle\" x=\"770.5\" y=\"-275.8\" font-family=\"Times,serif\" font-size=\"14.00\">gini = 0.4</text>\n<text text-anchor=\"middle\" x=\"770.5\" y=\"-260.8\" font-family=\"Times,serif\" font-size=\"14.00\">samples = 242</text>\n<text text-anchor=\"middle\" x=\"770.5\" y=\"-245.8\" font-family=\"Times,serif\" font-size=\"14.00\">value = [186, 56]</text>\n<text text-anchor=\"middle\" x=\"770.5\" y=\"-230.8\" font-family=\"Times,serif\" font-size=\"14.00\">class = Not churn</text>\n</g>\n<!-- 3&#45;&gt;11 -->\n<g id=\"edge11\" class=\"edge\">\n<title>3&#45;&gt;11</title>\n<path fill=\"none\" stroke=\"black\" d=\"M770.5,-341.91C770.5,-333.65 770.5,-324.86 770.5,-316.3\"/>\n<polygon fill=\"black\" stroke=\"black\" points=\"774,-316.02 770.5,-306.02 767,-316.02 774,-316.02\"/>\n</g>\n<!-- 5 -->\n<g id=\"node6\" class=\"node\">\n<title>5</title>\n<polygon fill=\"#dceefa\" stroke=\"black\" points=\"274,-187 101,-187 101,-104 274,-104 274,-187\"/>\n<text text-anchor=\"middle\" x=\"187.5\" y=\"-171.8\" font-family=\"Times,serif\" font-size=\"14.00\">PaperlessBilling_Yes &lt;= 0.5</text>\n<text text-anchor=\"middle\" x=\"187.5\" y=\"-156.8\" font-family=\"Times,serif\" font-size=\"14.00\">gini = 0.5</text>\n<text text-anchor=\"middle\" x=\"187.5\" y=\"-141.8\" font-family=\"Times,serif\" font-size=\"14.00\">samples = 292</text>\n<text text-anchor=\"middle\" x=\"187.5\" y=\"-126.8\" font-family=\"Times,serif\" font-size=\"14.00\">value = [132, 160]</text>\n<text text-anchor=\"middle\" x=\"187.5\" y=\"-111.8\" font-family=\"Times,serif\" font-size=\"14.00\">class = Churn</text>\n</g>\n<!-- 4&#45;&gt;5 -->\n<g id=\"edge5\" class=\"edge\">\n<title>4&#45;&gt;5</title>\n<path fill=\"none\" stroke=\"black\" d=\"M322.68,-222.91C305.02,-212.92 286,-202.17 267.96,-191.98\"/>\n<polygon fill=\"black\" stroke=\"black\" points=\"269.62,-188.89 259.19,-187.02 266.17,-194.99 269.62,-188.89\"/>\n</g>\n<!-- 8 -->\n<g id=\"node9\" class=\"node\">\n<title>8</title>\n<polygon fill=\"#f3c3a0\" stroke=\"black\" points=\"461.5,-187 327.5,-187 327.5,-104 461.5,-104 461.5,-187\"/>\n<text text-anchor=\"middle\" x=\"394.5\" y=\"-171.8\" font-family=\"Times,serif\" font-size=\"14.00\">TotalCharges &lt;= &#45;1.0</text>\n<text text-anchor=\"middle\" x=\"394.5\" y=\"-156.8\" font-family=\"Times,serif\" font-size=\"14.00\">gini = 0.5</text>\n<text text-anchor=\"middle\" x=\"394.5\" y=\"-141.8\" font-family=\"Times,serif\" font-size=\"14.00\">samples = 67</text>\n<text text-anchor=\"middle\" x=\"394.5\" y=\"-126.8\" font-family=\"Times,serif\" font-size=\"14.00\">value = [44, 23]</text>\n<text text-anchor=\"middle\" x=\"394.5\" y=\"-111.8\" font-family=\"Times,serif\" font-size=\"14.00\">class = Not churn</text>\n</g>\n<!-- 4&#45;&gt;8 -->\n<g id=\"edge8\" class=\"edge\">\n<title>4&#45;&gt;8</title>\n<path fill=\"none\" stroke=\"black\" d=\"M394.5,-222.91C394.5,-214.65 394.5,-205.86 394.5,-197.3\"/>\n<polygon fill=\"black\" stroke=\"black\" points=\"398,-197.02 394.5,-187.02 391,-197.02 398,-197.02\"/>\n</g>\n<!-- 6 -->\n<g id=\"node7\" class=\"node\">\n<title>6</title>\n<polygon fill=\"#fbeade\" stroke=\"black\" points=\"113,-68 0,-68 0,0 113,0 113,-68\"/>\n<text text-anchor=\"middle\" x=\"56.5\" y=\"-52.8\" font-family=\"Times,serif\" font-size=\"14.00\">gini = 0.5</text>\n<text text-anchor=\"middle\" x=\"56.5\" y=\"-37.8\" font-family=\"Times,serif\" font-size=\"14.00\">samples = 130</text>\n<text text-anchor=\"middle\" x=\"56.5\" y=\"-22.8\" font-family=\"Times,serif\" font-size=\"14.00\">value = [71, 59]</text>\n<text text-anchor=\"middle\" x=\"56.5\" y=\"-7.8\" font-family=\"Times,serif\" font-size=\"14.00\">class = Not churn</text>\n</g>\n<!-- 5&#45;&gt;6 -->\n<g id=\"edge6\" class=\"edge\">\n<title>5&#45;&gt;6</title>\n<path fill=\"none\" stroke=\"black\" d=\"M138.72,-103.73C127.37,-94.24 115.31,-84.16 104.01,-74.72\"/>\n<polygon fill=\"black\" stroke=\"black\" points=\"106.26,-72.03 96.34,-68.3 101.77,-77.4 106.26,-72.03\"/>\n</g>\n<!-- 7 -->\n<g id=\"node8\" class=\"node\">\n<title>7</title>\n<polygon fill=\"#b1d8f5\" stroke=\"black\" points=\"243.5,-68 131.5,-68 131.5,0 243.5,0 243.5,-68\"/>\n<text text-anchor=\"middle\" x=\"187.5\" y=\"-52.8\" font-family=\"Times,serif\" font-size=\"14.00\">gini = 0.5</text>\n<text text-anchor=\"middle\" x=\"187.5\" y=\"-37.8\" font-family=\"Times,serif\" font-size=\"14.00\">samples = 162</text>\n<text text-anchor=\"middle\" x=\"187.5\" y=\"-22.8\" font-family=\"Times,serif\" font-size=\"14.00\">value = [61, 101]</text>\n<text text-anchor=\"middle\" x=\"187.5\" y=\"-7.8\" font-family=\"Times,serif\" font-size=\"14.00\">class = Churn</text>\n</g>\n<!-- 5&#45;&gt;7 -->\n<g id=\"edge7\" class=\"edge\">\n<title>5&#45;&gt;7</title>\n<path fill=\"none\" stroke=\"black\" d=\"M187.5,-103.73C187.5,-95.52 187.5,-86.86 187.5,-78.56\"/>\n<polygon fill=\"black\" stroke=\"black\" points=\"191,-78.3 187.5,-68.3 184,-78.3 191,-78.3\"/>\n</g>\n<!-- 9 -->\n<g id=\"node10\" class=\"node\">\n<title>9</title>\n<polygon fill=\"#b5daf5\" stroke=\"black\" points=\"353.5,-68 261.5,-68 261.5,0 353.5,0 353.5,-68\"/>\n<text text-anchor=\"middle\" x=\"307.5\" y=\"-52.8\" font-family=\"Times,serif\" font-size=\"14.00\">gini = 0.5</text>\n<text text-anchor=\"middle\" x=\"307.5\" y=\"-37.8\" font-family=\"Times,serif\" font-size=\"14.00\">samples = 13</text>\n<text text-anchor=\"middle\" x=\"307.5\" y=\"-22.8\" font-family=\"Times,serif\" font-size=\"14.00\">value = [5, 8]</text>\n<text text-anchor=\"middle\" x=\"307.5\" y=\"-7.8\" font-family=\"Times,serif\" font-size=\"14.00\">class = Churn</text>\n</g>\n<!-- 8&#45;&gt;9 -->\n<g id=\"edge9\" class=\"edge\">\n<title>8&#45;&gt;9</title>\n<path fill=\"none\" stroke=\"black\" d=\"M362.1,-103.73C355,-94.79 347.48,-85.32 340.36,-76.36\"/>\n<polygon fill=\"black\" stroke=\"black\" points=\"342.92,-73.95 333.96,-68.3 337.44,-78.31 342.92,-73.95\"/>\n</g>\n<!-- 10 -->\n<g id=\"node11\" class=\"node\">\n<title>10</title>\n<polygon fill=\"#efb185\" stroke=\"black\" points=\"485,-68 372,-68 372,0 485,0 485,-68\"/>\n<text text-anchor=\"middle\" x=\"428.5\" y=\"-52.8\" font-family=\"Times,serif\" font-size=\"14.00\">gini = 0.4</text>\n<text text-anchor=\"middle\" x=\"428.5\" y=\"-37.8\" font-family=\"Times,serif\" font-size=\"14.00\">samples = 54</text>\n<text text-anchor=\"middle\" x=\"428.5\" y=\"-22.8\" font-family=\"Times,serif\" font-size=\"14.00\">value = [39, 15]</text>\n<text text-anchor=\"middle\" x=\"428.5\" y=\"-7.8\" font-family=\"Times,serif\" font-size=\"14.00\">class = Not churn</text>\n</g>\n<!-- 8&#45;&gt;10 -->\n<g id=\"edge10\" class=\"edge\">\n<title>8&#45;&gt;10</title>\n<path fill=\"none\" stroke=\"black\" d=\"M407.16,-103.73C409.77,-95.34 412.52,-86.47 415.15,-78.01\"/>\n<polygon fill=\"black\" stroke=\"black\" points=\"418.54,-78.89 418.16,-68.3 411.85,-76.81 418.54,-78.89\"/>\n</g>\n<!-- 12 -->\n<g id=\"node13\" class=\"node\">\n<title>12</title>\n<polygon fill=\"#f2c09c\" stroke=\"black\" points=\"798,-187 515,-187 515,-104 798,-104 798,-187\"/>\n<text text-anchor=\"middle\" x=\"656.5\" y=\"-171.8\" font-family=\"Times,serif\" font-size=\"14.00\">PaymentMethod_Credit card (automatic) &lt;= 0.5</text>\n<text text-anchor=\"middle\" x=\"656.5\" y=\"-156.8\" font-family=\"Times,serif\" font-size=\"14.00\">gini = 0.4</text>\n<text text-anchor=\"middle\" x=\"656.5\" y=\"-141.8\" font-family=\"Times,serif\" font-size=\"14.00\">samples = 138</text>\n<text text-anchor=\"middle\" x=\"656.5\" y=\"-126.8\" font-family=\"Times,serif\" font-size=\"14.00\">value = [92, 46]</text>\n<text text-anchor=\"middle\" x=\"656.5\" y=\"-111.8\" font-family=\"Times,serif\" font-size=\"14.00\">class = Not churn</text>\n</g>\n<!-- 11&#45;&gt;12 -->\n<g id=\"edge12\" class=\"edge\">\n<title>11&#45;&gt;12</title>\n<path fill=\"none\" stroke=\"black\" d=\"M730.95,-222.91C721.93,-213.65 712.26,-203.73 702.99,-194.21\"/>\n<polygon fill=\"black\" stroke=\"black\" points=\"705.47,-191.74 695.98,-187.02 700.45,-196.63 705.47,-191.74\"/>\n</g>\n<!-- 15 -->\n<g id=\"node16\" class=\"node\">\n<title>15</title>\n<polygon fill=\"#e88e4e\" stroke=\"black\" points=\"950.5,-187 816.5,-187 816.5,-104 950.5,-104 950.5,-187\"/>\n<text text-anchor=\"middle\" x=\"883.5\" y=\"-171.8\" font-family=\"Times,serif\" font-size=\"14.00\">TotalCharges &lt;= &#45;0.9</text>\n<text text-anchor=\"middle\" x=\"883.5\" y=\"-156.8\" font-family=\"Times,serif\" font-size=\"14.00\">gini = 0.2</text>\n<text text-anchor=\"middle\" x=\"883.5\" y=\"-141.8\" font-family=\"Times,serif\" font-size=\"14.00\">samples = 104</text>\n<text text-anchor=\"middle\" x=\"883.5\" y=\"-126.8\" font-family=\"Times,serif\" font-size=\"14.00\">value = [94, 10]</text>\n<text text-anchor=\"middle\" x=\"883.5\" y=\"-111.8\" font-family=\"Times,serif\" font-size=\"14.00\">class = Not churn</text>\n</g>\n<!-- 11&#45;&gt;15 -->\n<g id=\"edge15\" class=\"edge\">\n<title>11&#45;&gt;15</title>\n<path fill=\"none\" stroke=\"black\" d=\"M809.7,-222.91C818.56,-213.74 828.04,-203.93 837.15,-194.49\"/>\n<polygon fill=\"black\" stroke=\"black\" points=\"839.93,-196.65 844.36,-187.02 834.9,-191.78 839.93,-196.65\"/>\n</g>\n<!-- 13 -->\n<g id=\"node14\" class=\"node\">\n<title>13</title>\n<polygon fill=\"#f3c6a6\" stroke=\"black\" points=\"616,-68 503,-68 503,0 616,0 616,-68\"/>\n<text text-anchor=\"middle\" x=\"559.5\" y=\"-52.8\" font-family=\"Times,serif\" font-size=\"14.00\">gini = 0.5</text>\n<text text-anchor=\"middle\" x=\"559.5\" y=\"-37.8\" font-family=\"Times,serif\" font-size=\"14.00\">samples = 127</text>\n<text text-anchor=\"middle\" x=\"559.5\" y=\"-22.8\" font-family=\"Times,serif\" font-size=\"14.00\">value = [82, 45]</text>\n<text text-anchor=\"middle\" x=\"559.5\" y=\"-7.8\" font-family=\"Times,serif\" font-size=\"14.00\">class = Not churn</text>\n</g>\n<!-- 12&#45;&gt;13 -->\n<g id=\"edge13\" class=\"edge\">\n<title>12&#45;&gt;13</title>\n<path fill=\"none\" stroke=\"black\" d=\"M620.38,-103.73C612.3,-94.61 603.73,-84.93 595.65,-75.81\"/>\n<polygon fill=\"black\" stroke=\"black\" points=\"598.25,-73.46 589,-68.3 593.01,-78.11 598.25,-73.46\"/>\n</g>\n<!-- 14 -->\n<g id=\"node15\" class=\"node\">\n<title>14</title>\n<polygon fill=\"#e88e4d\" stroke=\"black\" points=\"747,-68 634,-68 634,0 747,0 747,-68\"/>\n<text text-anchor=\"middle\" x=\"690.5\" y=\"-52.8\" font-family=\"Times,serif\" font-size=\"14.00\">gini = 0.2</text>\n<text text-anchor=\"middle\" x=\"690.5\" y=\"-37.8\" font-family=\"Times,serif\" font-size=\"14.00\">samples = 11</text>\n<text text-anchor=\"middle\" x=\"690.5\" y=\"-22.8\" font-family=\"Times,serif\" font-size=\"14.00\">value = [10, 1]</text>\n<text text-anchor=\"middle\" x=\"690.5\" y=\"-7.8\" font-family=\"Times,serif\" font-size=\"14.00\">class = Not churn</text>\n</g>\n<!-- 12&#45;&gt;14 -->\n<g id=\"edge14\" class=\"edge\">\n<title>12&#45;&gt;14</title>\n<path fill=\"none\" stroke=\"black\" d=\"M669.16,-103.73C671.77,-95.34 674.52,-86.47 677.15,-78.01\"/>\n<polygon fill=\"black\" stroke=\"black\" points=\"680.54,-78.89 680.16,-68.3 673.85,-76.81 680.54,-78.89\"/>\n</g>\n<!-- 16 -->\n<g id=\"node17\" class=\"node\">\n<title>16</title>\n<polygon fill=\"#e78d4c\" stroke=\"black\" points=\"878,-68 765,-68 765,0 878,0 878,-68\"/>\n<text text-anchor=\"middle\" x=\"821.5\" y=\"-52.8\" font-family=\"Times,serif\" font-size=\"14.00\">gini = 0.2</text>\n<text text-anchor=\"middle\" x=\"821.5\" y=\"-37.8\" font-family=\"Times,serif\" font-size=\"14.00\">samples = 103</text>\n<text text-anchor=\"middle\" x=\"821.5\" y=\"-22.8\" font-family=\"Times,serif\" font-size=\"14.00\">value = [94, 9]</text>\n<text text-anchor=\"middle\" x=\"821.5\" y=\"-7.8\" font-family=\"Times,serif\" font-size=\"14.00\">class = Not churn</text>\n</g>\n<!-- 15&#45;&gt;16 -->\n<g id=\"edge16\" class=\"edge\">\n<title>15&#45;&gt;16</title>\n<path fill=\"none\" stroke=\"black\" d=\"M860.41,-103.73C855.51,-95.06 850.32,-85.9 845.38,-77.18\"/>\n<polygon fill=\"black\" stroke=\"black\" points=\"848.33,-75.28 840.35,-68.3 842.24,-78.73 848.33,-75.28\"/>\n</g>\n<!-- 17 -->\n<g id=\"node18\" class=\"node\">\n<title>17</title>\n<polygon fill=\"#399de5\" stroke=\"black\" points=\"988.5,-68 896.5,-68 896.5,0 988.5,0 988.5,-68\"/>\n<text text-anchor=\"middle\" x=\"942.5\" y=\"-52.8\" font-family=\"Times,serif\" font-size=\"14.00\">gini = 0.0</text>\n<text text-anchor=\"middle\" x=\"942.5\" y=\"-37.8\" font-family=\"Times,serif\" font-size=\"14.00\">samples = 1</text>\n<text text-anchor=\"middle\" x=\"942.5\" y=\"-22.8\" font-family=\"Times,serif\" font-size=\"14.00\">value = [0, 1]</text>\n<text text-anchor=\"middle\" x=\"942.5\" y=\"-7.8\" font-family=\"Times,serif\" font-size=\"14.00\">class = Churn</text>\n</g>\n<!-- 15&#45;&gt;17 -->\n<g id=\"edge17\" class=\"edge\">\n<title>15&#45;&gt;17</title>\n<path fill=\"none\" stroke=\"black\" d=\"M905.47,-103.73C910.14,-95.06 915.08,-85.9 919.77,-77.18\"/>\n<polygon fill=\"black\" stroke=\"black\" points=\"922.9,-78.76 924.56,-68.3 916.73,-75.44 922.9,-78.76\"/>\n</g>\n<!-- 19 -->\n<g id=\"node20\" class=\"node\">\n<title>19</title>\n<polygon fill=\"#e78b49\" stroke=\"black\" points=\"1279.5,-306 1145.5,-306 1145.5,-223 1279.5,-223 1279.5,-306\"/>\n<text text-anchor=\"middle\" x=\"1212.5\" y=\"-290.8\" font-family=\"Times,serif\" font-size=\"14.00\">TotalCharges &lt;= &#45;0.8</text>\n<text text-anchor=\"middle\" x=\"1212.5\" y=\"-275.8\" font-family=\"Times,serif\" font-size=\"14.00\">gini = 0.1</text>\n<text text-anchor=\"middle\" x=\"1212.5\" y=\"-260.8\" font-family=\"Times,serif\" font-size=\"14.00\">samples = 224</text>\n<text text-anchor=\"middle\" x=\"1212.5\" y=\"-245.8\" font-family=\"Times,serif\" font-size=\"14.00\">value = [207, 17]</text>\n<text text-anchor=\"middle\" x=\"1212.5\" y=\"-230.8\" font-family=\"Times,serif\" font-size=\"14.00\">class = Not churn</text>\n</g>\n<!-- 18&#45;&gt;19 -->\n<g id=\"edge19\" class=\"edge\">\n<title>18&#45;&gt;19</title>\n<path fill=\"none\" stroke=\"black\" d=\"M1280.42,-341.91C1272.35,-332.83 1263.72,-323.12 1255.41,-313.77\"/>\n<polygon fill=\"black\" stroke=\"black\" points=\"1257.78,-311.17 1248.52,-306.02 1252.55,-315.82 1257.78,-311.17\"/>\n</g>\n<!-- 24 -->\n<g id=\"node25\" class=\"node\">\n<title>24</title>\n<polygon fill=\"#eda775\" stroke=\"black\" points=\"1543.5,-306 1297.5,-306 1297.5,-223 1543.5,-223 1543.5,-306\"/>\n<text text-anchor=\"middle\" x=\"1420.5\" y=\"-290.8\" font-family=\"Times,serif\" font-size=\"14.00\">PaymentMethod_Electronic check &lt;= 0.5</text>\n<text text-anchor=\"middle\" x=\"1420.5\" y=\"-275.8\" font-family=\"Times,serif\" font-size=\"14.00\">gini = 0.4</text>\n<text text-anchor=\"middle\" x=\"1420.5\" y=\"-260.8\" font-family=\"Times,serif\" font-size=\"14.00\">samples = 292</text>\n<text text-anchor=\"middle\" x=\"1420.5\" y=\"-245.8\" font-family=\"Times,serif\" font-size=\"14.00\">value = [224, 68]</text>\n<text text-anchor=\"middle\" x=\"1420.5\" y=\"-230.8\" font-family=\"Times,serif\" font-size=\"14.00\">class = Not churn</text>\n</g>\n<!-- 18&#45;&gt;24 -->\n<g id=\"edge24\" class=\"edge\">\n<title>18&#45;&gt;24</title>\n<path fill=\"none\" stroke=\"black\" d=\"M1352.58,-341.91C1360.65,-332.83 1369.28,-323.12 1377.59,-313.77\"/>\n<polygon fill=\"black\" stroke=\"black\" points=\"1380.45,-315.82 1384.48,-306.02 1375.22,-311.17 1380.45,-315.82\"/>\n</g>\n<!-- 20 -->\n<g id=\"node21\" class=\"node\">\n<title>20</title>\n<polygon fill=\"#e78b48\" stroke=\"black\" points=\"1163.5,-187 1031.5,-187 1031.5,-104 1163.5,-104 1163.5,-187\"/>\n<text text-anchor=\"middle\" x=\"1097.5\" y=\"-171.8\" font-family=\"Times,serif\" font-size=\"14.00\">SeniorCitizen &lt;= 0.5</text>\n<text text-anchor=\"middle\" x=\"1097.5\" y=\"-156.8\" font-family=\"Times,serif\" font-size=\"14.00\">gini = 0.1</text>\n<text text-anchor=\"middle\" x=\"1097.5\" y=\"-141.8\" font-family=\"Times,serif\" font-size=\"14.00\">samples = 223</text>\n<text text-anchor=\"middle\" x=\"1097.5\" y=\"-126.8\" font-family=\"Times,serif\" font-size=\"14.00\">value = [207, 16]</text>\n<text text-anchor=\"middle\" x=\"1097.5\" y=\"-111.8\" font-family=\"Times,serif\" font-size=\"14.00\">class = Not churn</text>\n</g>\n<!-- 19&#45;&gt;20 -->\n<g id=\"edge20\" class=\"edge\">\n<title>19&#45;&gt;20</title>\n<path fill=\"none\" stroke=\"black\" d=\"M1172.6,-222.91C1163.5,-213.65 1153.75,-203.73 1144.39,-194.21\"/>\n<polygon fill=\"black\" stroke=\"black\" points=\"1146.83,-191.7 1137.33,-187.02 1141.84,-196.61 1146.83,-191.7\"/>\n</g>\n<!-- 23 -->\n<g id=\"node24\" class=\"node\">\n<title>23</title>\n<polygon fill=\"#399de5\" stroke=\"black\" points=\"1273.5,-179.5 1181.5,-179.5 1181.5,-111.5 1273.5,-111.5 1273.5,-179.5\"/>\n<text text-anchor=\"middle\" x=\"1227.5\" y=\"-164.3\" font-family=\"Times,serif\" font-size=\"14.00\">gini = 0.0</text>\n<text text-anchor=\"middle\" x=\"1227.5\" y=\"-149.3\" font-family=\"Times,serif\" font-size=\"14.00\">samples = 1</text>\n<text text-anchor=\"middle\" x=\"1227.5\" y=\"-134.3\" font-family=\"Times,serif\" font-size=\"14.00\">value = [0, 1]</text>\n<text text-anchor=\"middle\" x=\"1227.5\" y=\"-119.3\" font-family=\"Times,serif\" font-size=\"14.00\">class = Churn</text>\n</g>\n<!-- 19&#45;&gt;23 -->\n<g id=\"edge23\" class=\"edge\">\n<title>19&#45;&gt;23</title>\n<path fill=\"none\" stroke=\"black\" d=\"M1217.7,-222.91C1219.08,-212.2 1220.56,-200.62 1221.95,-189.78\"/>\n<polygon fill=\"black\" stroke=\"black\" points=\"1225.45,-190.03 1223.25,-179.67 1218.5,-189.14 1225.45,-190.03\"/>\n</g>\n<!-- 21 -->\n<g id=\"node22\" class=\"node\">\n<title>21</title>\n<polygon fill=\"#e78a47\" stroke=\"black\" points=\"1120,-68 1007,-68 1007,0 1120,0 1120,-68\"/>\n<text text-anchor=\"middle\" x=\"1063.5\" y=\"-52.8\" font-family=\"Times,serif\" font-size=\"14.00\">gini = 0.1</text>\n<text text-anchor=\"middle\" x=\"1063.5\" y=\"-37.8\" font-family=\"Times,serif\" font-size=\"14.00\">samples = 218</text>\n<text text-anchor=\"middle\" x=\"1063.5\" y=\"-22.8\" font-family=\"Times,serif\" font-size=\"14.00\">value = [204, 14]</text>\n<text text-anchor=\"middle\" x=\"1063.5\" y=\"-7.8\" font-family=\"Times,serif\" font-size=\"14.00\">class = Not churn</text>\n</g>\n<!-- 20&#45;&gt;21 -->\n<g id=\"edge21\" class=\"edge\">\n<title>20&#45;&gt;21</title>\n<path fill=\"none\" stroke=\"black\" d=\"M1084.84,-103.73C1082.23,-95.34 1079.48,-86.47 1076.85,-78.01\"/>\n<polygon fill=\"black\" stroke=\"black\" points=\"1080.15,-76.81 1073.84,-68.3 1073.46,-78.89 1080.15,-76.81\"/>\n</g>\n<!-- 22 -->\n<g id=\"node23\" class=\"node\">\n<title>22</title>\n<polygon fill=\"#f6d5bd\" stroke=\"black\" points=\"1251,-68 1138,-68 1138,0 1251,0 1251,-68\"/>\n<text text-anchor=\"middle\" x=\"1194.5\" y=\"-52.8\" font-family=\"Times,serif\" font-size=\"14.00\">gini = 0.5</text>\n<text text-anchor=\"middle\" x=\"1194.5\" y=\"-37.8\" font-family=\"Times,serif\" font-size=\"14.00\">samples = 5</text>\n<text text-anchor=\"middle\" x=\"1194.5\" y=\"-22.8\" font-family=\"Times,serif\" font-size=\"14.00\">value = [3, 2]</text>\n<text text-anchor=\"middle\" x=\"1194.5\" y=\"-7.8\" font-family=\"Times,serif\" font-size=\"14.00\">class = Not churn</text>\n</g>\n<!-- 20&#45;&gt;22 -->\n<g id=\"edge22\" class=\"edge\">\n<title>20&#45;&gt;22</title>\n<path fill=\"none\" stroke=\"black\" d=\"M1133.62,-103.73C1141.7,-94.61 1150.27,-84.93 1158.35,-75.81\"/>\n<polygon fill=\"black\" stroke=\"black\" points=\"1160.99,-78.11 1165,-68.3 1155.75,-73.46 1160.99,-78.11\"/>\n</g>\n<!-- 25 -->\n<g id=\"node26\" class=\"node\">\n<title>25</title>\n<polygon fill=\"#ea9b62\" stroke=\"black\" points=\"1488,-187 1321,-187 1321,-104 1488,-104 1488,-187\"/>\n<text text-anchor=\"middle\" x=\"1404.5\" y=\"-171.8\" font-family=\"Times,serif\" font-size=\"14.00\">OnlineSecurity_Yes &lt;= 0.5</text>\n<text text-anchor=\"middle\" x=\"1404.5\" y=\"-156.8\" font-family=\"Times,serif\" font-size=\"14.00\">gini = 0.3</text>\n<text text-anchor=\"middle\" x=\"1404.5\" y=\"-141.8\" font-family=\"Times,serif\" font-size=\"14.00\">samples = 187</text>\n<text text-anchor=\"middle\" x=\"1404.5\" y=\"-126.8\" font-family=\"Times,serif\" font-size=\"14.00\">value = [155, 32]</text>\n<text text-anchor=\"middle\" x=\"1404.5\" y=\"-111.8\" font-family=\"Times,serif\" font-size=\"14.00\">class = Not churn</text>\n</g>\n<!-- 24&#45;&gt;25 -->\n<g id=\"edge25\" class=\"edge\">\n<title>24&#45;&gt;25</title>\n<path fill=\"none\" stroke=\"black\" d=\"M1414.95,-222.91C1413.81,-214.56 1412.59,-205.67 1411.41,-197.02\"/>\n<polygon fill=\"black\" stroke=\"black\" points=\"1414.86,-196.45 1410.04,-187.02 1407.93,-197.4 1414.86,-196.45\"/>\n</g>\n<!-- 28 -->\n<g id=\"node29\" class=\"node\">\n<title>28</title>\n<polygon fill=\"#f3c3a0\" stroke=\"black\" points=\"1660.5,-187 1506.5,-187 1506.5,-104 1660.5,-104 1660.5,-187\"/>\n<text text-anchor=\"middle\" x=\"1583.5\" y=\"-171.8\" font-family=\"Times,serif\" font-size=\"14.00\">MonthlyCharges &lt;= &#45;0.5</text>\n<text text-anchor=\"middle\" x=\"1583.5\" y=\"-156.8\" font-family=\"Times,serif\" font-size=\"14.00\">gini = 0.5</text>\n<text text-anchor=\"middle\" x=\"1583.5\" y=\"-141.8\" font-family=\"Times,serif\" font-size=\"14.00\">samples = 105</text>\n<text text-anchor=\"middle\" x=\"1583.5\" y=\"-126.8\" font-family=\"Times,serif\" font-size=\"14.00\">value = [69, 36]</text>\n<text text-anchor=\"middle\" x=\"1583.5\" y=\"-111.8\" font-family=\"Times,serif\" font-size=\"14.00\">class = Not churn</text>\n</g>\n<!-- 24&#45;&gt;28 -->\n<g id=\"edge28\" class=\"edge\">\n<title>24&#45;&gt;28</title>\n<path fill=\"none\" stroke=\"black\" d=\"M1477.05,-222.91C1490.45,-213.29 1504.85,-202.95 1518.59,-193.09\"/>\n<polygon fill=\"black\" stroke=\"black\" points=\"1520.97,-195.7 1527.05,-187.02 1516.88,-190.01 1520.97,-195.7\"/>\n</g>\n<!-- 26 -->\n<g id=\"node27\" class=\"node\">\n<title>26</title>\n<polygon fill=\"#eca572\" stroke=\"black\" points=\"1382,-68 1269,-68 1269,0 1382,0 1382,-68\"/>\n<text text-anchor=\"middle\" x=\"1325.5\" y=\"-52.8\" font-family=\"Times,serif\" font-size=\"14.00\">gini = 0.3</text>\n<text text-anchor=\"middle\" x=\"1325.5\" y=\"-37.8\" font-family=\"Times,serif\" font-size=\"14.00\">samples = 112</text>\n<text text-anchor=\"middle\" x=\"1325.5\" y=\"-22.8\" font-family=\"Times,serif\" font-size=\"14.00\">value = [87, 25]</text>\n<text text-anchor=\"middle\" x=\"1325.5\" y=\"-7.8\" font-family=\"Times,serif\" font-size=\"14.00\">class = Not churn</text>\n</g>\n<!-- 25&#45;&gt;26 -->\n<g id=\"edge26\" class=\"edge\">\n<title>25&#45;&gt;26</title>\n<path fill=\"none\" stroke=\"black\" d=\"M1375.08,-103.73C1368.7,-94.88 1361.94,-85.51 1355.53,-76.63\"/>\n<polygon fill=\"black\" stroke=\"black\" points=\"1358.21,-74.36 1349.52,-68.3 1352.54,-78.46 1358.21,-74.36\"/>\n</g>\n<!-- 27 -->\n<g id=\"node28\" class=\"node\">\n<title>27</title>\n<polygon fill=\"#e88e4d\" stroke=\"black\" points=\"1513,-68 1400,-68 1400,0 1513,0 1513,-68\"/>\n<text text-anchor=\"middle\" x=\"1456.5\" y=\"-52.8\" font-family=\"Times,serif\" font-size=\"14.00\">gini = 0.2</text>\n<text text-anchor=\"middle\" x=\"1456.5\" y=\"-37.8\" font-family=\"Times,serif\" font-size=\"14.00\">samples = 75</text>\n<text text-anchor=\"middle\" x=\"1456.5\" y=\"-22.8\" font-family=\"Times,serif\" font-size=\"14.00\">value = [68, 7]</text>\n<text text-anchor=\"middle\" x=\"1456.5\" y=\"-7.8\" font-family=\"Times,serif\" font-size=\"14.00\">class = Not churn</text>\n</g>\n<!-- 25&#45;&gt;27 -->\n<g id=\"edge27\" class=\"edge\">\n<title>25&#45;&gt;27</title>\n<path fill=\"none\" stroke=\"black\" d=\"M1423.86,-103.73C1427.93,-95.15 1432.24,-86.09 1436.34,-77.46\"/>\n<polygon fill=\"black\" stroke=\"black\" points=\"1439.56,-78.83 1440.69,-68.3 1433.24,-75.83 1439.56,-78.83\"/>\n</g>\n<!-- 29 -->\n<g id=\"node30\" class=\"node\">\n<title>29</title>\n<polygon fill=\"#f7fbfe\" stroke=\"black\" points=\"1636,-68 1531,-68 1531,0 1636,0 1636,-68\"/>\n<text text-anchor=\"middle\" x=\"1583.5\" y=\"-52.8\" font-family=\"Times,serif\" font-size=\"14.00\">gini = 0.5</text>\n<text text-anchor=\"middle\" x=\"1583.5\" y=\"-37.8\" font-family=\"Times,serif\" font-size=\"14.00\">samples = 47</text>\n<text text-anchor=\"middle\" x=\"1583.5\" y=\"-22.8\" font-family=\"Times,serif\" font-size=\"14.00\">value = [23, 24]</text>\n<text text-anchor=\"middle\" x=\"1583.5\" y=\"-7.8\" font-family=\"Times,serif\" font-size=\"14.00\">class = Churn</text>\n</g>\n<!-- 28&#45;&gt;29 -->\n<g id=\"edge29\" class=\"edge\">\n<title>28&#45;&gt;29</title>\n<path fill=\"none\" stroke=\"black\" d=\"M1583.5,-103.73C1583.5,-95.52 1583.5,-86.86 1583.5,-78.56\"/>\n<polygon fill=\"black\" stroke=\"black\" points=\"1587,-78.3 1583.5,-68.3 1580,-78.3 1587,-78.3\"/>\n</g>\n<!-- 30 -->\n<g id=\"node31\" class=\"node\">\n<title>30</title>\n<polygon fill=\"#eca26d\" stroke=\"black\" points=\"1767,-68 1654,-68 1654,0 1767,0 1767,-68\"/>\n<text text-anchor=\"middle\" x=\"1710.5\" y=\"-52.8\" font-family=\"Times,serif\" font-size=\"14.00\">gini = 0.3</text>\n<text text-anchor=\"middle\" x=\"1710.5\" y=\"-37.8\" font-family=\"Times,serif\" font-size=\"14.00\">samples = 58</text>\n<text text-anchor=\"middle\" x=\"1710.5\" y=\"-22.8\" font-family=\"Times,serif\" font-size=\"14.00\">value = [46, 12]</text>\n<text text-anchor=\"middle\" x=\"1710.5\" y=\"-7.8\" font-family=\"Times,serif\" font-size=\"14.00\">class = Not churn</text>\n</g>\n<!-- 28&#45;&gt;30 -->\n<g id=\"edge30\" class=\"edge\">\n<title>28&#45;&gt;30</title>\n<path fill=\"none\" stroke=\"black\" d=\"M1630.79,-103.73C1641.69,-94.33 1653.26,-84.35 1664.12,-74.99\"/>\n<polygon fill=\"black\" stroke=\"black\" points=\"1666.59,-77.48 1671.88,-68.3 1662.02,-72.18 1666.59,-77.48\"/>\n</g>\n<!-- 32 -->\n<g id=\"node33\" class=\"node\">\n<title>32</title>\n<polygon fill=\"#5cafea\" stroke=\"black\" points=\"2143.5,-425 1989.5,-425 1989.5,-342 2143.5,-342 2143.5,-425\"/>\n<text text-anchor=\"middle\" x=\"2066.5\" y=\"-409.8\" font-family=\"Times,serif\" font-size=\"14.00\">TechSupport_Yes &lt;= 0.5</text>\n<text text-anchor=\"middle\" x=\"2066.5\" y=\"-394.8\" font-family=\"Times,serif\" font-size=\"14.00\">gini = 0.3</text>\n<text text-anchor=\"middle\" x=\"2066.5\" y=\"-379.8\" font-family=\"Times,serif\" font-size=\"14.00\">samples = 191</text>\n<text text-anchor=\"middle\" x=\"2066.5\" y=\"-364.8\" font-family=\"Times,serif\" font-size=\"14.00\">value = [29, 162]</text>\n<text text-anchor=\"middle\" x=\"2066.5\" y=\"-349.8\" font-family=\"Times,serif\" font-size=\"14.00\">class = Churn</text>\n</g>\n<!-- 31&#45;&gt;32 -->\n<g id=\"edge32\" class=\"edge\">\n<title>31&#45;&gt;32</title>\n<path fill=\"none\" stroke=\"black\" d=\"M2143.56,-460.91C2134.22,-451.65 2124.22,-441.73 2114.62,-432.21\"/>\n<polygon fill=\"black\" stroke=\"black\" points=\"2116.93,-429.58 2107.37,-425.02 2112,-434.55 2116.93,-429.58\"/>\n</g>\n<!-- 41 -->\n<g id=\"node42\" class=\"node\">\n<title>41</title>\n<polygon fill=\"#afd8f5\" stroke=\"black\" points=\"2484.5,-425 2322.5,-425 2322.5,-342 2484.5,-342 2484.5,-425\"/>\n<text text-anchor=\"middle\" x=\"2403.5\" y=\"-409.8\" font-family=\"Times,serif\" font-size=\"14.00\">MultipleLines_Yes &lt;= 0.5</text>\n<text text-anchor=\"middle\" x=\"2403.5\" y=\"-394.8\" font-family=\"Times,serif\" font-size=\"14.00\">gini = 0.5</text>\n<text text-anchor=\"middle\" x=\"2403.5\" y=\"-379.8\" font-family=\"Times,serif\" font-size=\"14.00\">samples = 633</text>\n<text text-anchor=\"middle\" x=\"2403.5\" y=\"-364.8\" font-family=\"Times,serif\" font-size=\"14.00\">value = [237, 396]</text>\n<text text-anchor=\"middle\" x=\"2403.5\" y=\"-349.8\" font-family=\"Times,serif\" font-size=\"14.00\">class = Churn</text>\n</g>\n<!-- 31&#45;&gt;41 -->\n<g id=\"edge41\" class=\"edge\">\n<title>31&#45;&gt;41</title>\n<path fill=\"none\" stroke=\"black\" d=\"M2251.7,-465.6C2272.8,-454.32 2296.39,-441.72 2318.56,-429.88\"/>\n<polygon fill=\"black\" stroke=\"black\" points=\"2320.46,-432.83 2327.63,-425.03 2317.16,-426.66 2320.46,-432.83\"/>\n</g>\n<!-- 33 -->\n<g id=\"node34\" class=\"node\">\n<title>33</title>\n<polygon fill=\"#57ace9\" stroke=\"black\" points=\"1928.5,-306 1794.5,-306 1794.5,-223 1928.5,-223 1928.5,-306\"/>\n<text text-anchor=\"middle\" x=\"1861.5\" y=\"-290.8\" font-family=\"Times,serif\" font-size=\"14.00\">TotalCharges &lt;= &#45;1.0</text>\n<text text-anchor=\"middle\" x=\"1861.5\" y=\"-275.8\" font-family=\"Times,serif\" font-size=\"14.00\">gini = 0.2</text>\n<text text-anchor=\"middle\" x=\"1861.5\" y=\"-260.8\" font-family=\"Times,serif\" font-size=\"14.00\">samples = 185</text>\n<text text-anchor=\"middle\" x=\"1861.5\" y=\"-245.8\" font-family=\"Times,serif\" font-size=\"14.00\">value = [24, 161]</text>\n<text text-anchor=\"middle\" x=\"1861.5\" y=\"-230.8\" font-family=\"Times,serif\" font-size=\"14.00\">class = Churn</text>\n</g>\n<!-- 32&#45;&gt;33 -->\n<g id=\"edge33\" class=\"edge\">\n<title>32&#45;&gt;33</title>\n<path fill=\"none\" stroke=\"black\" d=\"M1995.38,-341.91C1976.71,-331.25 1956.5,-319.72 1937.59,-308.92\"/>\n<polygon fill=\"black\" stroke=\"black\" points=\"1939.13,-305.77 1928.71,-303.86 1935.66,-311.85 1939.13,-305.77\"/>\n</g>\n<!-- 38 -->\n<g id=\"node39\" class=\"node\">\n<title>38</title>\n<polygon fill=\"#ea9a61\" stroke=\"black\" points=\"2128.5,-306 2004.5,-306 2004.5,-223 2128.5,-223 2128.5,-306\"/>\n<text text-anchor=\"middle\" x=\"2066.5\" y=\"-290.8\" font-family=\"Times,serif\" font-size=\"14.00\">Partner_Yes &lt;= 0.5</text>\n<text text-anchor=\"middle\" x=\"2066.5\" y=\"-275.8\" font-family=\"Times,serif\" font-size=\"14.00\">gini = 0.3</text>\n<text text-anchor=\"middle\" x=\"2066.5\" y=\"-260.8\" font-family=\"Times,serif\" font-size=\"14.00\">samples = 6</text>\n<text text-anchor=\"middle\" x=\"2066.5\" y=\"-245.8\" font-family=\"Times,serif\" font-size=\"14.00\">value = [5, 1]</text>\n<text text-anchor=\"middle\" x=\"2066.5\" y=\"-230.8\" font-family=\"Times,serif\" font-size=\"14.00\">class = Not churn</text>\n</g>\n<!-- 32&#45;&gt;38 -->\n<g id=\"edge38\" class=\"edge\">\n<title>32&#45;&gt;38</title>\n<path fill=\"none\" stroke=\"black\" d=\"M2066.5,-341.91C2066.5,-333.65 2066.5,-324.86 2066.5,-316.3\"/>\n<polygon fill=\"black\" stroke=\"black\" points=\"2070,-316.02 2066.5,-306.02 2063,-316.02 2070,-316.02\"/>\n</g>\n<!-- 34 -->\n<g id=\"node35\" class=\"node\">\n<title>34</title>\n<polygon fill=\"#399de5\" stroke=\"black\" points=\"1776.5,-179.5 1678.5,-179.5 1678.5,-111.5 1776.5,-111.5 1776.5,-179.5\"/>\n<text text-anchor=\"middle\" x=\"1727.5\" y=\"-164.3\" font-family=\"Times,serif\" font-size=\"14.00\">gini = 0.0</text>\n<text text-anchor=\"middle\" x=\"1727.5\" y=\"-149.3\" font-family=\"Times,serif\" font-size=\"14.00\">samples = 28</text>\n<text text-anchor=\"middle\" x=\"1727.5\" y=\"-134.3\" font-family=\"Times,serif\" font-size=\"14.00\">value = [0, 28]</text>\n<text text-anchor=\"middle\" x=\"1727.5\" y=\"-119.3\" font-family=\"Times,serif\" font-size=\"14.00\">class = Churn</text>\n</g>\n<!-- 33&#45;&gt;34 -->\n<g id=\"edge34\" class=\"edge\">\n<title>33&#45;&gt;34</title>\n<path fill=\"none\" stroke=\"black\" d=\"M1815.01,-222.91C1801.49,-211.1 1786.73,-198.22 1773.25,-186.45\"/>\n<polygon fill=\"black\" stroke=\"black\" points=\"1775.32,-183.61 1765.49,-179.67 1770.72,-188.88 1775.32,-183.61\"/>\n</g>\n<!-- 35 -->\n<g id=\"node36\" class=\"node\">\n<title>35</title>\n<polygon fill=\"#5dafea\" stroke=\"black\" points=\"1928.5,-187 1794.5,-187 1794.5,-104 1928.5,-104 1928.5,-187\"/>\n<text text-anchor=\"middle\" x=\"1861.5\" y=\"-171.8\" font-family=\"Times,serif\" font-size=\"14.00\">TotalCharges &lt;= &#45;1.0</text>\n<text text-anchor=\"middle\" x=\"1861.5\" y=\"-156.8\" font-family=\"Times,serif\" font-size=\"14.00\">gini = 0.3</text>\n<text text-anchor=\"middle\" x=\"1861.5\" y=\"-141.8\" font-family=\"Times,serif\" font-size=\"14.00\">samples = 157</text>\n<text text-anchor=\"middle\" x=\"1861.5\" y=\"-126.8\" font-family=\"Times,serif\" font-size=\"14.00\">value = [24, 133]</text>\n<text text-anchor=\"middle\" x=\"1861.5\" y=\"-111.8\" font-family=\"Times,serif\" font-size=\"14.00\">class = Churn</text>\n</g>\n<!-- 33&#45;&gt;35 -->\n<g id=\"edge35\" class=\"edge\">\n<title>33&#45;&gt;35</title>\n<path fill=\"none\" stroke=\"black\" d=\"M1861.5,-222.91C1861.5,-214.65 1861.5,-205.86 1861.5,-197.3\"/>\n<polygon fill=\"black\" stroke=\"black\" points=\"1865,-197.02 1861.5,-187.02 1858,-197.02 1865,-197.02\"/>\n</g>\n<!-- 36 -->\n<g id=\"node37\" class=\"node\">\n<title>36</title>\n<polygon fill=\"#85c3ef\" stroke=\"black\" points=\"1902,-68 1797,-68 1797,0 1902,0 1902,-68\"/>\n<text text-anchor=\"middle\" x=\"1849.5\" y=\"-52.8\" font-family=\"Times,serif\" font-size=\"14.00\">gini = 0.4</text>\n<text text-anchor=\"middle\" x=\"1849.5\" y=\"-37.8\" font-family=\"Times,serif\" font-size=\"14.00\">samples = 54</text>\n<text text-anchor=\"middle\" x=\"1849.5\" y=\"-22.8\" font-family=\"Times,serif\" font-size=\"14.00\">value = [15, 39]</text>\n<text text-anchor=\"middle\" x=\"1849.5\" y=\"-7.8\" font-family=\"Times,serif\" font-size=\"14.00\">class = Churn</text>\n</g>\n<!-- 35&#45;&gt;36 -->\n<g id=\"edge36\" class=\"edge\">\n<title>35&#45;&gt;36</title>\n<path fill=\"none\" stroke=\"black\" d=\"M1857.03,-103.73C1856.12,-95.43 1855.16,-86.67 1854.24,-78.28\"/>\n<polygon fill=\"black\" stroke=\"black\" points=\"1857.72,-77.86 1853.15,-68.3 1850.76,-78.62 1857.72,-77.86\"/>\n</g>\n<!-- 37 -->\n<g id=\"node38\" class=\"node\">\n<title>37</title>\n<polygon fill=\"#4ca6e7\" stroke=\"black\" points=\"2018.5,-68 1920.5,-68 1920.5,0 2018.5,0 2018.5,-68\"/>\n<text text-anchor=\"middle\" x=\"1969.5\" y=\"-52.8\" font-family=\"Times,serif\" font-size=\"14.00\">gini = 0.2</text>\n<text text-anchor=\"middle\" x=\"1969.5\" y=\"-37.8\" font-family=\"Times,serif\" font-size=\"14.00\">samples = 103</text>\n<text text-anchor=\"middle\" x=\"1969.5\" y=\"-22.8\" font-family=\"Times,serif\" font-size=\"14.00\">value = [9, 94]</text>\n<text text-anchor=\"middle\" x=\"1969.5\" y=\"-7.8\" font-family=\"Times,serif\" font-size=\"14.00\">class = Churn</text>\n</g>\n<!-- 35&#45;&gt;37 -->\n<g id=\"edge37\" class=\"edge\">\n<title>35&#45;&gt;37</title>\n<path fill=\"none\" stroke=\"black\" d=\"M1901.72,-103.73C1910.8,-94.51 1920.44,-84.74 1929.52,-75.53\"/>\n<polygon fill=\"black\" stroke=\"black\" points=\"1932.13,-77.88 1936.66,-68.3 1927.14,-72.96 1932.13,-77.88\"/>\n</g>\n<!-- 39 -->\n<g id=\"node40\" class=\"node\">\n<title>39</title>\n<polygon fill=\"#e58139\" stroke=\"black\" points=\"2060,-179.5 1947,-179.5 1947,-111.5 2060,-111.5 2060,-179.5\"/>\n<text text-anchor=\"middle\" x=\"2003.5\" y=\"-164.3\" font-family=\"Times,serif\" font-size=\"14.00\">gini = 0.0</text>\n<text text-anchor=\"middle\" x=\"2003.5\" y=\"-149.3\" font-family=\"Times,serif\" font-size=\"14.00\">samples = 5</text>\n<text text-anchor=\"middle\" x=\"2003.5\" y=\"-134.3\" font-family=\"Times,serif\" font-size=\"14.00\">value = [5, 0]</text>\n<text text-anchor=\"middle\" x=\"2003.5\" y=\"-119.3\" font-family=\"Times,serif\" font-size=\"14.00\">class = Not churn</text>\n</g>\n<!-- 38&#45;&gt;39 -->\n<g id=\"edge39\" class=\"edge\">\n<title>38&#45;&gt;39</title>\n<path fill=\"none\" stroke=\"black\" d=\"M2044.64,-222.91C2038.7,-211.87 2032.25,-199.9 2026.26,-188.77\"/>\n<polygon fill=\"black\" stroke=\"black\" points=\"2029.18,-186.81 2021.36,-179.67 2023.02,-190.13 2029.18,-186.81\"/>\n</g>\n<!-- 40 -->\n<g id=\"node41\" class=\"node\">\n<title>40</title>\n<polygon fill=\"#399de5\" stroke=\"black\" points=\"2170.5,-179.5 2078.5,-179.5 2078.5,-111.5 2170.5,-111.5 2170.5,-179.5\"/>\n<text text-anchor=\"middle\" x=\"2124.5\" y=\"-164.3\" font-family=\"Times,serif\" font-size=\"14.00\">gini = 0.0</text>\n<text text-anchor=\"middle\" x=\"2124.5\" y=\"-149.3\" font-family=\"Times,serif\" font-size=\"14.00\">samples = 1</text>\n<text text-anchor=\"middle\" x=\"2124.5\" y=\"-134.3\" font-family=\"Times,serif\" font-size=\"14.00\">value = [0, 1]</text>\n<text text-anchor=\"middle\" x=\"2124.5\" y=\"-119.3\" font-family=\"Times,serif\" font-size=\"14.00\">class = Churn</text>\n</g>\n<!-- 38&#45;&gt;40 -->\n<g id=\"edge40\" class=\"edge\">\n<title>38&#45;&gt;40</title>\n<path fill=\"none\" stroke=\"black\" d=\"M2086.62,-222.91C2092.09,-211.87 2098.03,-199.9 2103.54,-188.77\"/>\n<polygon fill=\"black\" stroke=\"black\" points=\"2106.75,-190.18 2108.06,-179.67 2100.48,-187.07 2106.75,-190.18\"/>\n</g>\n<!-- 42 -->\n<g id=\"node43\" class=\"node\">\n<title>42</title>\n<polygon fill=\"#dbedfa\" stroke=\"black\" points=\"2478,-306 2329,-306 2329,-223 2478,-223 2478,-306\"/>\n<text text-anchor=\"middle\" x=\"2403.5\" y=\"-290.8\" font-family=\"Times,serif\" font-size=\"14.00\">MonthlyCharges &lt;= 0.4</text>\n<text text-anchor=\"middle\" x=\"2403.5\" y=\"-275.8\" font-family=\"Times,serif\" font-size=\"14.00\">gini = 0.5</text>\n<text text-anchor=\"middle\" x=\"2403.5\" y=\"-260.8\" font-family=\"Times,serif\" font-size=\"14.00\">samples = 329</text>\n<text text-anchor=\"middle\" x=\"2403.5\" y=\"-245.8\" font-family=\"Times,serif\" font-size=\"14.00\">value = [148, 181]</text>\n<text text-anchor=\"middle\" x=\"2403.5\" y=\"-230.8\" font-family=\"Times,serif\" font-size=\"14.00\">class = Churn</text>\n</g>\n<!-- 41&#45;&gt;42 -->\n<g id=\"edge42\" class=\"edge\">\n<title>41&#45;&gt;42</title>\n<path fill=\"none\" stroke=\"black\" d=\"M2403.5,-341.91C2403.5,-333.65 2403.5,-324.86 2403.5,-316.3\"/>\n<polygon fill=\"black\" stroke=\"black\" points=\"2407,-316.02 2403.5,-306.02 2400,-316.02 2407,-316.02\"/>\n</g>\n<!-- 49 -->\n<g id=\"node50\" class=\"node\">\n<title>49</title>\n<polygon fill=\"#8bc6f0\" stroke=\"black\" points=\"2770,-306 2621,-306 2621,-223 2770,-223 2770,-306\"/>\n<text text-anchor=\"middle\" x=\"2695.5\" y=\"-290.8\" font-family=\"Times,serif\" font-size=\"14.00\">MonthlyCharges &lt;= 0.7</text>\n<text text-anchor=\"middle\" x=\"2695.5\" y=\"-275.8\" font-family=\"Times,serif\" font-size=\"14.00\">gini = 0.4</text>\n<text text-anchor=\"middle\" x=\"2695.5\" y=\"-260.8\" font-family=\"Times,serif\" font-size=\"14.00\">samples = 304</text>\n<text text-anchor=\"middle\" x=\"2695.5\" y=\"-245.8\" font-family=\"Times,serif\" font-size=\"14.00\">value = [89, 215]</text>\n<text text-anchor=\"middle\" x=\"2695.5\" y=\"-230.8\" font-family=\"Times,serif\" font-size=\"14.00\">class = Churn</text>\n</g>\n<!-- 41&#45;&gt;49 -->\n<g id=\"edge49\" class=\"edge\">\n<title>41&#45;&gt;49</title>\n<path fill=\"none\" stroke=\"black\" d=\"M2484.84,-349.91C2524.21,-334.13 2571.44,-315.21 2611.19,-299.28\"/>\n<polygon fill=\"black\" stroke=\"black\" points=\"2612.62,-302.48 2620.6,-295.51 2610.01,-295.98 2612.62,-302.48\"/>\n</g>\n<!-- 43 -->\n<g id=\"node44\" class=\"node\">\n<title>43</title>\n<polygon fill=\"#f8decb\" stroke=\"black\" points=\"2418.5,-187 2188.5,-187 2188.5,-104 2418.5,-104 2418.5,-187\"/>\n<text text-anchor=\"middle\" x=\"2303.5\" y=\"-171.8\" font-family=\"Times,serif\" font-size=\"14.00\">PaymentMethod_Mailed check &lt;= 0.5</text>\n<text text-anchor=\"middle\" x=\"2303.5\" y=\"-156.8\" font-family=\"Times,serif\" font-size=\"14.00\">gini = 0.5</text>\n<text text-anchor=\"middle\" x=\"2303.5\" y=\"-141.8\" font-family=\"Times,serif\" font-size=\"14.00\">samples = 113</text>\n<text text-anchor=\"middle\" x=\"2303.5\" y=\"-126.8\" font-family=\"Times,serif\" font-size=\"14.00\">value = [65, 48]</text>\n<text text-anchor=\"middle\" x=\"2303.5\" y=\"-111.8\" font-family=\"Times,serif\" font-size=\"14.00\">class = Not churn</text>\n</g>\n<!-- 42&#45;&gt;43 -->\n<g id=\"edge43\" class=\"edge\">\n<title>42&#45;&gt;43</title>\n<path fill=\"none\" stroke=\"black\" d=\"M2368.81,-222.91C2361.05,-213.83 2352.75,-204.12 2344.76,-194.77\"/>\n<polygon fill=\"black\" stroke=\"black\" points=\"2347.29,-192.35 2338.13,-187.02 2341.97,-196.9 2347.29,-192.35\"/>\n</g>\n<!-- 46 -->\n<g id=\"node47\" class=\"node\">\n<title>46</title>\n<polygon fill=\"#b5daf5\" stroke=\"black\" points=\"2570.5,-187 2436.5,-187 2436.5,-104 2570.5,-104 2570.5,-187\"/>\n<text text-anchor=\"middle\" x=\"2503.5\" y=\"-171.8\" font-family=\"Times,serif\" font-size=\"14.00\">TotalCharges &lt;= &#45;0.7</text>\n<text text-anchor=\"middle\" x=\"2503.5\" y=\"-156.8\" font-family=\"Times,serif\" font-size=\"14.00\">gini = 0.5</text>\n<text text-anchor=\"middle\" x=\"2503.5\" y=\"-141.8\" font-family=\"Times,serif\" font-size=\"14.00\">samples = 216</text>\n<text text-anchor=\"middle\" x=\"2503.5\" y=\"-126.8\" font-family=\"Times,serif\" font-size=\"14.00\">value = [83, 133]</text>\n<text text-anchor=\"middle\" x=\"2503.5\" y=\"-111.8\" font-family=\"Times,serif\" font-size=\"14.00\">class = Churn</text>\n</g>\n<!-- 42&#45;&gt;46 -->\n<g id=\"edge46\" class=\"edge\">\n<title>42&#45;&gt;46</title>\n<path fill=\"none\" stroke=\"black\" d=\"M2438.19,-222.91C2445.95,-213.83 2454.25,-204.12 2462.24,-194.77\"/>\n<polygon fill=\"black\" stroke=\"black\" points=\"2465.03,-196.9 2468.87,-187.02 2459.71,-192.35 2465.03,-196.9\"/>\n</g>\n<!-- 44 -->\n<g id=\"node45\" class=\"node\">\n<title>44</title>\n<polygon fill=\"#fceee4\" stroke=\"black\" points=\"2204,-68 2091,-68 2091,0 2204,0 2204,-68\"/>\n<text text-anchor=\"middle\" x=\"2147.5\" y=\"-52.8\" font-family=\"Times,serif\" font-size=\"14.00\">gini = 0.5</text>\n<text text-anchor=\"middle\" x=\"2147.5\" y=\"-37.8\" font-family=\"Times,serif\" font-size=\"14.00\">samples = 97</text>\n<text text-anchor=\"middle\" x=\"2147.5\" y=\"-22.8\" font-family=\"Times,serif\" font-size=\"14.00\">value = [52, 45]</text>\n<text text-anchor=\"middle\" x=\"2147.5\" y=\"-7.8\" font-family=\"Times,serif\" font-size=\"14.00\">class = Not churn</text>\n</g>\n<!-- 43&#45;&gt;44 -->\n<g id=\"edge44\" class=\"edge\">\n<title>43&#45;&gt;44</title>\n<path fill=\"none\" stroke=\"black\" d=\"M2245.41,-103.73C2231.64,-94.06 2216.98,-83.77 2203.31,-74.17\"/>\n<polygon fill=\"black\" stroke=\"black\" points=\"2205.14,-71.18 2194.94,-68.3 2201.11,-76.91 2205.14,-71.18\"/>\n</g>\n<!-- 45 -->\n<g id=\"node46\" class=\"node\">\n<title>45</title>\n<polygon fill=\"#eb9e67\" stroke=\"black\" points=\"2335,-68 2222,-68 2222,0 2335,0 2335,-68\"/>\n<text text-anchor=\"middle\" x=\"2278.5\" y=\"-52.8\" font-family=\"Times,serif\" font-size=\"14.00\">gini = 0.3</text>\n<text text-anchor=\"middle\" x=\"2278.5\" y=\"-37.8\" font-family=\"Times,serif\" font-size=\"14.00\">samples = 16</text>\n<text text-anchor=\"middle\" x=\"2278.5\" y=\"-22.8\" font-family=\"Times,serif\" font-size=\"14.00\">value = [13, 3]</text>\n<text text-anchor=\"middle\" x=\"2278.5\" y=\"-7.8\" font-family=\"Times,serif\" font-size=\"14.00\">class = Not churn</text>\n</g>\n<!-- 43&#45;&gt;45 -->\n<g id=\"edge45\" class=\"edge\">\n<title>43&#45;&gt;45</title>\n<path fill=\"none\" stroke=\"black\" d=\"M2294.19,-103.73C2292.3,-95.43 2290.3,-86.67 2288.38,-78.28\"/>\n<polygon fill=\"black\" stroke=\"black\" points=\"2291.74,-77.27 2286.1,-68.3 2284.92,-78.83 2291.74,-77.27\"/>\n</g>\n<!-- 47 -->\n<g id=\"node48\" class=\"node\">\n<title>47</title>\n<polygon fill=\"#97cbf1\" stroke=\"black\" points=\"2458,-68 2353,-68 2353,0 2458,0 2458,-68\"/>\n<text text-anchor=\"middle\" x=\"2405.5\" y=\"-52.8\" font-family=\"Times,serif\" font-size=\"14.00\">gini = 0.4</text>\n<text text-anchor=\"middle\" x=\"2405.5\" y=\"-37.8\" font-family=\"Times,serif\" font-size=\"14.00\">samples = 115</text>\n<text text-anchor=\"middle\" x=\"2405.5\" y=\"-22.8\" font-family=\"Times,serif\" font-size=\"14.00\">value = [37, 78]</text>\n<text text-anchor=\"middle\" x=\"2405.5\" y=\"-7.8\" font-family=\"Times,serif\" font-size=\"14.00\">class = Churn</text>\n</g>\n<!-- 46&#45;&gt;47 -->\n<g id=\"edge47\" class=\"edge\">\n<title>46&#45;&gt;47</title>\n<path fill=\"none\" stroke=\"black\" d=\"M2467.01,-103.73C2458.85,-94.61 2450.19,-84.93 2442.02,-75.81\"/>\n<polygon fill=\"black\" stroke=\"black\" points=\"2444.58,-73.42 2435.3,-68.3 2439.36,-78.09 2444.58,-73.42\"/>\n</g>\n<!-- 48 -->\n<g id=\"node49\" class=\"node\">\n<title>48</title>\n<polygon fill=\"#dfeffb\" stroke=\"black\" points=\"2581,-68 2476,-68 2476,0 2581,0 2581,-68\"/>\n<text text-anchor=\"middle\" x=\"2528.5\" y=\"-52.8\" font-family=\"Times,serif\" font-size=\"14.00\">gini = 0.5</text>\n<text text-anchor=\"middle\" x=\"2528.5\" y=\"-37.8\" font-family=\"Times,serif\" font-size=\"14.00\">samples = 101</text>\n<text text-anchor=\"middle\" x=\"2528.5\" y=\"-22.8\" font-family=\"Times,serif\" font-size=\"14.00\">value = [46, 55]</text>\n<text text-anchor=\"middle\" x=\"2528.5\" y=\"-7.8\" font-family=\"Times,serif\" font-size=\"14.00\">class = Churn</text>\n</g>\n<!-- 46&#45;&gt;48 -->\n<g id=\"edge48\" class=\"edge\">\n<title>46&#45;&gt;48</title>\n<path fill=\"none\" stroke=\"black\" d=\"M2512.81,-103.73C2514.7,-95.43 2516.7,-86.67 2518.62,-78.28\"/>\n<polygon fill=\"black\" stroke=\"black\" points=\"2522.08,-78.83 2520.9,-68.3 2515.26,-77.27 2522.08,-78.83\"/>\n</g>\n<!-- 50 -->\n<g id=\"node51\" class=\"node\">\n<title>50</title>\n<polygon fill=\"#b4daf5\" stroke=\"black\" points=\"2762.5,-187 2628.5,-187 2628.5,-104 2762.5,-104 2762.5,-187\"/>\n<text text-anchor=\"middle\" x=\"2695.5\" y=\"-171.8\" font-family=\"Times,serif\" font-size=\"14.00\">TotalCharges &lt;= &#45;0.8</text>\n<text text-anchor=\"middle\" x=\"2695.5\" y=\"-156.8\" font-family=\"Times,serif\" font-size=\"14.00\">gini = 0.5</text>\n<text text-anchor=\"middle\" x=\"2695.5\" y=\"-141.8\" font-family=\"Times,serif\" font-size=\"14.00\">samples = 128</text>\n<text text-anchor=\"middle\" x=\"2695.5\" y=\"-126.8\" font-family=\"Times,serif\" font-size=\"14.00\">value = [49, 79]</text>\n<text text-anchor=\"middle\" x=\"2695.5\" y=\"-111.8\" font-family=\"Times,serif\" font-size=\"14.00\">class = Churn</text>\n</g>\n<!-- 49&#45;&gt;50 -->\n<g id=\"edge50\" class=\"edge\">\n<title>49&#45;&gt;50</title>\n<path fill=\"none\" stroke=\"black\" d=\"M2695.5,-222.91C2695.5,-214.65 2695.5,-205.86 2695.5,-197.3\"/>\n<polygon fill=\"black\" stroke=\"black\" points=\"2699,-197.02 2695.5,-187.02 2692,-197.02 2699,-197.02\"/>\n</g>\n<!-- 53 -->\n<g id=\"node54\" class=\"node\">\n<title>53</title>\n<polygon fill=\"#73baed\" stroke=\"black\" points=\"2982,-187 2821,-187 2821,-104 2982,-104 2982,-187\"/>\n<text text-anchor=\"middle\" x=\"2901.5\" y=\"-171.8\" font-family=\"Times,serif\" font-size=\"14.00\">Contract_One year &lt;= 0.5</text>\n<text text-anchor=\"middle\" x=\"2901.5\" y=\"-156.8\" font-family=\"Times,serif\" font-size=\"14.00\">gini = 0.4</text>\n<text text-anchor=\"middle\" x=\"2901.5\" y=\"-141.8\" font-family=\"Times,serif\" font-size=\"14.00\">samples = 176</text>\n<text text-anchor=\"middle\" x=\"2901.5\" y=\"-126.8\" font-family=\"Times,serif\" font-size=\"14.00\">value = [40, 136]</text>\n<text text-anchor=\"middle\" x=\"2901.5\" y=\"-111.8\" font-family=\"Times,serif\" font-size=\"14.00\">class = Churn</text>\n</g>\n<!-- 49&#45;&gt;53 -->\n<g id=\"edge53\" class=\"edge\">\n<title>49&#45;&gt;53</title>\n<path fill=\"none\" stroke=\"black\" d=\"M2766.97,-222.91C2784.55,-212.92 2803.48,-202.17 2821.43,-191.98\"/>\n<polygon fill=\"black\" stroke=\"black\" points=\"2823.19,-195 2830.16,-187.02 2819.73,-188.92 2823.19,-195\"/>\n</g>\n<!-- 51 -->\n<g id=\"node52\" class=\"node\">\n<title>51</title>\n<polygon fill=\"#87c4ef\" stroke=\"black\" points=\"2704,-68 2599,-68 2599,0 2704,0 2704,-68\"/>\n<text text-anchor=\"middle\" x=\"2651.5\" y=\"-52.8\" font-family=\"Times,serif\" font-size=\"14.00\">gini = 0.4</text>\n<text text-anchor=\"middle\" x=\"2651.5\" y=\"-37.8\" font-family=\"Times,serif\" font-size=\"14.00\">samples = 67</text>\n<text text-anchor=\"middle\" x=\"2651.5\" y=\"-22.8\" font-family=\"Times,serif\" font-size=\"14.00\">value = [19, 48]</text>\n<text text-anchor=\"middle\" x=\"2651.5\" y=\"-7.8\" font-family=\"Times,serif\" font-size=\"14.00\">class = Churn</text>\n</g>\n<!-- 50&#45;&gt;51 -->\n<g id=\"edge51\" class=\"edge\">\n<title>50&#45;&gt;51</title>\n<path fill=\"none\" stroke=\"black\" d=\"M2679.12,-103.73C2675.71,-95.24 2672.11,-86.28 2668.67,-77.73\"/>\n<polygon fill=\"black\" stroke=\"black\" points=\"2671.86,-76.27 2664.88,-68.3 2665.36,-78.88 2671.86,-76.27\"/>\n</g>\n<!-- 52 -->\n<g id=\"node53\" class=\"node\">\n<title>52</title>\n<polygon fill=\"#f9fcfe\" stroke=\"black\" points=\"2827,-68 2722,-68 2722,0 2827,0 2827,-68\"/>\n<text text-anchor=\"middle\" x=\"2774.5\" y=\"-52.8\" font-family=\"Times,serif\" font-size=\"14.00\">gini = 0.5</text>\n<text text-anchor=\"middle\" x=\"2774.5\" y=\"-37.8\" font-family=\"Times,serif\" font-size=\"14.00\">samples = 61</text>\n<text text-anchor=\"middle\" x=\"2774.5\" y=\"-22.8\" font-family=\"Times,serif\" font-size=\"14.00\">value = [30, 31]</text>\n<text text-anchor=\"middle\" x=\"2774.5\" y=\"-7.8\" font-family=\"Times,serif\" font-size=\"14.00\">class = Churn</text>\n</g>\n<!-- 50&#45;&gt;52 -->\n<g id=\"edge52\" class=\"edge\">\n<title>50&#45;&gt;52</title>\n<path fill=\"none\" stroke=\"black\" d=\"M2724.92,-103.73C2731.3,-94.88 2738.06,-85.51 2744.47,-76.63\"/>\n<polygon fill=\"black\" stroke=\"black\" points=\"2747.46,-78.46 2750.48,-68.3 2741.79,-74.36 2747.46,-78.46\"/>\n</g>\n<!-- 54 -->\n<g id=\"node55\" class=\"node\">\n<title>54</title>\n<polygon fill=\"#70b8ec\" stroke=\"black\" points=\"2957.5,-68 2845.5,-68 2845.5,0 2957.5,0 2957.5,-68\"/>\n<text text-anchor=\"middle\" x=\"2901.5\" y=\"-52.8\" font-family=\"Times,serif\" font-size=\"14.00\">gini = 0.3</text>\n<text text-anchor=\"middle\" x=\"2901.5\" y=\"-37.8\" font-family=\"Times,serif\" font-size=\"14.00\">samples = 174</text>\n<text text-anchor=\"middle\" x=\"2901.5\" y=\"-22.8\" font-family=\"Times,serif\" font-size=\"14.00\">value = [38, 136]</text>\n<text text-anchor=\"middle\" x=\"2901.5\" y=\"-7.8\" font-family=\"Times,serif\" font-size=\"14.00\">class = Churn</text>\n</g>\n<!-- 53&#45;&gt;54 -->\n<g id=\"edge54\" class=\"edge\">\n<title>53&#45;&gt;54</title>\n<path fill=\"none\" stroke=\"black\" d=\"M2901.5,-103.73C2901.5,-95.52 2901.5,-86.86 2901.5,-78.56\"/>\n<polygon fill=\"black\" stroke=\"black\" points=\"2905,-78.3 2901.5,-68.3 2898,-78.3 2905,-78.3\"/>\n</g>\n<!-- 55 -->\n<g id=\"node56\" class=\"node\">\n<title>55</title>\n<polygon fill=\"#e58139\" stroke=\"black\" points=\"3089,-68 2976,-68 2976,0 3089,0 3089,-68\"/>\n<text text-anchor=\"middle\" x=\"3032.5\" y=\"-52.8\" font-family=\"Times,serif\" font-size=\"14.00\">gini = 0.0</text>\n<text text-anchor=\"middle\" x=\"3032.5\" y=\"-37.8\" font-family=\"Times,serif\" font-size=\"14.00\">samples = 2</text>\n<text text-anchor=\"middle\" x=\"3032.5\" y=\"-22.8\" font-family=\"Times,serif\" font-size=\"14.00\">value = [2, 0]</text>\n<text text-anchor=\"middle\" x=\"3032.5\" y=\"-7.8\" font-family=\"Times,serif\" font-size=\"14.00\">class = Not churn</text>\n</g>\n<!-- 53&#45;&gt;55 -->\n<g id=\"edge55\" class=\"edge\">\n<title>53&#45;&gt;55</title>\n<path fill=\"none\" stroke=\"black\" d=\"M2950.28,-103.73C2961.63,-94.24 2973.69,-84.16 2984.99,-74.72\"/>\n<polygon fill=\"black\" stroke=\"black\" points=\"2987.23,-77.4 2992.66,-68.3 2982.74,-72.03 2987.23,-77.4\"/>\n</g>\n<!-- 57 -->\n<g id=\"node58\" class=\"node\">\n<title>57</title>\n<polygon fill=\"#e78946\" stroke=\"black\" points=\"4168.5,-544 4006.5,-544 4006.5,-461 4168.5,-461 4168.5,-544\"/>\n<text text-anchor=\"middle\" x=\"4087.5\" y=\"-528.8\" font-family=\"Times,serif\" font-size=\"14.00\">Contract_Two year &lt;= 0.5</text>\n<text text-anchor=\"middle\" x=\"4087.5\" y=\"-513.8\" font-family=\"Times,serif\" font-size=\"14.00\">gini = 0.1</text>\n<text text-anchor=\"middle\" x=\"4087.5\" y=\"-498.8\" font-family=\"Times,serif\" font-size=\"14.00\">samples = 1838</text>\n<text text-anchor=\"middle\" x=\"4087.5\" y=\"-483.8\" font-family=\"Times,serif\" font-size=\"14.00\">value = [1725, 113]</text>\n<text text-anchor=\"middle\" x=\"4087.5\" y=\"-468.8\" font-family=\"Times,serif\" font-size=\"14.00\">class = Not churn</text>\n</g>\n<!-- 56&#45;&gt;57 -->\n<g id=\"edge57\" class=\"edge\">\n<title>56&#45;&gt;57</title>\n<path fill=\"none\" stroke=\"black\" d=\"M4087.5,-579.91C4087.5,-571.65 4087.5,-562.86 4087.5,-554.3\"/>\n<polygon fill=\"black\" stroke=\"black\" points=\"4091,-554.02 4087.5,-544.02 4084,-554.02 4091,-554.02\"/>\n</g>\n<!-- 86 -->\n<g id=\"node87\" class=\"node\">\n<title>86</title>\n<polygon fill=\"#efb285\" stroke=\"black\" points=\"5544,-544 5419,-544 5419,-461 5544,-461 5544,-544\"/>\n<text text-anchor=\"middle\" x=\"5481.5\" y=\"-528.8\" font-family=\"Times,serif\" font-size=\"14.00\">tenure &lt;= 0.9</text>\n<text text-anchor=\"middle\" x=\"5481.5\" y=\"-513.8\" font-family=\"Times,serif\" font-size=\"14.00\">gini = 0.4</text>\n<text text-anchor=\"middle\" x=\"5481.5\" y=\"-498.8\" font-family=\"Times,serif\" font-size=\"14.00\">samples = 1495</text>\n<text text-anchor=\"middle\" x=\"5481.5\" y=\"-483.8\" font-family=\"Times,serif\" font-size=\"14.00\">value = [1079, 416]</text>\n<text text-anchor=\"middle\" x=\"5481.5\" y=\"-468.8\" font-family=\"Times,serif\" font-size=\"14.00\">class = Not churn</text>\n</g>\n<!-- 56&#45;&gt;86 -->\n<g id=\"edge86\" class=\"edge\">\n<title>56&#45;&gt;86</title>\n<path fill=\"none\" stroke=\"black\" d=\"M4190.57,-611.85C4459.47,-589.28 5177.43,-529.02 5408.66,-509.61\"/>\n<polygon fill=\"black\" stroke=\"black\" points=\"5408.97,-513.1 5418.64,-508.78 5408.39,-506.12 5408.97,-513.1\"/>\n</g>\n<!-- 58 -->\n<g id=\"node59\" class=\"node\">\n<title>58</title>\n<polygon fill=\"#e89050\" stroke=\"black\" points=\"4009.5,-425 3747.5,-425 3747.5,-342 4009.5,-342 4009.5,-425\"/>\n<text text-anchor=\"middle\" x=\"3878.5\" y=\"-409.8\" font-family=\"Times,serif\" font-size=\"14.00\">DeviceProtection_No internet service &lt;= 0.5</text>\n<text text-anchor=\"middle\" x=\"3878.5\" y=\"-394.8\" font-family=\"Times,serif\" font-size=\"14.00\">gini = 0.2</text>\n<text text-anchor=\"middle\" x=\"3878.5\" y=\"-379.8\" font-family=\"Times,serif\" font-size=\"14.00\">samples = 983</text>\n<text text-anchor=\"middle\" x=\"3878.5\" y=\"-364.8\" font-family=\"Times,serif\" font-size=\"14.00\">value = [881, 102]</text>\n<text text-anchor=\"middle\" x=\"3878.5\" y=\"-349.8\" font-family=\"Times,serif\" font-size=\"14.00\">class = Not churn</text>\n</g>\n<!-- 57&#45;&gt;58 -->\n<g id=\"edge58\" class=\"edge\">\n<title>57&#45;&gt;58</title>\n<path fill=\"none\" stroke=\"black\" d=\"M4014.99,-460.91C3997.16,-450.92 3977.95,-440.17 3959.73,-429.98\"/>\n<polygon fill=\"black\" stroke=\"black\" points=\"3961.32,-426.85 3950.88,-425.02 3957.9,-432.96 3961.32,-426.85\"/>\n</g>\n<!-- 73 -->\n<g id=\"node74\" class=\"node\">\n<title>73</title>\n<polygon fill=\"#e5833c\" stroke=\"black\" points=\"4414.5,-425 4168.5,-425 4168.5,-342 4414.5,-342 4414.5,-425\"/>\n<text text-anchor=\"middle\" x=\"4291.5\" y=\"-409.8\" font-family=\"Times,serif\" font-size=\"14.00\">PaymentMethod_Electronic check &lt;= 0.5</text>\n<text text-anchor=\"middle\" x=\"4291.5\" y=\"-394.8\" font-family=\"Times,serif\" font-size=\"14.00\">gini = 0.0</text>\n<text text-anchor=\"middle\" x=\"4291.5\" y=\"-379.8\" font-family=\"Times,serif\" font-size=\"14.00\">samples = 855</text>\n<text text-anchor=\"middle\" x=\"4291.5\" y=\"-364.8\" font-family=\"Times,serif\" font-size=\"14.00\">value = [844, 11]</text>\n<text text-anchor=\"middle\" x=\"4291.5\" y=\"-349.8\" font-family=\"Times,serif\" font-size=\"14.00\">class = Not churn</text>\n</g>\n<!-- 57&#45;&gt;73 -->\n<g id=\"edge73\" class=\"edge\">\n<title>57&#45;&gt;73</title>\n<path fill=\"none\" stroke=\"black\" d=\"M4158.28,-460.91C4175.52,-451.02 4194.09,-440.37 4211.72,-430.25\"/>\n<polygon fill=\"black\" stroke=\"black\" points=\"4213.92,-433.03 4220.85,-425.02 4210.43,-426.96 4213.92,-433.03\"/>\n</g>\n<!-- 59 -->\n<g id=\"node60\" class=\"node\">\n<title>59</title>\n<polygon fill=\"#e99558\" stroke=\"black\" points=\"3598,-306 3485,-306 3485,-223 3598,-223 3598,-306\"/>\n<text text-anchor=\"middle\" x=\"3541.5\" y=\"-290.8\" font-family=\"Times,serif\" font-size=\"14.00\">tenure &lt;= &#45;0.4</text>\n<text text-anchor=\"middle\" x=\"3541.5\" y=\"-275.8\" font-family=\"Times,serif\" font-size=\"14.00\">gini = 0.2</text>\n<text text-anchor=\"middle\" x=\"3541.5\" y=\"-260.8\" font-family=\"Times,serif\" font-size=\"14.00\">samples = 699</text>\n<text text-anchor=\"middle\" x=\"3541.5\" y=\"-245.8\" font-family=\"Times,serif\" font-size=\"14.00\">value = [605, 94]</text>\n<text text-anchor=\"middle\" x=\"3541.5\" y=\"-230.8\" font-family=\"Times,serif\" font-size=\"14.00\">class = Not churn</text>\n</g>\n<!-- 58&#45;&gt;59 -->\n<g id=\"edge59\" class=\"edge\">\n<title>58&#45;&gt;59</title>\n<path fill=\"none\" stroke=\"black\" d=\"M3761.58,-341.91C3710.15,-324.05 3651.62,-303.73 3607.86,-288.54\"/>\n<polygon fill=\"black\" stroke=\"black\" points=\"3608.79,-285.16 3598.19,-285.18 3606.49,-291.77 3608.79,-285.16\"/>\n</g>\n<!-- 66 -->\n<g id=\"node67\" class=\"node\">\n<title>66</title>\n<polygon fill=\"#e6853f\" stroke=\"black\" points=\"4001.5,-306 3755.5,-306 3755.5,-223 4001.5,-223 4001.5,-306\"/>\n<text text-anchor=\"middle\" x=\"3878.5\" y=\"-290.8\" font-family=\"Times,serif\" font-size=\"14.00\">PaymentMethod_Electronic check &lt;= 0.5</text>\n<text text-anchor=\"middle\" x=\"3878.5\" y=\"-275.8\" font-family=\"Times,serif\" font-size=\"14.00\">gini = 0.1</text>\n<text text-anchor=\"middle\" x=\"3878.5\" y=\"-260.8\" font-family=\"Times,serif\" font-size=\"14.00\">samples = 284</text>\n<text text-anchor=\"middle\" x=\"3878.5\" y=\"-245.8\" font-family=\"Times,serif\" font-size=\"14.00\">value = [276, 8]</text>\n<text text-anchor=\"middle\" x=\"3878.5\" y=\"-230.8\" font-family=\"Times,serif\" font-size=\"14.00\">class = Not churn</text>\n</g>\n<!-- 58&#45;&gt;66 -->\n<g id=\"edge66\" class=\"edge\">\n<title>58&#45;&gt;66</title>\n<path fill=\"none\" stroke=\"black\" d=\"M3878.5,-341.91C3878.5,-333.65 3878.5,-324.86 3878.5,-316.3\"/>\n<polygon fill=\"black\" stroke=\"black\" points=\"3882,-316.02 3878.5,-306.02 3875,-316.02 3882,-316.02\"/>\n</g>\n<!-- 60 -->\n<g id=\"node61\" class=\"node\">\n<title>60</title>\n<polygon fill=\"#eeaa7a\" stroke=\"black\" points=\"3417.5,-187 3171.5,-187 3171.5,-104 3417.5,-104 3417.5,-187\"/>\n<text text-anchor=\"middle\" x=\"3294.5\" y=\"-171.8\" font-family=\"Times,serif\" font-size=\"14.00\">PaymentMethod_Electronic check &lt;= 0.5</text>\n<text text-anchor=\"middle\" x=\"3294.5\" y=\"-156.8\" font-family=\"Times,serif\" font-size=\"14.00\">gini = 0.4</text>\n<text text-anchor=\"middle\" x=\"3294.5\" y=\"-141.8\" font-family=\"Times,serif\" font-size=\"14.00\">samples = 105</text>\n<text text-anchor=\"middle\" x=\"3294.5\" y=\"-126.8\" font-family=\"Times,serif\" font-size=\"14.00\">value = [79, 26]</text>\n<text text-anchor=\"middle\" x=\"3294.5\" y=\"-111.8\" font-family=\"Times,serif\" font-size=\"14.00\">class = Not churn</text>\n</g>\n<!-- 59&#45;&gt;60 -->\n<g id=\"edge60\" class=\"edge\">\n<title>59&#45;&gt;60</title>\n<path fill=\"none\" stroke=\"black\" d=\"M3484.83,-236.66C3456.7,-223.33 3421.95,-206.87 3389.88,-191.68\"/>\n<polygon fill=\"black\" stroke=\"black\" points=\"3391,-188.34 3380.46,-187.22 3388,-194.66 3391,-188.34\"/>\n</g>\n<!-- 63 -->\n<g id=\"node64\" class=\"node\">\n<title>63</title>\n<polygon fill=\"#e89153\" stroke=\"black\" points=\"3632.5,-187 3450.5,-187 3450.5,-104 3632.5,-104 3632.5,-187\"/>\n<text text-anchor=\"middle\" x=\"3541.5\" y=\"-171.8\" font-family=\"Times,serif\" font-size=\"14.00\">StreamingMovies_Yes &lt;= 0.5</text>\n<text text-anchor=\"middle\" x=\"3541.5\" y=\"-156.8\" font-family=\"Times,serif\" font-size=\"14.00\">gini = 0.2</text>\n<text text-anchor=\"middle\" x=\"3541.5\" y=\"-141.8\" font-family=\"Times,serif\" font-size=\"14.00\">samples = 594</text>\n<text text-anchor=\"middle\" x=\"3541.5\" y=\"-126.8\" font-family=\"Times,serif\" font-size=\"14.00\">value = [526, 68]</text>\n<text text-anchor=\"middle\" x=\"3541.5\" y=\"-111.8\" font-family=\"Times,serif\" font-size=\"14.00\">class = Not churn</text>\n</g>\n<!-- 59&#45;&gt;63 -->\n<g id=\"edge63\" class=\"edge\">\n<title>59&#45;&gt;63</title>\n<path fill=\"none\" stroke=\"black\" d=\"M3541.5,-222.91C3541.5,-214.65 3541.5,-205.86 3541.5,-197.3\"/>\n<polygon fill=\"black\" stroke=\"black\" points=\"3545,-197.02 3541.5,-187.02 3538,-197.02 3545,-197.02\"/>\n</g>\n<!-- 61 -->\n<g id=\"node62\" class=\"node\">\n<title>61</title>\n<polygon fill=\"#eb9d64\" stroke=\"black\" points=\"3220,-68 3107,-68 3107,0 3220,0 3220,-68\"/>\n<text text-anchor=\"middle\" x=\"3163.5\" y=\"-52.8\" font-family=\"Times,serif\" font-size=\"14.00\">gini = 0.3</text>\n<text text-anchor=\"middle\" x=\"3163.5\" y=\"-37.8\" font-family=\"Times,serif\" font-size=\"14.00\">samples = 78</text>\n<text text-anchor=\"middle\" x=\"3163.5\" y=\"-22.8\" font-family=\"Times,serif\" font-size=\"14.00\">value = [64, 14]</text>\n<text text-anchor=\"middle\" x=\"3163.5\" y=\"-7.8\" font-family=\"Times,serif\" font-size=\"14.00\">class = Not churn</text>\n</g>\n<!-- 60&#45;&gt;61 -->\n<g id=\"edge61\" class=\"edge\">\n<title>60&#45;&gt;61</title>\n<path fill=\"none\" stroke=\"black\" d=\"M3245.72,-103.73C3234.37,-94.24 3222.31,-84.16 3211.01,-74.72\"/>\n<polygon fill=\"black\" stroke=\"black\" points=\"3213.26,-72.03 3203.34,-68.3 3208.77,-77.4 3213.26,-72.03\"/>\n</g>\n<!-- 62 -->\n<g id=\"node63\" class=\"node\">\n<title>62</title>\n<polygon fill=\"#fae6d7\" stroke=\"black\" points=\"3351,-68 3238,-68 3238,0 3351,0 3351,-68\"/>\n<text text-anchor=\"middle\" x=\"3294.5\" y=\"-52.8\" font-family=\"Times,serif\" font-size=\"14.00\">gini = 0.5</text>\n<text text-anchor=\"middle\" x=\"3294.5\" y=\"-37.8\" font-family=\"Times,serif\" font-size=\"14.00\">samples = 27</text>\n<text text-anchor=\"middle\" x=\"3294.5\" y=\"-22.8\" font-family=\"Times,serif\" font-size=\"14.00\">value = [15, 12]</text>\n<text text-anchor=\"middle\" x=\"3294.5\" y=\"-7.8\" font-family=\"Times,serif\" font-size=\"14.00\">class = Not churn</text>\n</g>\n<!-- 60&#45;&gt;62 -->\n<g id=\"edge62\" class=\"edge\">\n<title>60&#45;&gt;62</title>\n<path fill=\"none\" stroke=\"black\" d=\"M3294.5,-103.73C3294.5,-95.52 3294.5,-86.86 3294.5,-78.56\"/>\n<polygon fill=\"black\" stroke=\"black\" points=\"3298,-78.3 3294.5,-68.3 3291,-78.3 3298,-78.3\"/>\n</g>\n<!-- 64 -->\n<g id=\"node65\" class=\"node\">\n<title>64</title>\n<polygon fill=\"#e78c4a\" stroke=\"black\" points=\"3482,-68 3369,-68 3369,0 3482,0 3482,-68\"/>\n<text text-anchor=\"middle\" x=\"3425.5\" y=\"-52.8\" font-family=\"Times,serif\" font-size=\"14.00\">gini = 0.1</text>\n<text text-anchor=\"middle\" x=\"3425.5\" y=\"-37.8\" font-family=\"Times,serif\" font-size=\"14.00\">samples = 353</text>\n<text text-anchor=\"middle\" x=\"3425.5\" y=\"-22.8\" font-family=\"Times,serif\" font-size=\"14.00\">value = [325, 28]</text>\n<text text-anchor=\"middle\" x=\"3425.5\" y=\"-7.8\" font-family=\"Times,serif\" font-size=\"14.00\">class = Not churn</text>\n</g>\n<!-- 63&#45;&gt;64 -->\n<g id=\"edge64\" class=\"edge\">\n<title>63&#45;&gt;64</title>\n<path fill=\"none\" stroke=\"black\" d=\"M3498.31,-103.73C3488.45,-94.42 3477.98,-84.54 3468.15,-75.26\"/>\n<polygon fill=\"black\" stroke=\"black\" points=\"3470.45,-72.62 3460.78,-68.3 3465.65,-77.71 3470.45,-72.62\"/>\n</g>\n<!-- 65 -->\n<g id=\"node66\" class=\"node\">\n<title>65</title>\n<polygon fill=\"#ea9a60\" stroke=\"black\" points=\"3613,-68 3500,-68 3500,0 3613,0 3613,-68\"/>\n<text text-anchor=\"middle\" x=\"3556.5\" y=\"-52.8\" font-family=\"Times,serif\" font-size=\"14.00\">gini = 0.3</text>\n<text text-anchor=\"middle\" x=\"3556.5\" y=\"-37.8\" font-family=\"Times,serif\" font-size=\"14.00\">samples = 241</text>\n<text text-anchor=\"middle\" x=\"3556.5\" y=\"-22.8\" font-family=\"Times,serif\" font-size=\"14.00\">value = [201, 40]</text>\n<text text-anchor=\"middle\" x=\"3556.5\" y=\"-7.8\" font-family=\"Times,serif\" font-size=\"14.00\">class = Not churn</text>\n</g>\n<!-- 63&#45;&gt;65 -->\n<g id=\"edge65\" class=\"edge\">\n<title>63&#45;&gt;65</title>\n<path fill=\"none\" stroke=\"black\" d=\"M3547.09,-103.73C3548.22,-95.43 3549.42,-86.67 3550.57,-78.28\"/>\n<polygon fill=\"black\" stroke=\"black\" points=\"3554.05,-78.68 3551.94,-68.3 3547.11,-77.73 3554.05,-78.68\"/>\n</g>\n<!-- 67 -->\n<g id=\"node68\" class=\"node\">\n<title>67</title>\n<polygon fill=\"#e6843d\" stroke=\"black\" points=\"3882.5,-187 3728.5,-187 3728.5,-104 3882.5,-104 3882.5,-187\"/>\n<text text-anchor=\"middle\" x=\"3805.5\" y=\"-171.8\" font-family=\"Times,serif\" font-size=\"14.00\">MonthlyCharges &lt;= &#45;1.5</text>\n<text text-anchor=\"middle\" x=\"3805.5\" y=\"-156.8\" font-family=\"Times,serif\" font-size=\"14.00\">gini = 0.0</text>\n<text text-anchor=\"middle\" x=\"3805.5\" y=\"-141.8\" font-family=\"Times,serif\" font-size=\"14.00\">samples = 251</text>\n<text text-anchor=\"middle\" x=\"3805.5\" y=\"-126.8\" font-family=\"Times,serif\" font-size=\"14.00\">value = [246, 5]</text>\n<text text-anchor=\"middle\" x=\"3805.5\" y=\"-111.8\" font-family=\"Times,serif\" font-size=\"14.00\">class = Not churn</text>\n</g>\n<!-- 66&#45;&gt;67 -->\n<g id=\"edge67\" class=\"edge\">\n<title>66&#45;&gt;67</title>\n<path fill=\"none\" stroke=\"black\" d=\"M3853.17,-222.91C3847.68,-214.1 3841.81,-204.7 3836.14,-195.61\"/>\n<polygon fill=\"black\" stroke=\"black\" points=\"3839.05,-193.65 3830.78,-187.02 3833.11,-197.36 3839.05,-193.65\"/>\n</g>\n<!-- 70 -->\n<g id=\"node71\" class=\"node\">\n<title>70</title>\n<polygon fill=\"#e88e4d\" stroke=\"black\" points=\"4024.5,-187 3900.5,-187 3900.5,-104 4024.5,-104 4024.5,-187\"/>\n<text text-anchor=\"middle\" x=\"3962.5\" y=\"-171.8\" font-family=\"Times,serif\" font-size=\"14.00\">Partner_Yes &lt;= 0.5</text>\n<text text-anchor=\"middle\" x=\"3962.5\" y=\"-156.8\" font-family=\"Times,serif\" font-size=\"14.00\">gini = 0.2</text>\n<text text-anchor=\"middle\" x=\"3962.5\" y=\"-141.8\" font-family=\"Times,serif\" font-size=\"14.00\">samples = 33</text>\n<text text-anchor=\"middle\" x=\"3962.5\" y=\"-126.8\" font-family=\"Times,serif\" font-size=\"14.00\">value = [30, 3]</text>\n<text text-anchor=\"middle\" x=\"3962.5\" y=\"-111.8\" font-family=\"Times,serif\" font-size=\"14.00\">class = Not churn</text>\n</g>\n<!-- 66&#45;&gt;70 -->\n<g id=\"edge70\" class=\"edge\">\n<title>66&#45;&gt;70</title>\n<path fill=\"none\" stroke=\"black\" d=\"M3907.64,-222.91C3914.03,-214.01 3920.85,-204.51 3927.44,-195.33\"/>\n<polygon fill=\"black\" stroke=\"black\" points=\"3930.42,-197.19 3933.41,-187.02 3924.73,-193.1 3930.42,-197.19\"/>\n</g>\n<!-- 68 -->\n<g id=\"node69\" class=\"node\">\n<title>68</title>\n<polygon fill=\"#e5823b\" stroke=\"black\" points=\"3744,-68 3631,-68 3631,0 3744,0 3744,-68\"/>\n<text text-anchor=\"middle\" x=\"3687.5\" y=\"-52.8\" font-family=\"Times,serif\" font-size=\"14.00\">gini = 0.0</text>\n<text text-anchor=\"middle\" x=\"3687.5\" y=\"-37.8\" font-family=\"Times,serif\" font-size=\"14.00\">samples = 192</text>\n<text text-anchor=\"middle\" x=\"3687.5\" y=\"-22.8\" font-family=\"Times,serif\" font-size=\"14.00\">value = [190, 2]</text>\n<text text-anchor=\"middle\" x=\"3687.5\" y=\"-7.8\" font-family=\"Times,serif\" font-size=\"14.00\">class = Not churn</text>\n</g>\n<!-- 67&#45;&gt;68 -->\n<g id=\"edge68\" class=\"edge\">\n<title>67&#45;&gt;68</title>\n<path fill=\"none\" stroke=\"black\" d=\"M3761.56,-103.73C3751.54,-94.42 3740.89,-84.54 3730.89,-75.26\"/>\n<polygon fill=\"black\" stroke=\"black\" points=\"3733.1,-72.54 3723.38,-68.3 3728.33,-77.67 3733.1,-72.54\"/>\n</g>\n<!-- 69 -->\n<g id=\"node70\" class=\"node\">\n<title>69</title>\n<polygon fill=\"#e68844\" stroke=\"black\" points=\"3875,-68 3762,-68 3762,0 3875,0 3875,-68\"/>\n<text text-anchor=\"middle\" x=\"3818.5\" y=\"-52.8\" font-family=\"Times,serif\" font-size=\"14.00\">gini = 0.1</text>\n<text text-anchor=\"middle\" x=\"3818.5\" y=\"-37.8\" font-family=\"Times,serif\" font-size=\"14.00\">samples = 59</text>\n<text text-anchor=\"middle\" x=\"3818.5\" y=\"-22.8\" font-family=\"Times,serif\" font-size=\"14.00\">value = [56, 3]</text>\n<text text-anchor=\"middle\" x=\"3818.5\" y=\"-7.8\" font-family=\"Times,serif\" font-size=\"14.00\">class = Not churn</text>\n</g>\n<!-- 67&#45;&gt;69 -->\n<g id=\"edge69\" class=\"edge\">\n<title>67&#45;&gt;69</title>\n<path fill=\"none\" stroke=\"black\" d=\"M3810.34,-103.73C3811.33,-95.43 3812.37,-86.67 3813.36,-78.28\"/>\n<polygon fill=\"black\" stroke=\"black\" points=\"3816.84,-78.64 3814.55,-68.3 3809.89,-77.82 3816.84,-78.64\"/>\n</g>\n<!-- 71 -->\n<g id=\"node72\" class=\"node\">\n<title>71</title>\n<polygon fill=\"#eca36f\" stroke=\"black\" points=\"4006,-68 3893,-68 3893,0 4006,0 4006,-68\"/>\n<text text-anchor=\"middle\" x=\"3949.5\" y=\"-52.8\" font-family=\"Times,serif\" font-size=\"14.00\">gini = 0.3</text>\n<text text-anchor=\"middle\" x=\"3949.5\" y=\"-37.8\" font-family=\"Times,serif\" font-size=\"14.00\">samples = 14</text>\n<text text-anchor=\"middle\" x=\"3949.5\" y=\"-22.8\" font-family=\"Times,serif\" font-size=\"14.00\">value = [11, 3]</text>\n<text text-anchor=\"middle\" x=\"3949.5\" y=\"-7.8\" font-family=\"Times,serif\" font-size=\"14.00\">class = Not churn</text>\n</g>\n<!-- 70&#45;&gt;71 -->\n<g id=\"edge71\" class=\"edge\">\n<title>70&#45;&gt;71</title>\n<path fill=\"none\" stroke=\"black\" d=\"M3957.66,-103.73C3956.67,-95.43 3955.63,-86.67 3954.64,-78.28\"/>\n<polygon fill=\"black\" stroke=\"black\" points=\"3958.11,-77.82 3953.45,-68.3 3951.16,-78.64 3958.11,-77.82\"/>\n</g>\n<!-- 72 -->\n<g id=\"node73\" class=\"node\">\n<title>72</title>\n<polygon fill=\"#e58139\" stroke=\"black\" points=\"4137,-68 4024,-68 4024,0 4137,0 4137,-68\"/>\n<text text-anchor=\"middle\" x=\"4080.5\" y=\"-52.8\" font-family=\"Times,serif\" font-size=\"14.00\">gini = 0.0</text>\n<text text-anchor=\"middle\" x=\"4080.5\" y=\"-37.8\" font-family=\"Times,serif\" font-size=\"14.00\">samples = 19</text>\n<text text-anchor=\"middle\" x=\"4080.5\" y=\"-22.8\" font-family=\"Times,serif\" font-size=\"14.00\">value = [19, 0]</text>\n<text text-anchor=\"middle\" x=\"4080.5\" y=\"-7.8\" font-family=\"Times,serif\" font-size=\"14.00\">class = Not churn</text>\n</g>\n<!-- 70&#45;&gt;72 -->\n<g id=\"edge72\" class=\"edge\">\n<title>70&#45;&gt;72</title>\n<path fill=\"none\" stroke=\"black\" d=\"M4006.44,-103.73C4016.46,-94.42 4027.11,-84.54 4037.11,-75.26\"/>\n<polygon fill=\"black\" stroke=\"black\" points=\"4039.67,-77.67 4044.62,-68.3 4034.9,-72.54 4039.67,-77.67\"/>\n</g>\n<!-- 74 -->\n<g id=\"node75\" class=\"node\">\n<title>74</title>\n<polygon fill=\"#e5823b\" stroke=\"black\" points=\"4348,-306 4235,-306 4235,-223 4348,-223 4348,-306\"/>\n<text text-anchor=\"middle\" x=\"4291.5\" y=\"-290.8\" font-family=\"Times,serif\" font-size=\"14.00\">tenure &lt;= 1.4</text>\n<text text-anchor=\"middle\" x=\"4291.5\" y=\"-275.8\" font-family=\"Times,serif\" font-size=\"14.00\">gini = 0.0</text>\n<text text-anchor=\"middle\" x=\"4291.5\" y=\"-260.8\" font-family=\"Times,serif\" font-size=\"14.00\">samples = 799</text>\n<text text-anchor=\"middle\" x=\"4291.5\" y=\"-245.8\" font-family=\"Times,serif\" font-size=\"14.00\">value = [791, 8]</text>\n<text text-anchor=\"middle\" x=\"4291.5\" y=\"-230.8\" font-family=\"Times,serif\" font-size=\"14.00\">class = Not churn</text>\n</g>\n<!-- 73&#45;&gt;74 -->\n<g id=\"edge74\" class=\"edge\">\n<title>73&#45;&gt;74</title>\n<path fill=\"none\" stroke=\"black\" d=\"M4291.5,-341.91C4291.5,-333.65 4291.5,-324.86 4291.5,-316.3\"/>\n<polygon fill=\"black\" stroke=\"black\" points=\"4295,-316.02 4291.5,-306.02 4288,-316.02 4295,-316.02\"/>\n</g>\n<!-- 79 -->\n<g id=\"node80\" class=\"node\">\n<title>79</title>\n<polygon fill=\"#e68844\" stroke=\"black\" points=\"4665,-306 4428,-306 4428,-223 4665,-223 4665,-306\"/>\n<text text-anchor=\"middle\" x=\"4546.5\" y=\"-290.8\" font-family=\"Times,serif\" font-size=\"14.00\">MultipleLines_No phone service &lt;= 0.5</text>\n<text text-anchor=\"middle\" x=\"4546.5\" y=\"-275.8\" font-family=\"Times,serif\" font-size=\"14.00\">gini = 0.1</text>\n<text text-anchor=\"middle\" x=\"4546.5\" y=\"-260.8\" font-family=\"Times,serif\" font-size=\"14.00\">samples = 56</text>\n<text text-anchor=\"middle\" x=\"4546.5\" y=\"-245.8\" font-family=\"Times,serif\" font-size=\"14.00\">value = [53, 3]</text>\n<text text-anchor=\"middle\" x=\"4546.5\" y=\"-230.8\" font-family=\"Times,serif\" font-size=\"14.00\">class = Not churn</text>\n</g>\n<!-- 73&#45;&gt;79 -->\n<g id=\"edge79\" class=\"edge\">\n<title>73&#45;&gt;79</title>\n<path fill=\"none\" stroke=\"black\" d=\"M4379.97,-341.91C4402.22,-331.7 4426.23,-320.68 4448.9,-310.28\"/>\n<polygon fill=\"black\" stroke=\"black\" points=\"4450.56,-313.37 4458.19,-306.02 4447.64,-307.01 4450.56,-313.37\"/>\n</g>\n<!-- 75 -->\n<g id=\"node76\" class=\"node\">\n<title>75</title>\n<polygon fill=\"#e5833c\" stroke=\"black\" points=\"4294.5,-187 4164.5,-187 4164.5,-104 4294.5,-104 4294.5,-187\"/>\n<text text-anchor=\"middle\" x=\"4229.5\" y=\"-171.8\" font-family=\"Times,serif\" font-size=\"14.00\">TotalCharges &lt;= 1.0</text>\n<text text-anchor=\"middle\" x=\"4229.5\" y=\"-156.8\" font-family=\"Times,serif\" font-size=\"14.00\">gini = 0.0</text>\n<text text-anchor=\"middle\" x=\"4229.5\" y=\"-141.8\" font-family=\"Times,serif\" font-size=\"14.00\">samples = 468</text>\n<text text-anchor=\"middle\" x=\"4229.5\" y=\"-126.8\" font-family=\"Times,serif\" font-size=\"14.00\">value = [460, 8]</text>\n<text text-anchor=\"middle\" x=\"4229.5\" y=\"-111.8\" font-family=\"Times,serif\" font-size=\"14.00\">class = Not churn</text>\n</g>\n<!-- 74&#45;&gt;75 -->\n<g id=\"edge75\" class=\"edge\">\n<title>74&#45;&gt;75</title>\n<path fill=\"none\" stroke=\"black\" d=\"M4269.99,-222.91C4265.37,-214.2 4260.45,-204.9 4255.67,-195.89\"/>\n<polygon fill=\"black\" stroke=\"black\" points=\"4258.75,-194.22 4250.97,-187.02 4252.56,-197.5 4258.75,-194.22\"/>\n</g>\n<!-- 78 -->\n<g id=\"node79\" class=\"node\">\n<title>78</title>\n<polygon fill=\"#e58139\" stroke=\"black\" points=\"4426,-179.5 4313,-179.5 4313,-111.5 4426,-111.5 4426,-179.5\"/>\n<text text-anchor=\"middle\" x=\"4369.5\" y=\"-164.3\" font-family=\"Times,serif\" font-size=\"14.00\">gini = 0.0</text>\n<text text-anchor=\"middle\" x=\"4369.5\" y=\"-149.3\" font-family=\"Times,serif\" font-size=\"14.00\">samples = 331</text>\n<text text-anchor=\"middle\" x=\"4369.5\" y=\"-134.3\" font-family=\"Times,serif\" font-size=\"14.00\">value = [331, 0]</text>\n<text text-anchor=\"middle\" x=\"4369.5\" y=\"-119.3\" font-family=\"Times,serif\" font-size=\"14.00\">class = Not churn</text>\n</g>\n<!-- 74&#45;&gt;78 -->\n<g id=\"edge78\" class=\"edge\">\n<title>74&#45;&gt;78</title>\n<path fill=\"none\" stroke=\"black\" d=\"M4318.56,-222.91C4326.07,-211.65 4334.22,-199.42 4341.76,-188.11\"/>\n<polygon fill=\"black\" stroke=\"black\" points=\"4344.75,-189.93 4347.39,-179.67 4338.93,-186.05 4344.75,-189.93\"/>\n</g>\n<!-- 76 -->\n<g id=\"node77\" class=\"node\">\n<title>76</title>\n<polygon fill=\"#e5833b\" stroke=\"black\" points=\"4268,-68 4155,-68 4155,0 4268,0 4268,-68\"/>\n<text text-anchor=\"middle\" x=\"4211.5\" y=\"-52.8\" font-family=\"Times,serif\" font-size=\"14.00\">gini = 0.0</text>\n<text text-anchor=\"middle\" x=\"4211.5\" y=\"-37.8\" font-family=\"Times,serif\" font-size=\"14.00\">samples = 424</text>\n<text text-anchor=\"middle\" x=\"4211.5\" y=\"-22.8\" font-family=\"Times,serif\" font-size=\"14.00\">value = [419, 5]</text>\n<text text-anchor=\"middle\" x=\"4211.5\" y=\"-7.8\" font-family=\"Times,serif\" font-size=\"14.00\">class = Not churn</text>\n</g>\n<!-- 75&#45;&gt;76 -->\n<g id=\"edge76\" class=\"edge\">\n<title>75&#45;&gt;76</title>\n<path fill=\"none\" stroke=\"black\" d=\"M4222.8,-103.73C4221.43,-95.43 4219.99,-86.67 4218.62,-78.28\"/>\n<polygon fill=\"black\" stroke=\"black\" points=\"4222.05,-77.6 4216.97,-68.3 4215.14,-78.73 4222.05,-77.6\"/>\n</g>\n<!-- 77 -->\n<g id=\"node78\" class=\"node\">\n<title>77</title>\n<polygon fill=\"#e78a47\" stroke=\"black\" points=\"4399,-68 4286,-68 4286,0 4399,0 4399,-68\"/>\n<text text-anchor=\"middle\" x=\"4342.5\" y=\"-52.8\" font-family=\"Times,serif\" font-size=\"14.00\">gini = 0.1</text>\n<text text-anchor=\"middle\" x=\"4342.5\" y=\"-37.8\" font-family=\"Times,serif\" font-size=\"14.00\">samples = 44</text>\n<text text-anchor=\"middle\" x=\"4342.5\" y=\"-22.8\" font-family=\"Times,serif\" font-size=\"14.00\">value = [41, 3]</text>\n<text text-anchor=\"middle\" x=\"4342.5\" y=\"-7.8\" font-family=\"Times,serif\" font-size=\"14.00\">class = Not churn</text>\n</g>\n<!-- 75&#45;&gt;77 -->\n<g id=\"edge77\" class=\"edge\">\n<title>75&#45;&gt;77</title>\n<path fill=\"none\" stroke=\"black\" d=\"M4271.58,-103.73C4281.18,-94.42 4291.37,-84.54 4300.95,-75.26\"/>\n<polygon fill=\"black\" stroke=\"black\" points=\"4303.39,-77.77 4308.14,-68.3 4298.52,-72.75 4303.39,-77.77\"/>\n</g>\n<!-- 80 -->\n<g id=\"node81\" class=\"node\">\n<title>80</title>\n<polygon fill=\"#e6843d\" stroke=\"black\" points=\"4611.5,-187 4481.5,-187 4481.5,-104 4611.5,-104 4611.5,-187\"/>\n<text text-anchor=\"middle\" x=\"4546.5\" y=\"-171.8\" font-family=\"Times,serif\" font-size=\"14.00\">TotalCharges &lt;= 1.3</text>\n<text text-anchor=\"middle\" x=\"4546.5\" y=\"-156.8\" font-family=\"Times,serif\" font-size=\"14.00\">gini = 0.0</text>\n<text text-anchor=\"middle\" x=\"4546.5\" y=\"-141.8\" font-family=\"Times,serif\" font-size=\"14.00\">samples = 45</text>\n<text text-anchor=\"middle\" x=\"4546.5\" y=\"-126.8\" font-family=\"Times,serif\" font-size=\"14.00\">value = [44, 1]</text>\n<text text-anchor=\"middle\" x=\"4546.5\" y=\"-111.8\" font-family=\"Times,serif\" font-size=\"14.00\">class = Not churn</text>\n</g>\n<!-- 79&#45;&gt;80 -->\n<g id=\"edge80\" class=\"edge\">\n<title>79&#45;&gt;80</title>\n<path fill=\"none\" stroke=\"black\" d=\"M4546.5,-222.91C4546.5,-214.65 4546.5,-205.86 4546.5,-197.3\"/>\n<polygon fill=\"black\" stroke=\"black\" points=\"4550,-197.02 4546.5,-187.02 4543,-197.02 4550,-197.02\"/>\n</g>\n<!-- 83 -->\n<g id=\"node84\" class=\"node\">\n<title>83</title>\n<polygon fill=\"#eb9d65\" stroke=\"black\" points=\"4822,-187 4649,-187 4649,-104 4822,-104 4822,-187\"/>\n<text text-anchor=\"middle\" x=\"4735.5\" y=\"-171.8\" font-family=\"Times,serif\" font-size=\"14.00\">PaperlessBilling_Yes &lt;= 0.5</text>\n<text text-anchor=\"middle\" x=\"4735.5\" y=\"-156.8\" font-family=\"Times,serif\" font-size=\"14.00\">gini = 0.3</text>\n<text text-anchor=\"middle\" x=\"4735.5\" y=\"-141.8\" font-family=\"Times,serif\" font-size=\"14.00\">samples = 11</text>\n<text text-anchor=\"middle\" x=\"4735.5\" y=\"-126.8\" font-family=\"Times,serif\" font-size=\"14.00\">value = [9, 2]</text>\n<text text-anchor=\"middle\" x=\"4735.5\" y=\"-111.8\" font-family=\"Times,serif\" font-size=\"14.00\">class = Not churn</text>\n</g>\n<!-- 79&#45;&gt;83 -->\n<g id=\"edge83\" class=\"edge\">\n<title>79&#45;&gt;83</title>\n<path fill=\"none\" stroke=\"black\" d=\"M4612.07,-222.91C4627.91,-213.11 4644.94,-202.56 4661.14,-192.53\"/>\n<polygon fill=\"black\" stroke=\"black\" points=\"4663.38,-195.26 4670.04,-187.02 4659.7,-189.31 4663.38,-195.26\"/>\n</g>\n<!-- 81 -->\n<g id=\"node82\" class=\"node\">\n<title>81</title>\n<polygon fill=\"#e58139\" stroke=\"black\" points=\"4530,-68 4417,-68 4417,0 4530,0 4530,-68\"/>\n<text text-anchor=\"middle\" x=\"4473.5\" y=\"-52.8\" font-family=\"Times,serif\" font-size=\"14.00\">gini = 0.0</text>\n<text text-anchor=\"middle\" x=\"4473.5\" y=\"-37.8\" font-family=\"Times,serif\" font-size=\"14.00\">samples = 31</text>\n<text text-anchor=\"middle\" x=\"4473.5\" y=\"-22.8\" font-family=\"Times,serif\" font-size=\"14.00\">value = [31, 0]</text>\n<text text-anchor=\"middle\" x=\"4473.5\" y=\"-7.8\" font-family=\"Times,serif\" font-size=\"14.00\">class = Not churn</text>\n</g>\n<!-- 80&#45;&gt;81 -->\n<g id=\"edge81\" class=\"edge\">\n<title>80&#45;&gt;81</title>\n<path fill=\"none\" stroke=\"black\" d=\"M4519.32,-103.73C4513.42,-94.88 4507.17,-85.51 4501.25,-76.63\"/>\n<polygon fill=\"black\" stroke=\"black\" points=\"4504.16,-74.68 4495.7,-68.3 4498.33,-78.56 4504.16,-74.68\"/>\n</g>\n<!-- 82 -->\n<g id=\"node83\" class=\"node\">\n<title>82</title>\n<polygon fill=\"#e78b48\" stroke=\"black\" points=\"4661,-68 4548,-68 4548,0 4661,0 4661,-68\"/>\n<text text-anchor=\"middle\" x=\"4604.5\" y=\"-52.8\" font-family=\"Times,serif\" font-size=\"14.00\">gini = 0.1</text>\n<text text-anchor=\"middle\" x=\"4604.5\" y=\"-37.8\" font-family=\"Times,serif\" font-size=\"14.00\">samples = 14</text>\n<text text-anchor=\"middle\" x=\"4604.5\" y=\"-22.8\" font-family=\"Times,serif\" font-size=\"14.00\">value = [13, 1]</text>\n<text text-anchor=\"middle\" x=\"4604.5\" y=\"-7.8\" font-family=\"Times,serif\" font-size=\"14.00\">class = Not churn</text>\n</g>\n<!-- 80&#45;&gt;82 -->\n<g id=\"edge82\" class=\"edge\">\n<title>80&#45;&gt;82</title>\n<path fill=\"none\" stroke=\"black\" d=\"M4568.1,-103.73C4572.69,-95.06 4577.54,-85.9 4582.16,-77.18\"/>\n<polygon fill=\"black\" stroke=\"black\" points=\"4585.27,-78.77 4586.86,-68.3 4579.09,-75.5 4585.27,-78.77\"/>\n</g>\n<!-- 84 -->\n<g id=\"node85\" class=\"node\">\n<title>84</title>\n<polygon fill=\"#ffffff\" stroke=\"black\" points=\"4792,-68 4679,-68 4679,0 4792,0 4792,-68\"/>\n<text text-anchor=\"middle\" x=\"4735.5\" y=\"-52.8\" font-family=\"Times,serif\" font-size=\"14.00\">gini = 0.5</text>\n<text text-anchor=\"middle\" x=\"4735.5\" y=\"-37.8\" font-family=\"Times,serif\" font-size=\"14.00\">samples = 4</text>\n<text text-anchor=\"middle\" x=\"4735.5\" y=\"-22.8\" font-family=\"Times,serif\" font-size=\"14.00\">value = [2, 2]</text>\n<text text-anchor=\"middle\" x=\"4735.5\" y=\"-7.8\" font-family=\"Times,serif\" font-size=\"14.00\">class = Not churn</text>\n</g>\n<!-- 83&#45;&gt;84 -->\n<g id=\"edge84\" class=\"edge\">\n<title>83&#45;&gt;84</title>\n<path fill=\"none\" stroke=\"black\" d=\"M4735.5,-103.73C4735.5,-95.52 4735.5,-86.86 4735.5,-78.56\"/>\n<polygon fill=\"black\" stroke=\"black\" points=\"4739,-78.3 4735.5,-68.3 4732,-78.3 4739,-78.3\"/>\n</g>\n<!-- 85 -->\n<g id=\"node86\" class=\"node\">\n<title>85</title>\n<polygon fill=\"#e58139\" stroke=\"black\" points=\"4923,-68 4810,-68 4810,0 4923,0 4923,-68\"/>\n<text text-anchor=\"middle\" x=\"4866.5\" y=\"-52.8\" font-family=\"Times,serif\" font-size=\"14.00\">gini = 0.0</text>\n<text text-anchor=\"middle\" x=\"4866.5\" y=\"-37.8\" font-family=\"Times,serif\" font-size=\"14.00\">samples = 7</text>\n<text text-anchor=\"middle\" x=\"4866.5\" y=\"-22.8\" font-family=\"Times,serif\" font-size=\"14.00\">value = [7, 0]</text>\n<text text-anchor=\"middle\" x=\"4866.5\" y=\"-7.8\" font-family=\"Times,serif\" font-size=\"14.00\">class = Not churn</text>\n</g>\n<!-- 83&#45;&gt;85 -->\n<g id=\"edge85\" class=\"edge\">\n<title>83&#45;&gt;85</title>\n<path fill=\"none\" stroke=\"black\" d=\"M4784.28,-103.73C4795.63,-94.24 4807.69,-84.16 4818.99,-74.72\"/>\n<polygon fill=\"black\" stroke=\"black\" points=\"4821.23,-77.4 4826.66,-68.3 4816.74,-72.03 4821.23,-77.4\"/>\n</g>\n<!-- 87 -->\n<g id=\"node88\" class=\"node\">\n<title>87</title>\n<polygon fill=\"#f4ccae\" stroke=\"black\" points=\"5604.5,-425 5358.5,-425 5358.5,-342 5604.5,-342 5604.5,-425\"/>\n<text text-anchor=\"middle\" x=\"5481.5\" y=\"-409.8\" font-family=\"Times,serif\" font-size=\"14.00\">PaymentMethod_Electronic check &lt;= 0.5</text>\n<text text-anchor=\"middle\" x=\"5481.5\" y=\"-394.8\" font-family=\"Times,serif\" font-size=\"14.00\">gini = 0.5</text>\n<text text-anchor=\"middle\" x=\"5481.5\" y=\"-379.8\" font-family=\"Times,serif\" font-size=\"14.00\">samples = 889</text>\n<text text-anchor=\"middle\" x=\"5481.5\" y=\"-364.8\" font-family=\"Times,serif\" font-size=\"14.00\">value = [558, 331]</text>\n<text text-anchor=\"middle\" x=\"5481.5\" y=\"-349.8\" font-family=\"Times,serif\" font-size=\"14.00\">class = Not churn</text>\n</g>\n<!-- 86&#45;&gt;87 -->\n<g id=\"edge87\" class=\"edge\">\n<title>86&#45;&gt;87</title>\n<path fill=\"none\" stroke=\"black\" d=\"M5481.5,-460.91C5481.5,-452.65 5481.5,-443.86 5481.5,-435.3\"/>\n<polygon fill=\"black\" stroke=\"black\" points=\"5485,-435.02 5481.5,-425.02 5478,-435.02 5485,-435.02\"/>\n</g>\n<!-- 102 -->\n<g id=\"node103\" class=\"node\">\n<title>102</title>\n<polygon fill=\"#e99659\" stroke=\"black\" points=\"6308.5,-425 6146.5,-425 6146.5,-342 6308.5,-342 6308.5,-425\"/>\n<text text-anchor=\"middle\" x=\"6227.5\" y=\"-409.8\" font-family=\"Times,serif\" font-size=\"14.00\">Contract_Two year &lt;= 0.5</text>\n<text text-anchor=\"middle\" x=\"6227.5\" y=\"-394.8\" font-family=\"Times,serif\" font-size=\"14.00\">gini = 0.2</text>\n<text text-anchor=\"middle\" x=\"6227.5\" y=\"-379.8\" font-family=\"Times,serif\" font-size=\"14.00\">samples = 606</text>\n<text text-anchor=\"middle\" x=\"6227.5\" y=\"-364.8\" font-family=\"Times,serif\" font-size=\"14.00\">value = [521, 85]</text>\n<text text-anchor=\"middle\" x=\"6227.5\" y=\"-349.8\" font-family=\"Times,serif\" font-size=\"14.00\">class = Not churn</text>\n</g>\n<!-- 86&#45;&gt;102 -->\n<g id=\"edge102\" class=\"edge\">\n<title>86&#45;&gt;102</title>\n<path fill=\"none\" stroke=\"black\" d=\"M5544.14,-491.68C5676.01,-470.99 5982.73,-422.89 6136.37,-398.79\"/>\n<polygon fill=\"black\" stroke=\"black\" points=\"6136.93,-402.25 6146.27,-397.24 6135.85,-395.33 6136.93,-402.25\"/>\n</g>\n<!-- 88 -->\n<g id=\"node89\" class=\"node\">\n<title>88</title>\n<polygon fill=\"#efb082\" stroke=\"black\" points=\"5425.5,-306 5271.5,-306 5271.5,-223 5425.5,-223 5425.5,-306\"/>\n<text text-anchor=\"middle\" x=\"5348.5\" y=\"-290.8\" font-family=\"Times,serif\" font-size=\"14.00\">TechSupport_Yes &lt;= 0.5</text>\n<text text-anchor=\"middle\" x=\"5348.5\" y=\"-275.8\" font-family=\"Times,serif\" font-size=\"14.00\">gini = 0.4</text>\n<text text-anchor=\"middle\" x=\"5348.5\" y=\"-260.8\" font-family=\"Times,serif\" font-size=\"14.00\">samples = 452</text>\n<text text-anchor=\"middle\" x=\"5348.5\" y=\"-245.8\" font-family=\"Times,serif\" font-size=\"14.00\">value = [330, 122]</text>\n<text text-anchor=\"middle\" x=\"5348.5\" y=\"-230.8\" font-family=\"Times,serif\" font-size=\"14.00\">class = Not churn</text>\n</g>\n<!-- 87&#45;&gt;88 -->\n<g id=\"edge88\" class=\"edge\">\n<title>87&#45;&gt;88</title>\n<path fill=\"none\" stroke=\"black\" d=\"M5435.36,-341.91C5424.63,-332.47 5413.12,-322.34 5402.1,-312.65\"/>\n<polygon fill=\"black\" stroke=\"black\" points=\"5404.38,-310 5394.56,-306.02 5399.76,-315.25 5404.38,-310\"/>\n</g>\n<!-- 95 -->\n<g id=\"node96\" class=\"node\">\n<title>95</title>\n<polygon fill=\"#fdf5ef\" stroke=\"black\" points=\"5653.5,-306 5491.5,-306 5491.5,-223 5653.5,-223 5653.5,-306\"/>\n<text text-anchor=\"middle\" x=\"5572.5\" y=\"-290.8\" font-family=\"Times,serif\" font-size=\"14.00\">MultipleLines_Yes &lt;= 0.5</text>\n<text text-anchor=\"middle\" x=\"5572.5\" y=\"-275.8\" font-family=\"Times,serif\" font-size=\"14.00\">gini = 0.5</text>\n<text text-anchor=\"middle\" x=\"5572.5\" y=\"-260.8\" font-family=\"Times,serif\" font-size=\"14.00\">samples = 437</text>\n<text text-anchor=\"middle\" x=\"5572.5\" y=\"-245.8\" font-family=\"Times,serif\" font-size=\"14.00\">value = [228, 209]</text>\n<text text-anchor=\"middle\" x=\"5572.5\" y=\"-230.8\" font-family=\"Times,serif\" font-size=\"14.00\">class = Not churn</text>\n</g>\n<!-- 87&#45;&gt;95 -->\n<g id=\"edge95\" class=\"edge\">\n<title>87&#45;&gt;95</title>\n<path fill=\"none\" stroke=\"black\" d=\"M5513.07,-341.91C5520.06,-332.92 5527.53,-323.32 5534.74,-314.05\"/>\n<polygon fill=\"black\" stroke=\"black\" points=\"5537.61,-316.06 5540.98,-306.02 5532.08,-311.77 5537.61,-316.06\"/>\n</g>\n<!-- 89 -->\n<g id=\"node90\" class=\"node\">\n<title>89</title>\n<polygon fill=\"#f2be99\" stroke=\"black\" points=\"5209,-187 5048,-187 5048,-104 5209,-104 5209,-187\"/>\n<text text-anchor=\"middle\" x=\"5128.5\" y=\"-171.8\" font-family=\"Times,serif\" font-size=\"14.00\">Contract_One year &lt;= 0.5</text>\n<text text-anchor=\"middle\" x=\"5128.5\" y=\"-156.8\" font-family=\"Times,serif\" font-size=\"14.00\">gini = 0.4</text>\n<text text-anchor=\"middle\" x=\"5128.5\" y=\"-141.8\" font-family=\"Times,serif\" font-size=\"14.00\">samples = 301</text>\n<text text-anchor=\"middle\" x=\"5128.5\" y=\"-126.8\" font-family=\"Times,serif\" font-size=\"14.00\">value = [203, 98]</text>\n<text text-anchor=\"middle\" x=\"5128.5\" y=\"-111.8\" font-family=\"Times,serif\" font-size=\"14.00\">class = Not churn</text>\n</g>\n<!-- 88&#45;&gt;89 -->\n<g id=\"edge89\" class=\"edge\">\n<title>88&#45;&gt;89</title>\n<path fill=\"none\" stroke=\"black\" d=\"M5272.17,-222.91C5253.32,-212.88 5233,-202.07 5213.75,-191.84\"/>\n<polygon fill=\"black\" stroke=\"black\" points=\"5215.17,-188.63 5204.69,-187.02 5211.88,-194.81 5215.17,-188.63\"/>\n</g>\n<!-- 92 -->\n<g id=\"node93\" class=\"node\">\n<title>92</title>\n<polygon fill=\"#ea995e\" stroke=\"black\" points=\"5428,-187 5269,-187 5269,-104 5428,-104 5428,-187\"/>\n<text text-anchor=\"middle\" x=\"5348.5\" y=\"-171.8\" font-family=\"Times,serif\" font-size=\"14.00\">StreamingTV_Yes &lt;= 0.5</text>\n<text text-anchor=\"middle\" x=\"5348.5\" y=\"-156.8\" font-family=\"Times,serif\" font-size=\"14.00\">gini = 0.3</text>\n<text text-anchor=\"middle\" x=\"5348.5\" y=\"-141.8\" font-family=\"Times,serif\" font-size=\"14.00\">samples = 151</text>\n<text text-anchor=\"middle\" x=\"5348.5\" y=\"-126.8\" font-family=\"Times,serif\" font-size=\"14.00\">value = [127, 24]</text>\n<text text-anchor=\"middle\" x=\"5348.5\" y=\"-111.8\" font-family=\"Times,serif\" font-size=\"14.00\">class = Not churn</text>\n</g>\n<!-- 88&#45;&gt;92 -->\n<g id=\"edge92\" class=\"edge\">\n<title>88&#45;&gt;92</title>\n<path fill=\"none\" stroke=\"black\" d=\"M5348.5,-222.91C5348.5,-214.65 5348.5,-205.86 5348.5,-197.3\"/>\n<polygon fill=\"black\" stroke=\"black\" points=\"5352,-197.02 5348.5,-187.02 5345,-197.02 5352,-197.02\"/>\n</g>\n<!-- 90 -->\n<g id=\"node91\" class=\"node\">\n<title>90</title>\n<polygon fill=\"#f4ccaf\" stroke=\"black\" points=\"5054,-68 4941,-68 4941,0 5054,0 5054,-68\"/>\n<text text-anchor=\"middle\" x=\"4997.5\" y=\"-52.8\" font-family=\"Times,serif\" font-size=\"14.00\">gini = 0.5</text>\n<text text-anchor=\"middle\" x=\"4997.5\" y=\"-37.8\" font-family=\"Times,serif\" font-size=\"14.00\">samples = 228</text>\n<text text-anchor=\"middle\" x=\"4997.5\" y=\"-22.8\" font-family=\"Times,serif\" font-size=\"14.00\">value = [143, 85]</text>\n<text text-anchor=\"middle\" x=\"4997.5\" y=\"-7.8\" font-family=\"Times,serif\" font-size=\"14.00\">class = Not churn</text>\n</g>\n<!-- 89&#45;&gt;90 -->\n<g id=\"edge90\" class=\"edge\">\n<title>89&#45;&gt;90</title>\n<path fill=\"none\" stroke=\"black\" d=\"M5079.72,-103.73C5068.37,-94.24 5056.31,-84.16 5045.01,-74.72\"/>\n<polygon fill=\"black\" stroke=\"black\" points=\"5047.26,-72.03 5037.34,-68.3 5042.77,-77.4 5047.26,-72.03\"/>\n</g>\n<!-- 91 -->\n<g id=\"node92\" class=\"node\">\n<title>91</title>\n<polygon fill=\"#eb9c64\" stroke=\"black\" points=\"5185,-68 5072,-68 5072,0 5185,0 5185,-68\"/>\n<text text-anchor=\"middle\" x=\"5128.5\" y=\"-52.8\" font-family=\"Times,serif\" font-size=\"14.00\">gini = 0.3</text>\n<text text-anchor=\"middle\" x=\"5128.5\" y=\"-37.8\" font-family=\"Times,serif\" font-size=\"14.00\">samples = 73</text>\n<text text-anchor=\"middle\" x=\"5128.5\" y=\"-22.8\" font-family=\"Times,serif\" font-size=\"14.00\">value = [60, 13]</text>\n<text text-anchor=\"middle\" x=\"5128.5\" y=\"-7.8\" font-family=\"Times,serif\" font-size=\"14.00\">class = Not churn</text>\n</g>\n<!-- 89&#45;&gt;91 -->\n<g id=\"edge91\" class=\"edge\">\n<title>89&#45;&gt;91</title>\n<path fill=\"none\" stroke=\"black\" d=\"M5128.5,-103.73C5128.5,-95.52 5128.5,-86.86 5128.5,-78.56\"/>\n<polygon fill=\"black\" stroke=\"black\" points=\"5132,-78.3 5128.5,-68.3 5125,-78.3 5132,-78.3\"/>\n</g>\n<!-- 93 -->\n<g id=\"node94\" class=\"node\">\n<title>93</title>\n<polygon fill=\"#e68844\" stroke=\"black\" points=\"5316,-68 5203,-68 5203,0 5316,0 5316,-68\"/>\n<text text-anchor=\"middle\" x=\"5259.5\" y=\"-52.8\" font-family=\"Times,serif\" font-size=\"14.00\">gini = 0.1</text>\n<text text-anchor=\"middle\" x=\"5259.5\" y=\"-37.8\" font-family=\"Times,serif\" font-size=\"14.00\">samples = 59</text>\n<text text-anchor=\"middle\" x=\"5259.5\" y=\"-22.8\" font-family=\"Times,serif\" font-size=\"14.00\">value = [56, 3]</text>\n<text text-anchor=\"middle\" x=\"5259.5\" y=\"-7.8\" font-family=\"Times,serif\" font-size=\"14.00\">class = Not churn</text>\n</g>\n<!-- 92&#45;&gt;93 -->\n<g id=\"edge93\" class=\"edge\">\n<title>92&#45;&gt;93</title>\n<path fill=\"none\" stroke=\"black\" d=\"M5315.36,-103.73C5308.02,-94.7 5300.24,-85.12 5292.89,-76.08\"/>\n<polygon fill=\"black\" stroke=\"black\" points=\"5295.59,-73.85 5286.57,-68.3 5290.16,-78.27 5295.59,-73.85\"/>\n</g>\n<!-- 94 -->\n<g id=\"node95\" class=\"node\">\n<title>94</title>\n<polygon fill=\"#eda674\" stroke=\"black\" points=\"5447,-68 5334,-68 5334,0 5447,0 5447,-68\"/>\n<text text-anchor=\"middle\" x=\"5390.5\" y=\"-52.8\" font-family=\"Times,serif\" font-size=\"14.00\">gini = 0.4</text>\n<text text-anchor=\"middle\" x=\"5390.5\" y=\"-37.8\" font-family=\"Times,serif\" font-size=\"14.00\">samples = 92</text>\n<text text-anchor=\"middle\" x=\"5390.5\" y=\"-22.8\" font-family=\"Times,serif\" font-size=\"14.00\">value = [71, 21]</text>\n<text text-anchor=\"middle\" x=\"5390.5\" y=\"-7.8\" font-family=\"Times,serif\" font-size=\"14.00\">class = Not churn</text>\n</g>\n<!-- 92&#45;&gt;94 -->\n<g id=\"edge94\" class=\"edge\">\n<title>92&#45;&gt;94</title>\n<path fill=\"none\" stroke=\"black\" d=\"M5364.14,-103.73C5367.39,-95.24 5370.83,-86.28 5374.11,-77.73\"/>\n<polygon fill=\"black\" stroke=\"black\" points=\"5377.41,-78.89 5377.73,-68.3 5370.88,-76.38 5377.41,-78.89\"/>\n</g>\n<!-- 96 -->\n<g id=\"node97\" class=\"node\">\n<title>96</title>\n<polygon fill=\"#f2c29f\" stroke=\"black\" points=\"5637.5,-187 5507.5,-187 5507.5,-104 5637.5,-104 5637.5,-187\"/>\n<text text-anchor=\"middle\" x=\"5572.5\" y=\"-171.8\" font-family=\"Times,serif\" font-size=\"14.00\">TotalCharges &lt;= 1.0</text>\n<text text-anchor=\"middle\" x=\"5572.5\" y=\"-156.8\" font-family=\"Times,serif\" font-size=\"14.00\">gini = 0.4</text>\n<text text-anchor=\"middle\" x=\"5572.5\" y=\"-141.8\" font-family=\"Times,serif\" font-size=\"14.00\">samples = 135</text>\n<text text-anchor=\"middle\" x=\"5572.5\" y=\"-126.8\" font-family=\"Times,serif\" font-size=\"14.00\">value = [89, 46]</text>\n<text text-anchor=\"middle\" x=\"5572.5\" y=\"-111.8\" font-family=\"Times,serif\" font-size=\"14.00\">class = Not churn</text>\n</g>\n<!-- 95&#45;&gt;96 -->\n<g id=\"edge96\" class=\"edge\">\n<title>95&#45;&gt;96</title>\n<path fill=\"none\" stroke=\"black\" d=\"M5572.5,-222.91C5572.5,-214.65 5572.5,-205.86 5572.5,-197.3\"/>\n<polygon fill=\"black\" stroke=\"black\" points=\"5576,-197.02 5572.5,-187.02 5569,-197.02 5576,-197.02\"/>\n</g>\n<!-- 99 -->\n<g id=\"node100\" class=\"node\">\n<title>99</title>\n<polygon fill=\"#e2f1fb\" stroke=\"black\" points=\"5867,-187 5706,-187 5706,-104 5867,-104 5867,-187\"/>\n<text text-anchor=\"middle\" x=\"5786.5\" y=\"-171.8\" font-family=\"Times,serif\" font-size=\"14.00\">Contract_One year &lt;= 0.5</text>\n<text text-anchor=\"middle\" x=\"5786.5\" y=\"-156.8\" font-family=\"Times,serif\" font-size=\"14.00\">gini = 0.5</text>\n<text text-anchor=\"middle\" x=\"5786.5\" y=\"-141.8\" font-family=\"Times,serif\" font-size=\"14.00\">samples = 302</text>\n<text text-anchor=\"middle\" x=\"5786.5\" y=\"-126.8\" font-family=\"Times,serif\" font-size=\"14.00\">value = [139, 163]</text>\n<text text-anchor=\"middle\" x=\"5786.5\" y=\"-111.8\" font-family=\"Times,serif\" font-size=\"14.00\">class = Churn</text>\n</g>\n<!-- 95&#45;&gt;99 -->\n<g id=\"edge99\" class=\"edge\">\n<title>95&#45;&gt;99</title>\n<path fill=\"none\" stroke=\"black\" d=\"M5646.75,-222.91C5665.09,-212.88 5684.85,-202.07 5703.58,-191.84\"/>\n<polygon fill=\"black\" stroke=\"black\" points=\"5705.29,-194.89 5712.39,-187.02 5701.93,-188.75 5705.29,-194.89\"/>\n</g>\n<!-- 97 -->\n<g id=\"node98\" class=\"node\">\n<title>97</title>\n<polygon fill=\"#f5d0b6\" stroke=\"black\" points=\"5578,-68 5465,-68 5465,0 5578,0 5578,-68\"/>\n<text text-anchor=\"middle\" x=\"5521.5\" y=\"-52.8\" font-family=\"Times,serif\" font-size=\"14.00\">gini = 0.5</text>\n<text text-anchor=\"middle\" x=\"5521.5\" y=\"-37.8\" font-family=\"Times,serif\" font-size=\"14.00\">samples = 119</text>\n<text text-anchor=\"middle\" x=\"5521.5\" y=\"-22.8\" font-family=\"Times,serif\" font-size=\"14.00\">value = [73, 46]</text>\n<text text-anchor=\"middle\" x=\"5521.5\" y=\"-7.8\" font-family=\"Times,serif\" font-size=\"14.00\">class = Not churn</text>\n</g>\n<!-- 96&#45;&gt;97 -->\n<g id=\"edge97\" class=\"edge\">\n<title>96&#45;&gt;97</title>\n<path fill=\"none\" stroke=\"black\" d=\"M5553.51,-103.73C5549.52,-95.15 5545.29,-86.09 5541.27,-77.46\"/>\n<polygon fill=\"black\" stroke=\"black\" points=\"5544.4,-75.89 5537.01,-68.3 5538.06,-78.84 5544.4,-75.89\"/>\n</g>\n<!-- 98 -->\n<g id=\"node99\" class=\"node\">\n<title>98</title>\n<polygon fill=\"#e58139\" stroke=\"black\" points=\"5709,-68 5596,-68 5596,0 5709,0 5709,-68\"/>\n<text text-anchor=\"middle\" x=\"5652.5\" y=\"-52.8\" font-family=\"Times,serif\" font-size=\"14.00\">gini = 0.0</text>\n<text text-anchor=\"middle\" x=\"5652.5\" y=\"-37.8\" font-family=\"Times,serif\" font-size=\"14.00\">samples = 16</text>\n<text text-anchor=\"middle\" x=\"5652.5\" y=\"-22.8\" font-family=\"Times,serif\" font-size=\"14.00\">value = [16, 0]</text>\n<text text-anchor=\"middle\" x=\"5652.5\" y=\"-7.8\" font-family=\"Times,serif\" font-size=\"14.00\">class = Not churn</text>\n</g>\n<!-- 96&#45;&gt;98 -->\n<g id=\"edge98\" class=\"edge\">\n<title>96&#45;&gt;98</title>\n<path fill=\"none\" stroke=\"black\" d=\"M5602.29,-103.73C5608.75,-94.88 5615.6,-85.51 5622.09,-76.63\"/>\n<polygon fill=\"black\" stroke=\"black\" points=\"5625.1,-78.44 5628.17,-68.3 5619.45,-74.31 5625.1,-78.44\"/>\n</g>\n<!-- 100 -->\n<g id=\"node101\" class=\"node\">\n<title>100</title>\n<polygon fill=\"#cbe5f8\" stroke=\"black\" points=\"5846,-68 5727,-68 5727,0 5846,0 5846,-68\"/>\n<text text-anchor=\"middle\" x=\"5786.5\" y=\"-52.8\" font-family=\"Times,serif\" font-size=\"14.00\">gini = 0.5</text>\n<text text-anchor=\"middle\" x=\"5786.5\" y=\"-37.8\" font-family=\"Times,serif\" font-size=\"14.00\">samples = 259</text>\n<text text-anchor=\"middle\" x=\"5786.5\" y=\"-22.8\" font-family=\"Times,serif\" font-size=\"14.00\">value = [110, 149]</text>\n<text text-anchor=\"middle\" x=\"5786.5\" y=\"-7.8\" font-family=\"Times,serif\" font-size=\"14.00\">class = Churn</text>\n</g>\n<!-- 99&#45;&gt;100 -->\n<g id=\"edge100\" class=\"edge\">\n<title>99&#45;&gt;100</title>\n<path fill=\"none\" stroke=\"black\" d=\"M5786.5,-103.73C5786.5,-95.52 5786.5,-86.86 5786.5,-78.56\"/>\n<polygon fill=\"black\" stroke=\"black\" points=\"5790,-78.3 5786.5,-68.3 5783,-78.3 5790,-78.3\"/>\n</g>\n<!-- 101 -->\n<g id=\"node102\" class=\"node\">\n<title>101</title>\n<polygon fill=\"#f2be99\" stroke=\"black\" points=\"5977,-68 5864,-68 5864,0 5977,0 5977,-68\"/>\n<text text-anchor=\"middle\" x=\"5920.5\" y=\"-52.8\" font-family=\"Times,serif\" font-size=\"14.00\">gini = 0.4</text>\n<text text-anchor=\"middle\" x=\"5920.5\" y=\"-37.8\" font-family=\"Times,serif\" font-size=\"14.00\">samples = 43</text>\n<text text-anchor=\"middle\" x=\"5920.5\" y=\"-22.8\" font-family=\"Times,serif\" font-size=\"14.00\">value = [29, 14]</text>\n<text text-anchor=\"middle\" x=\"5920.5\" y=\"-7.8\" font-family=\"Times,serif\" font-size=\"14.00\">class = Not churn</text>\n</g>\n<!-- 99&#45;&gt;101 -->\n<g id=\"edge101\" class=\"edge\">\n<title>99&#45;&gt;101</title>\n<path fill=\"none\" stroke=\"black\" d=\"M5836.4,-103.73C5848,-94.24 5860.35,-84.16 5871.9,-74.72\"/>\n<polygon fill=\"black\" stroke=\"black\" points=\"5874.22,-77.34 5879.75,-68.3 5869.79,-71.92 5874.22,-77.34\"/>\n</g>\n<!-- 103 -->\n<g id=\"node104\" class=\"node\">\n<title>103</title>\n<polygon fill=\"#eca06a\" stroke=\"black\" points=\"6307,-306 6148,-306 6148,-223 6307,-223 6307,-306\"/>\n<text text-anchor=\"middle\" x=\"6227.5\" y=\"-290.8\" font-family=\"Times,serif\" font-size=\"14.00\">StreamingTV_Yes &lt;= 0.5</text>\n<text text-anchor=\"middle\" x=\"6227.5\" y=\"-275.8\" font-family=\"Times,serif\" font-size=\"14.00\">gini = 0.3</text>\n<text text-anchor=\"middle\" x=\"6227.5\" y=\"-260.8\" font-family=\"Times,serif\" font-size=\"14.00\">samples = 335</text>\n<text text-anchor=\"middle\" x=\"6227.5\" y=\"-245.8\" font-family=\"Times,serif\" font-size=\"14.00\">value = [268, 67]</text>\n<text text-anchor=\"middle\" x=\"6227.5\" y=\"-230.8\" font-family=\"Times,serif\" font-size=\"14.00\">class = Not churn</text>\n</g>\n<!-- 102&#45;&gt;103 -->\n<g id=\"edge103\" class=\"edge\">\n<title>102&#45;&gt;103</title>\n<path fill=\"none\" stroke=\"black\" d=\"M6227.5,-341.91C6227.5,-333.65 6227.5,-324.86 6227.5,-316.3\"/>\n<polygon fill=\"black\" stroke=\"black\" points=\"6231,-316.02 6227.5,-306.02 6224,-316.02 6231,-316.02\"/>\n</g>\n<!-- 110 -->\n<g id=\"node111\" class=\"node\">\n<title>110</title>\n<polygon fill=\"#e78a47\" stroke=\"black\" points=\"6620.5,-306 6490.5,-306 6490.5,-223 6620.5,-223 6620.5,-306\"/>\n<text text-anchor=\"middle\" x=\"6555.5\" y=\"-290.8\" font-family=\"Times,serif\" font-size=\"14.00\">TotalCharges &lt;= 2.5</text>\n<text text-anchor=\"middle\" x=\"6555.5\" y=\"-275.8\" font-family=\"Times,serif\" font-size=\"14.00\">gini = 0.1</text>\n<text text-anchor=\"middle\" x=\"6555.5\" y=\"-260.8\" font-family=\"Times,serif\" font-size=\"14.00\">samples = 271</text>\n<text text-anchor=\"middle\" x=\"6555.5\" y=\"-245.8\" font-family=\"Times,serif\" font-size=\"14.00\">value = [253, 18]</text>\n<text text-anchor=\"middle\" x=\"6555.5\" y=\"-230.8\" font-family=\"Times,serif\" font-size=\"14.00\">class = Not churn</text>\n</g>\n<!-- 102&#45;&gt;110 -->\n<g id=\"edge110\" class=\"edge\">\n<title>102&#45;&gt;110</title>\n<path fill=\"none\" stroke=\"black\" d=\"M6308.58,-353.58C6361.24,-334.79 6429.39,-310.48 6480.75,-292.17\"/>\n<polygon fill=\"black\" stroke=\"black\" points=\"6482.21,-295.36 6490.46,-288.7 6479.86,-288.76 6482.21,-295.36\"/>\n</g>\n<!-- 104 -->\n<g id=\"node105\" class=\"node\">\n<title>104</title>\n<polygon fill=\"#e88f4f\" stroke=\"black\" points=\"6218.5,-187 6088.5,-187 6088.5,-104 6218.5,-104 6218.5,-187\"/>\n<text text-anchor=\"middle\" x=\"6153.5\" y=\"-171.8\" font-family=\"Times,serif\" font-size=\"14.00\">TotalCharges &lt;= 0.8</text>\n<text text-anchor=\"middle\" x=\"6153.5\" y=\"-156.8\" font-family=\"Times,serif\" font-size=\"14.00\">gini = 0.2</text>\n<text text-anchor=\"middle\" x=\"6153.5\" y=\"-141.8\" font-family=\"Times,serif\" font-size=\"14.00\">samples = 99</text>\n<text text-anchor=\"middle\" x=\"6153.5\" y=\"-126.8\" font-family=\"Times,serif\" font-size=\"14.00\">value = [89, 10]</text>\n<text text-anchor=\"middle\" x=\"6153.5\" y=\"-111.8\" font-family=\"Times,serif\" font-size=\"14.00\">class = Not churn</text>\n</g>\n<!-- 103&#45;&gt;104 -->\n<g id=\"edge104\" class=\"edge\">\n<title>103&#45;&gt;104</title>\n<path fill=\"none\" stroke=\"black\" d=\"M6201.83,-222.91C6196.26,-214.1 6190.31,-204.7 6184.56,-195.61\"/>\n<polygon fill=\"black\" stroke=\"black\" points=\"6187.43,-193.6 6179.13,-187.02 6181.52,-197.34 6187.43,-193.6\"/>\n</g>\n<!-- 107 -->\n<g id=\"node108\" class=\"node\">\n<title>107</title>\n<polygon fill=\"#eda978\" stroke=\"black\" points=\"6366.5,-187 6236.5,-187 6236.5,-104 6366.5,-104 6366.5,-187\"/>\n<text text-anchor=\"middle\" x=\"6301.5\" y=\"-171.8\" font-family=\"Times,serif\" font-size=\"14.00\">gender_Male &lt;= 0.5</text>\n<text text-anchor=\"middle\" x=\"6301.5\" y=\"-156.8\" font-family=\"Times,serif\" font-size=\"14.00\">gini = 0.4</text>\n<text text-anchor=\"middle\" x=\"6301.5\" y=\"-141.8\" font-family=\"Times,serif\" font-size=\"14.00\">samples = 236</text>\n<text text-anchor=\"middle\" x=\"6301.5\" y=\"-126.8\" font-family=\"Times,serif\" font-size=\"14.00\">value = [179, 57]</text>\n<text text-anchor=\"middle\" x=\"6301.5\" y=\"-111.8\" font-family=\"Times,serif\" font-size=\"14.00\">class = Not churn</text>\n</g>\n<!-- 103&#45;&gt;107 -->\n<g id=\"edge107\" class=\"edge\">\n<title>103&#45;&gt;107</title>\n<path fill=\"none\" stroke=\"black\" d=\"M6253.17,-222.91C6258.74,-214.1 6264.69,-204.7 6270.44,-195.61\"/>\n<polygon fill=\"black\" stroke=\"black\" points=\"6273.48,-197.34 6275.87,-187.02 6267.57,-193.6 6273.48,-197.34\"/>\n</g>\n<!-- 105 -->\n<g id=\"node106\" class=\"node\">\n<title>105</title>\n<polygon fill=\"#399de5\" stroke=\"black\" points=\"6087.5,-68 5995.5,-68 5995.5,0 6087.5,0 6087.5,-68\"/>\n<text text-anchor=\"middle\" x=\"6041.5\" y=\"-52.8\" font-family=\"Times,serif\" font-size=\"14.00\">gini = 0.0</text>\n<text text-anchor=\"middle\" x=\"6041.5\" y=\"-37.8\" font-family=\"Times,serif\" font-size=\"14.00\">samples = 1</text>\n<text text-anchor=\"middle\" x=\"6041.5\" y=\"-22.8\" font-family=\"Times,serif\" font-size=\"14.00\">value = [0, 1]</text>\n<text text-anchor=\"middle\" x=\"6041.5\" y=\"-7.8\" font-family=\"Times,serif\" font-size=\"14.00\">class = Churn</text>\n</g>\n<!-- 104&#45;&gt;105 -->\n<g id=\"edge105\" class=\"edge\">\n<title>104&#45;&gt;105</title>\n<path fill=\"none\" stroke=\"black\" d=\"M6111.8,-103.73C6102.37,-94.51 6092.37,-84.74 6082.96,-75.53\"/>\n<polygon fill=\"black\" stroke=\"black\" points=\"6085.16,-72.79 6075.56,-68.3 6080.26,-77.79 6085.16,-72.79\"/>\n</g>\n<!-- 106 -->\n<g id=\"node107\" class=\"node\">\n<title>106</title>\n<polygon fill=\"#e88e4d\" stroke=\"black\" points=\"6219,-68 6106,-68 6106,0 6219,0 6219,-68\"/>\n<text text-anchor=\"middle\" x=\"6162.5\" y=\"-52.8\" font-family=\"Times,serif\" font-size=\"14.00\">gini = 0.2</text>\n<text text-anchor=\"middle\" x=\"6162.5\" y=\"-37.8\" font-family=\"Times,serif\" font-size=\"14.00\">samples = 98</text>\n<text text-anchor=\"middle\" x=\"6162.5\" y=\"-22.8\" font-family=\"Times,serif\" font-size=\"14.00\">value = [89, 9]</text>\n<text text-anchor=\"middle\" x=\"6162.5\" y=\"-7.8\" font-family=\"Times,serif\" font-size=\"14.00\">class = Not churn</text>\n</g>\n<!-- 104&#45;&gt;106 -->\n<g id=\"edge106\" class=\"edge\">\n<title>104&#45;&gt;106</title>\n<path fill=\"none\" stroke=\"black\" d=\"M6156.85,-103.73C6157.53,-95.43 6158.25,-86.67 6158.94,-78.28\"/>\n<polygon fill=\"black\" stroke=\"black\" points=\"6162.43,-78.55 6159.76,-68.3 6155.46,-77.98 6162.43,-78.55\"/>\n</g>\n<!-- 108 -->\n<g id=\"node109\" class=\"node\">\n<title>108</title>\n<polygon fill=\"#ea9a60\" stroke=\"black\" points=\"6350,-68 6237,-68 6237,0 6350,0 6350,-68\"/>\n<text text-anchor=\"middle\" x=\"6293.5\" y=\"-52.8\" font-family=\"Times,serif\" font-size=\"14.00\">gini = 0.3</text>\n<text text-anchor=\"middle\" x=\"6293.5\" y=\"-37.8\" font-family=\"Times,serif\" font-size=\"14.00\">samples = 115</text>\n<text text-anchor=\"middle\" x=\"6293.5\" y=\"-22.8\" font-family=\"Times,serif\" font-size=\"14.00\">value = [96, 19]</text>\n<text text-anchor=\"middle\" x=\"6293.5\" y=\"-7.8\" font-family=\"Times,serif\" font-size=\"14.00\">class = Not churn</text>\n</g>\n<!-- 107&#45;&gt;108 -->\n<g id=\"edge108\" class=\"edge\">\n<title>107&#45;&gt;108</title>\n<path fill=\"none\" stroke=\"black\" d=\"M6298.52,-103.73C6297.91,-95.43 6297.27,-86.67 6296.66,-78.28\"/>\n<polygon fill=\"black\" stroke=\"black\" points=\"6300.15,-78.02 6295.93,-68.3 6293.17,-78.53 6300.15,-78.02\"/>\n</g>\n<!-- 109 -->\n<g id=\"node110\" class=\"node\">\n<title>109</title>\n<polygon fill=\"#f1bb94\" stroke=\"black\" points=\"6481,-68 6368,-68 6368,0 6481,0 6481,-68\"/>\n<text text-anchor=\"middle\" x=\"6424.5\" y=\"-52.8\" font-family=\"Times,serif\" font-size=\"14.00\">gini = 0.4</text>\n<text text-anchor=\"middle\" x=\"6424.5\" y=\"-37.8\" font-family=\"Times,serif\" font-size=\"14.00\">samples = 121</text>\n<text text-anchor=\"middle\" x=\"6424.5\" y=\"-22.8\" font-family=\"Times,serif\" font-size=\"14.00\">value = [83, 38]</text>\n<text text-anchor=\"middle\" x=\"6424.5\" y=\"-7.8\" font-family=\"Times,serif\" font-size=\"14.00\">class = Not churn</text>\n</g>\n<!-- 107&#45;&gt;109 -->\n<g id=\"edge109\" class=\"edge\">\n<title>107&#45;&gt;109</title>\n<path fill=\"none\" stroke=\"black\" d=\"M6347.3,-103.73C6357.85,-94.33 6369.07,-84.35 6379.58,-74.99\"/>\n<polygon fill=\"black\" stroke=\"black\" points=\"6381.95,-77.56 6387.09,-68.3 6377.3,-72.33 6381.95,-77.56\"/>\n</g>\n<!-- 111 -->\n<g id=\"node112\" class=\"node\">\n<title>111</title>\n<polygon fill=\"#e88e4d\" stroke=\"black\" points=\"6630,-187 6481,-187 6481,-104 6630,-104 6630,-187\"/>\n<text text-anchor=\"middle\" x=\"6555.5\" y=\"-171.8\" font-family=\"Times,serif\" font-size=\"14.00\">MonthlyCharges &lt;= 1.7</text>\n<text text-anchor=\"middle\" x=\"6555.5\" y=\"-156.8\" font-family=\"Times,serif\" font-size=\"14.00\">gini = 0.2</text>\n<text text-anchor=\"middle\" x=\"6555.5\" y=\"-141.8\" font-family=\"Times,serif\" font-size=\"14.00\">samples = 193</text>\n<text text-anchor=\"middle\" x=\"6555.5\" y=\"-126.8\" font-family=\"Times,serif\" font-size=\"14.00\">value = [175, 18]</text>\n<text text-anchor=\"middle\" x=\"6555.5\" y=\"-111.8\" font-family=\"Times,serif\" font-size=\"14.00\">class = Not churn</text>\n</g>\n<!-- 110&#45;&gt;111 -->\n<g id=\"edge111\" class=\"edge\">\n<title>110&#45;&gt;111</title>\n<path fill=\"none\" stroke=\"black\" d=\"M6555.5,-222.91C6555.5,-214.65 6555.5,-205.86 6555.5,-197.3\"/>\n<polygon fill=\"black\" stroke=\"black\" points=\"6559,-197.02 6555.5,-187.02 6552,-197.02 6559,-197.02\"/>\n</g>\n<!-- 114 -->\n<g id=\"node115\" class=\"node\">\n<title>114</title>\n<polygon fill=\"#e58139\" stroke=\"black\" points=\"6761,-179.5 6648,-179.5 6648,-111.5 6761,-111.5 6761,-179.5\"/>\n<text text-anchor=\"middle\" x=\"6704.5\" y=\"-164.3\" font-family=\"Times,serif\" font-size=\"14.00\">gini = 0.0</text>\n<text text-anchor=\"middle\" x=\"6704.5\" y=\"-149.3\" font-family=\"Times,serif\" font-size=\"14.00\">samples = 78</text>\n<text text-anchor=\"middle\" x=\"6704.5\" y=\"-134.3\" font-family=\"Times,serif\" font-size=\"14.00\">value = [78, 0]</text>\n<text text-anchor=\"middle\" x=\"6704.5\" y=\"-119.3\" font-family=\"Times,serif\" font-size=\"14.00\">class = Not churn</text>\n</g>\n<!-- 110&#45;&gt;114 -->\n<g id=\"edge114\" class=\"edge\">\n<title>110&#45;&gt;114</title>\n<path fill=\"none\" stroke=\"black\" d=\"M6607.19,-222.91C6622.37,-210.99 6638.95,-197.98 6654.04,-186.12\"/>\n<polygon fill=\"black\" stroke=\"black\" points=\"6656.56,-188.6 6662.26,-179.67 6652.24,-183.09 6656.56,-188.6\"/>\n</g>\n<!-- 112 -->\n<g id=\"node113\" class=\"node\">\n<title>112</title>\n<polygon fill=\"#e88d4c\" stroke=\"black\" points=\"6612,-68 6499,-68 6499,0 6612,0 6612,-68\"/>\n<text text-anchor=\"middle\" x=\"6555.5\" y=\"-52.8\" font-family=\"Times,serif\" font-size=\"14.00\">gini = 0.2</text>\n<text text-anchor=\"middle\" x=\"6555.5\" y=\"-37.8\" font-family=\"Times,serif\" font-size=\"14.00\">samples = 192</text>\n<text text-anchor=\"middle\" x=\"6555.5\" y=\"-22.8\" font-family=\"Times,serif\" font-size=\"14.00\">value = [175, 17]</text>\n<text text-anchor=\"middle\" x=\"6555.5\" y=\"-7.8\" font-family=\"Times,serif\" font-size=\"14.00\">class = Not churn</text>\n</g>\n<!-- 111&#45;&gt;112 -->\n<g id=\"edge112\" class=\"edge\">\n<title>111&#45;&gt;112</title>\n<path fill=\"none\" stroke=\"black\" d=\"M6555.5,-103.73C6555.5,-95.52 6555.5,-86.86 6555.5,-78.56\"/>\n<polygon fill=\"black\" stroke=\"black\" points=\"6559,-78.3 6555.5,-68.3 6552,-78.3 6559,-78.3\"/>\n</g>\n<!-- 113 -->\n<g id=\"node114\" class=\"node\">\n<title>113</title>\n<polygon fill=\"#399de5\" stroke=\"black\" points=\"6722.5,-68 6630.5,-68 6630.5,0 6722.5,0 6722.5,-68\"/>\n<text text-anchor=\"middle\" x=\"6676.5\" y=\"-52.8\" font-family=\"Times,serif\" font-size=\"14.00\">gini = 0.0</text>\n<text text-anchor=\"middle\" x=\"6676.5\" y=\"-37.8\" font-family=\"Times,serif\" font-size=\"14.00\">samples = 1</text>\n<text text-anchor=\"middle\" x=\"6676.5\" y=\"-22.8\" font-family=\"Times,serif\" font-size=\"14.00\">value = [0, 1]</text>\n<text text-anchor=\"middle\" x=\"6676.5\" y=\"-7.8\" font-family=\"Times,serif\" font-size=\"14.00\">class = Churn</text>\n</g>\n<!-- 111&#45;&gt;113 -->\n<g id=\"edge113\" class=\"edge\">\n<title>111&#45;&gt;113</title>\n<path fill=\"none\" stroke=\"black\" d=\"M6600.56,-103.73C6610.84,-94.42 6621.75,-84.54 6632.01,-75.26\"/>\n<polygon fill=\"black\" stroke=\"black\" points=\"6634.64,-77.6 6639.7,-68.3 6629.94,-72.41 6634.64,-77.6\"/>\n</g>\n</g>\n</svg>\n",
      "text/plain": [
       "<graphviz.sources.Source at 0x7faad3ac16d0>"
      ]
     },
     "metadata": {},
     "output_type": "display_data"
    }
   ],
   "source": [
    "# Break down decision tree rules\n",
    "exported = tree.export_graphviz(\n",
    "    decision_tree=mytree_tuned,\n",
    "    out_file=None,\n",
    "    feature_names=train_X.columns,\n",
    "    precision = 1,\n",
    "    class_names=['Not churn', 'Churn'],\n",
    "    filled=True)\n",
    "graph = graphviz.Source(exported)\n",
    "display(graph)"
   ]
  },
  {
   "attachments": {},
   "cell_type": "markdown",
   "metadata": {},
   "source": [
    "### (2) Using Logistic Regression Model\n",
    "\n",
    "**Introduction** \\\n",
    "Logistic regression is a supervised learning method and a statistical model used for classifing binary responses. It models log-odds of the probability of the target and returns coefficients and prediction probability.\n",
    "\n",
    "$\\log_b\\frac{p}{1-p} = \\beta_0+\\beta_1x_1+\\beta_2x_2$\n",
    "\n",
    "**Model Performance Metrics** \\\n",
    "- Accuracy: % of corrected predicted labels $\\frac{TP+TN}{all}$\n",
    "- Precision: % of total model's positive class prediction that were corrected classified $\\frac{TP}{TP+FP}$\n",
    "- Recall: % corrected predicted labels from real positive classed $\\frac{TP}{TP+FN}$\n",
    "\n",
    "**Regularization**\n",
    "It addresses over-fitting when there are too many features by introducing a penalty coefficient for model complexity in the model building phase. \n",
    "- L1(LASSO) regularization can also perform feature selection\n",
    "- L2\n",
    "\n"
   ]
  },
  {
   "attachments": {},
   "cell_type": "markdown",
   "metadata": {},
   "source": [
    "In `Churn` column, *1* represents to churn and *0* means the opposite."
   ]
  },
  {
   "cell_type": "code",
   "execution_count": 16,
   "metadata": {},
   "outputs": [
    {
     "name": "stdout",
     "output_type": "stream",
     "text": [
      "{0, 1}\n"
     ]
    },
    {
     "data": {
      "text/plain": [
       "Churn\n",
       "0    73.421502\n",
       "1    26.578498\n",
       "dtype: float64"
      ]
     },
     "execution_count": 16,
     "metadata": {},
     "output_type": "execute_result"
    }
   ],
   "source": [
    "# Copy the raw dataset\n",
    "telcom = telco_raw.copy()\n",
    "\n",
    "# Calculate the ratio size of each churn group\n",
    "print(set(telcom['Churn']))\n",
    "telcom.groupby(['Churn']).size()/telcom.shape[0] * 100"
   ]
  },
  {
   "cell_type": "code",
   "execution_count": 17,
   "metadata": {},
   "outputs": [],
   "source": [
    "# Preparing data\n",
    "\n",
    "# Get the training and testing data\n",
    "train, test = train_test_split(telcom, test_size= 0.25)\n",
    "\n",
    "# Store column names from `telcom` excluding target variable and customer ID\n",
    "target = ['Churn']\n",
    "custid = ['customerID']\n",
    "cols = [col for col in telcom.columns if col not in custid + target]\n",
    "\n",
    "# Extract training and testing features\n",
    "train_X = train[cols]\n",
    "test_X = test[cols]\n",
    "\n",
    "# Extract training and testing target\n",
    "train_Y = train[target]\n",
    "test_Y = test[target]"
   ]
  },
  {
   "cell_type": "code",
   "execution_count": 18,
   "metadata": {},
   "outputs": [
    {
     "data": {
      "text/html": [
       "<div>\n",
       "<style scoped>\n",
       "    .dataframe tbody tr th:only-of-type {\n",
       "        vertical-align: middle;\n",
       "    }\n",
       "\n",
       "    .dataframe tbody tr th {\n",
       "        vertical-align: top;\n",
       "    }\n",
       "\n",
       "    .dataframe thead th {\n",
       "        text-align: right;\n",
       "    }\n",
       "</style>\n",
       "<table border=\"1\" class=\"dataframe\">\n",
       "  <thead>\n",
       "    <tr style=\"text-align: right;\">\n",
       "      <th></th>\n",
       "      <th>SeniorCitizen</th>\n",
       "      <th>tenure</th>\n",
       "      <th>MonthlyCharges</th>\n",
       "      <th>TotalCharges</th>\n",
       "      <th>gender_Male</th>\n",
       "      <th>Partner_Yes</th>\n",
       "      <th>Dependents_Yes</th>\n",
       "      <th>PhoneService_Yes</th>\n",
       "      <th>MultipleLines_No phone service</th>\n",
       "      <th>MultipleLines_Yes</th>\n",
       "      <th>...</th>\n",
       "      <th>StreamingTV_No internet service</th>\n",
       "      <th>StreamingTV_Yes</th>\n",
       "      <th>StreamingMovies_No internet service</th>\n",
       "      <th>StreamingMovies_Yes</th>\n",
       "      <th>Contract_One year</th>\n",
       "      <th>Contract_Two year</th>\n",
       "      <th>PaperlessBilling_Yes</th>\n",
       "      <th>PaymentMethod_Credit card (automatic)</th>\n",
       "      <th>PaymentMethod_Electronic check</th>\n",
       "      <th>PaymentMethod_Mailed check</th>\n",
       "    </tr>\n",
       "  </thead>\n",
       "  <tbody>\n",
       "    <tr>\n",
       "      <th>4653</th>\n",
       "      <td>0</td>\n",
       "      <td>-0.098673</td>\n",
       "      <td>-0.452010</td>\n",
       "      <td>-0.318449</td>\n",
       "      <td>0</td>\n",
       "      <td>1</td>\n",
       "      <td>1</td>\n",
       "      <td>0</td>\n",
       "      <td>1</td>\n",
       "      <td>0</td>\n",
       "      <td>...</td>\n",
       "      <td>0</td>\n",
       "      <td>1</td>\n",
       "      <td>0</td>\n",
       "      <td>1</td>\n",
       "      <td>0</td>\n",
       "      <td>0</td>\n",
       "      <td>0</td>\n",
       "      <td>1</td>\n",
       "      <td>0</td>\n",
       "      <td>0</td>\n",
       "    </tr>\n",
       "    <tr>\n",
       "      <th>2633</th>\n",
       "      <td>0</td>\n",
       "      <td>1.327365</td>\n",
       "      <td>1.175109</td>\n",
       "      <td>1.923665</td>\n",
       "      <td>0</td>\n",
       "      <td>1</td>\n",
       "      <td>0</td>\n",
       "      <td>1</td>\n",
       "      <td>0</td>\n",
       "      <td>1</td>\n",
       "      <td>...</td>\n",
       "      <td>0</td>\n",
       "      <td>1</td>\n",
       "      <td>0</td>\n",
       "      <td>0</td>\n",
       "      <td>1</td>\n",
       "      <td>0</td>\n",
       "      <td>1</td>\n",
       "      <td>0</td>\n",
       "      <td>0</td>\n",
       "      <td>0</td>\n",
       "    </tr>\n",
       "    <tr>\n",
       "      <th>4468</th>\n",
       "      <td>0</td>\n",
       "      <td>-0.709833</td>\n",
       "      <td>-1.309614</td>\n",
       "      <td>-0.831065</td>\n",
       "      <td>0</td>\n",
       "      <td>0</td>\n",
       "      <td>0</td>\n",
       "      <td>1</td>\n",
       "      <td>0</td>\n",
       "      <td>1</td>\n",
       "      <td>...</td>\n",
       "      <td>1</td>\n",
       "      <td>0</td>\n",
       "      <td>1</td>\n",
       "      <td>0</td>\n",
       "      <td>0</td>\n",
       "      <td>0</td>\n",
       "      <td>1</td>\n",
       "      <td>1</td>\n",
       "      <td>0</td>\n",
       "      <td>0</td>\n",
       "    </tr>\n",
       "    <tr>\n",
       "      <th>5758</th>\n",
       "      <td>0</td>\n",
       "      <td>-0.424625</td>\n",
       "      <td>-1.479140</td>\n",
       "      <td>-0.797755</td>\n",
       "      <td>1</td>\n",
       "      <td>0</td>\n",
       "      <td>0</td>\n",
       "      <td>1</td>\n",
       "      <td>0</td>\n",
       "      <td>0</td>\n",
       "      <td>...</td>\n",
       "      <td>1</td>\n",
       "      <td>0</td>\n",
       "      <td>1</td>\n",
       "      <td>0</td>\n",
       "      <td>1</td>\n",
       "      <td>0</td>\n",
       "      <td>0</td>\n",
       "      <td>0</td>\n",
       "      <td>0</td>\n",
       "      <td>1</td>\n",
       "    </tr>\n",
       "    <tr>\n",
       "      <th>6818</th>\n",
       "      <td>0</td>\n",
       "      <td>-1.198760</td>\n",
       "      <td>0.209474</td>\n",
       "      <td>-0.913236</td>\n",
       "      <td>0</td>\n",
       "      <td>0</td>\n",
       "      <td>0</td>\n",
       "      <td>1</td>\n",
       "      <td>0</td>\n",
       "      <td>0</td>\n",
       "      <td>...</td>\n",
       "      <td>0</td>\n",
       "      <td>0</td>\n",
       "      <td>0</td>\n",
       "      <td>1</td>\n",
       "      <td>0</td>\n",
       "      <td>1</td>\n",
       "      <td>0</td>\n",
       "      <td>0</td>\n",
       "      <td>0</td>\n",
       "      <td>1</td>\n",
       "    </tr>\n",
       "    <tr>\n",
       "      <th>...</th>\n",
       "      <td>...</td>\n",
       "      <td>...</td>\n",
       "      <td>...</td>\n",
       "      <td>...</td>\n",
       "      <td>...</td>\n",
       "      <td>...</td>\n",
       "      <td>...</td>\n",
       "      <td>...</td>\n",
       "      <td>...</td>\n",
       "      <td>...</td>\n",
       "      <td>...</td>\n",
       "      <td>...</td>\n",
       "      <td>...</td>\n",
       "      <td>...</td>\n",
       "      <td>...</td>\n",
       "      <td>...</td>\n",
       "      <td>...</td>\n",
       "      <td>...</td>\n",
       "      <td>...</td>\n",
       "      <td>...</td>\n",
       "      <td>...</td>\n",
       "    </tr>\n",
       "    <tr>\n",
       "      <th>2635</th>\n",
       "      <td>0</td>\n",
       "      <td>1.245878</td>\n",
       "      <td>-1.314600</td>\n",
       "      <td>-0.319420</td>\n",
       "      <td>1</td>\n",
       "      <td>0</td>\n",
       "      <td>0</td>\n",
       "      <td>1</td>\n",
       "      <td>0</td>\n",
       "      <td>1</td>\n",
       "      <td>...</td>\n",
       "      <td>1</td>\n",
       "      <td>0</td>\n",
       "      <td>1</td>\n",
       "      <td>0</td>\n",
       "      <td>0</td>\n",
       "      <td>1</td>\n",
       "      <td>0</td>\n",
       "      <td>0</td>\n",
       "      <td>0</td>\n",
       "      <td>1</td>\n",
       "    </tr>\n",
       "    <tr>\n",
       "      <th>2348</th>\n",
       "      <td>0</td>\n",
       "      <td>1.164390</td>\n",
       "      <td>-1.037042</td>\n",
       "      <td>-0.073281</td>\n",
       "      <td>1</td>\n",
       "      <td>1</td>\n",
       "      <td>1</td>\n",
       "      <td>0</td>\n",
       "      <td>1</td>\n",
       "      <td>0</td>\n",
       "      <td>...</td>\n",
       "      <td>0</td>\n",
       "      <td>0</td>\n",
       "      <td>0</td>\n",
       "      <td>0</td>\n",
       "      <td>0</td>\n",
       "      <td>0</td>\n",
       "      <td>0</td>\n",
       "      <td>0</td>\n",
       "      <td>0</td>\n",
       "      <td>0</td>\n",
       "    </tr>\n",
       "    <tr>\n",
       "      <th>1355</th>\n",
       "      <td>0</td>\n",
       "      <td>-0.954296</td>\n",
       "      <td>-1.505733</td>\n",
       "      <td>-0.928457</td>\n",
       "      <td>0</td>\n",
       "      <td>0</td>\n",
       "      <td>0</td>\n",
       "      <td>1</td>\n",
       "      <td>0</td>\n",
       "      <td>0</td>\n",
       "      <td>...</td>\n",
       "      <td>1</td>\n",
       "      <td>0</td>\n",
       "      <td>1</td>\n",
       "      <td>0</td>\n",
       "      <td>0</td>\n",
       "      <td>0</td>\n",
       "      <td>1</td>\n",
       "      <td>0</td>\n",
       "      <td>1</td>\n",
       "      <td>0</td>\n",
       "    </tr>\n",
       "    <tr>\n",
       "      <th>2574</th>\n",
       "      <td>1</td>\n",
       "      <td>0.268022</td>\n",
       "      <td>1.025527</td>\n",
       "      <td>0.651082</td>\n",
       "      <td>1</td>\n",
       "      <td>0</td>\n",
       "      <td>0</td>\n",
       "      <td>1</td>\n",
       "      <td>0</td>\n",
       "      <td>1</td>\n",
       "      <td>...</td>\n",
       "      <td>0</td>\n",
       "      <td>1</td>\n",
       "      <td>0</td>\n",
       "      <td>1</td>\n",
       "      <td>0</td>\n",
       "      <td>0</td>\n",
       "      <td>1</td>\n",
       "      <td>0</td>\n",
       "      <td>0</td>\n",
       "      <td>0</td>\n",
       "    </tr>\n",
       "    <tr>\n",
       "      <th>5503</th>\n",
       "      <td>0</td>\n",
       "      <td>0.105047</td>\n",
       "      <td>-1.487450</td>\n",
       "      <td>-0.677907</td>\n",
       "      <td>1</td>\n",
       "      <td>1</td>\n",
       "      <td>1</td>\n",
       "      <td>1</td>\n",
       "      <td>0</td>\n",
       "      <td>0</td>\n",
       "      <td>...</td>\n",
       "      <td>1</td>\n",
       "      <td>0</td>\n",
       "      <td>1</td>\n",
       "      <td>0</td>\n",
       "      <td>1</td>\n",
       "      <td>0</td>\n",
       "      <td>0</td>\n",
       "      <td>0</td>\n",
       "      <td>0</td>\n",
       "      <td>0</td>\n",
       "    </tr>\n",
       "  </tbody>\n",
       "</table>\n",
       "<p>5274 rows × 30 columns</p>\n",
       "</div>"
      ],
      "text/plain": [
       "      SeniorCitizen    tenure  MonthlyCharges  TotalCharges  gender_Male  \\\n",
       "4653              0 -0.098673       -0.452010     -0.318449            0   \n",
       "2633              0  1.327365        1.175109      1.923665            0   \n",
       "4468              0 -0.709833       -1.309614     -0.831065            0   \n",
       "5758              0 -0.424625       -1.479140     -0.797755            1   \n",
       "6818              0 -1.198760        0.209474     -0.913236            0   \n",
       "...             ...       ...             ...           ...          ...   \n",
       "2635              0  1.245878       -1.314600     -0.319420            1   \n",
       "2348              0  1.164390       -1.037042     -0.073281            1   \n",
       "1355              0 -0.954296       -1.505733     -0.928457            0   \n",
       "2574              1  0.268022        1.025527      0.651082            1   \n",
       "5503              0  0.105047       -1.487450     -0.677907            1   \n",
       "\n",
       "      Partner_Yes  Dependents_Yes  PhoneService_Yes  \\\n",
       "4653            1               1                 0   \n",
       "2633            1               0                 1   \n",
       "4468            0               0                 1   \n",
       "5758            0               0                 1   \n",
       "6818            0               0                 1   \n",
       "...           ...             ...               ...   \n",
       "2635            0               0                 1   \n",
       "2348            1               1                 0   \n",
       "1355            0               0                 1   \n",
       "2574            0               0                 1   \n",
       "5503            1               1                 1   \n",
       "\n",
       "      MultipleLines_No phone service  MultipleLines_Yes  ...  \\\n",
       "4653                               1                  0  ...   \n",
       "2633                               0                  1  ...   \n",
       "4468                               0                  1  ...   \n",
       "5758                               0                  0  ...   \n",
       "6818                               0                  0  ...   \n",
       "...                              ...                ...  ...   \n",
       "2635                               0                  1  ...   \n",
       "2348                               1                  0  ...   \n",
       "1355                               0                  0  ...   \n",
       "2574                               0                  1  ...   \n",
       "5503                               0                  0  ...   \n",
       "\n",
       "      StreamingTV_No internet service  StreamingTV_Yes  \\\n",
       "4653                                0                1   \n",
       "2633                                0                1   \n",
       "4468                                1                0   \n",
       "5758                                1                0   \n",
       "6818                                0                0   \n",
       "...                               ...              ...   \n",
       "2635                                1                0   \n",
       "2348                                0                0   \n",
       "1355                                1                0   \n",
       "2574                                0                1   \n",
       "5503                                1                0   \n",
       "\n",
       "      StreamingMovies_No internet service  StreamingMovies_Yes  \\\n",
       "4653                                    0                    1   \n",
       "2633                                    0                    0   \n",
       "4468                                    1                    0   \n",
       "5758                                    1                    0   \n",
       "6818                                    0                    1   \n",
       "...                                   ...                  ...   \n",
       "2635                                    1                    0   \n",
       "2348                                    0                    0   \n",
       "1355                                    1                    0   \n",
       "2574                                    0                    1   \n",
       "5503                                    1                    0   \n",
       "\n",
       "      Contract_One year  Contract_Two year  PaperlessBilling_Yes  \\\n",
       "4653                  0                  0                     0   \n",
       "2633                  1                  0                     1   \n",
       "4468                  0                  0                     1   \n",
       "5758                  1                  0                     0   \n",
       "6818                  0                  1                     0   \n",
       "...                 ...                ...                   ...   \n",
       "2635                  0                  1                     0   \n",
       "2348                  0                  0                     0   \n",
       "1355                  0                  0                     1   \n",
       "2574                  0                  0                     1   \n",
       "5503                  1                  0                     0   \n",
       "\n",
       "      PaymentMethod_Credit card (automatic)  PaymentMethod_Electronic check  \\\n",
       "4653                                      1                               0   \n",
       "2633                                      0                               0   \n",
       "4468                                      1                               0   \n",
       "5758                                      0                               0   \n",
       "6818                                      0                               0   \n",
       "...                                     ...                             ...   \n",
       "2635                                      0                               0   \n",
       "2348                                      0                               0   \n",
       "1355                                      0                               1   \n",
       "2574                                      0                               0   \n",
       "5503                                      0                               0   \n",
       "\n",
       "      PaymentMethod_Mailed check  \n",
       "4653                           0  \n",
       "2633                           0  \n",
       "4468                           0  \n",
       "5758                           1  \n",
       "6818                           1  \n",
       "...                          ...  \n",
       "2635                           1  \n",
       "2348                           0  \n",
       "1355                           0  \n",
       "2574                           0  \n",
       "5503                           0  \n",
       "\n",
       "[5274 rows x 30 columns]"
      ]
     },
     "execution_count": 18,
     "metadata": {},
     "output_type": "execute_result"
    }
   ],
   "source": [
    "train_X"
   ]
  },
  {
   "cell_type": "code",
   "execution_count": 19,
   "metadata": {},
   "outputs": [
    {
     "name": "stdout",
     "output_type": "stream",
     "text": [
      "Test accuracy: 0.802\n"
     ]
    },
    {
     "name": "stderr",
     "output_type": "stream",
     "text": [
      "/Users/alliewu/opt/anaconda3/lib/python3.9/site-packages/sklearn/utils/validation.py:63: DataConversionWarning: A column-vector y was passed when a 1d array was expected. Please change the shape of y to (n_samples, ), for example using ravel().\n",
      "  return f(*args, **kwargs)\n"
     ]
    }
   ],
   "source": [
    "# Initial model\n",
    "\n",
    "# Fit logistic regression on training data\n",
    "logreg = LogisticRegression()\n",
    "logreg.fit(train_X, train_Y)\n",
    "\n",
    "# Predict churn labels on testing data\n",
    "pred_test_Y = logreg.predict(test_X)\n",
    "\n",
    "# Calculate accuracy score\n",
    "test_accuracy = accuracy_score(test_Y, pred_test_Y)\n",
    "print('Test accuracy:', round(test_accuracy,4))"
   ]
  },
  {
   "cell_type": "code",
   "execution_count": 20,
   "metadata": {},
   "outputs": [
    {
     "name": "stdout",
     "output_type": "stream",
     "text": [
      "Test accuracy: 0.7935\n"
     ]
    },
    {
     "name": "stderr",
     "output_type": "stream",
     "text": [
      "/Users/alliewu/opt/anaconda3/lib/python3.9/site-packages/sklearn/utils/validation.py:63: DataConversionWarning: A column-vector y was passed when a 1d array was expected. Please change the shape of y to (n_samples, ), for example using ravel().\n",
      "  return f(*args, **kwargs)\n"
     ]
    }
   ],
   "source": [
    "# Logistic regression with L1 regularization\n",
    "\n",
    "# Initialize logistic regression instance\n",
    "logreg_l1 = LogisticRegression(penalty='l1', \n",
    "                                C=0.01, solver='liblinear')\n",
    "\n",
    "# Fit the model\n",
    "logreg_l1.fit(train_X, train_Y)\n",
    "\n",
    "# Predict for test_Y\n",
    "pred_test_Y = logreg_l1.predict(test_X)\n",
    "\n",
    "# Calculate accuracy score\n",
    "print('Test accuracy:', round(accuracy_score(test_Y,pred_test_Y),4))"
   ]
  },
  {
   "cell_type": "code",
   "execution_count": 21,
   "metadata": {},
   "outputs": [
    {
     "name": "stderr",
     "output_type": "stream",
     "text": [
      "/Users/alliewu/opt/anaconda3/lib/python3.9/site-packages/sklearn/utils/validation.py:63: DataConversionWarning: A column-vector y was passed when a 1d array was expected. Please change the shape of y to (n_samples, ), for example using ravel().\n",
      "  return f(*args, **kwargs)\n"
     ]
    },
    {
     "name": "stdout",
     "output_type": "stream",
     "text": [
      "[[1.     0.     0.    ]\n",
      " [0.5    0.     0.    ]\n",
      " [0.25   0.     0.    ]\n",
      " [0.1    0.     0.    ]\n",
      " [0.05   0.     0.    ]\n",
      " [0.025  0.     0.    ]\n",
      " [0.01   0.     0.    ]\n",
      " [0.005  0.     0.    ]\n",
      " [0.0025 0.     0.    ]]\n"
     ]
    },
    {
     "name": "stderr",
     "output_type": "stream",
     "text": [
      "/Users/alliewu/opt/anaconda3/lib/python3.9/site-packages/sklearn/utils/validation.py:63: DataConversionWarning: A column-vector y was passed when a 1d array was expected. Please change the shape of y to (n_samples, ), for example using ravel().\n",
      "  return f(*args, **kwargs)\n"
     ]
    },
    {
     "name": "stdout",
     "output_type": "stream",
     "text": [
      "        C  Non-Zero Coeffs    Recall\n",
      "0  1.0000             23.0  0.563596\n",
      "1  0.5000             22.0  0.561404\n",
      "2  0.2500             23.0  0.561404\n",
      "3  0.1000             21.0  0.559211\n",
      "4  0.0500             16.0  0.537281\n",
      "5  0.0250             12.0  0.515351\n",
      "6  0.0100              7.0  0.436404\n",
      "7  0.0050              3.0  0.364035\n",
      "8  0.0025              2.0  0.041667\n"
     ]
    },
    {
     "name": "stderr",
     "output_type": "stream",
     "text": [
      "/Users/alliewu/opt/anaconda3/lib/python3.9/site-packages/sklearn/utils/validation.py:63: DataConversionWarning: A column-vector y was passed when a 1d array was expected. Please change the shape of y to (n_samples, ), for example using ravel().\n",
      "  return f(*args, **kwargs)\n",
      "/Users/alliewu/opt/anaconda3/lib/python3.9/site-packages/sklearn/utils/validation.py:63: DataConversionWarning: A column-vector y was passed when a 1d array was expected. Please change the shape of y to (n_samples, ), for example using ravel().\n",
      "  return f(*args, **kwargs)\n",
      "/Users/alliewu/opt/anaconda3/lib/python3.9/site-packages/sklearn/utils/validation.py:63: DataConversionWarning: A column-vector y was passed when a 1d array was expected. Please change the shape of y to (n_samples, ), for example using ravel().\n",
      "  return f(*args, **kwargs)\n",
      "/Users/alliewu/opt/anaconda3/lib/python3.9/site-packages/sklearn/utils/validation.py:63: DataConversionWarning: A column-vector y was passed when a 1d array was expected. Please change the shape of y to (n_samples, ), for example using ravel().\n",
      "  return f(*args, **kwargs)\n",
      "/Users/alliewu/opt/anaconda3/lib/python3.9/site-packages/sklearn/utils/validation.py:63: DataConversionWarning: A column-vector y was passed when a 1d array was expected. Please change the shape of y to (n_samples, ), for example using ravel().\n",
      "  return f(*args, **kwargs)\n",
      "/Users/alliewu/opt/anaconda3/lib/python3.9/site-packages/sklearn/utils/validation.py:63: DataConversionWarning: A column-vector y was passed when a 1d array was expected. Please change the shape of y to (n_samples, ), for example using ravel().\n",
      "  return f(*args, **kwargs)\n",
      "/Users/alliewu/opt/anaconda3/lib/python3.9/site-packages/sklearn/utils/validation.py:63: DataConversionWarning: A column-vector y was passed when a 1d array was expected. Please change the shape of y to (n_samples, ), for example using ravel().\n",
      "  return f(*args, **kwargs)\n"
     ]
    }
   ],
   "source": [
    "# Identify optimal L1 penalty coefficient\n",
    "\n",
    "# Create possible C list\n",
    "C = [1, 0.5, 0.25, 0.1, 0.05, 0.025, 0.01, 0.005, 0.0025]\n",
    "l1_metrics = np.zeros((len(C), 3))\n",
    "l1_metrics[:,0] = C\n",
    "print(l1_metrics)\n",
    "\n",
    "# Run a for loop over the range of C list length\n",
    "for index in range(0,len(C)):\n",
    "    logreg_l1 = LogisticRegression(penalty='l1', C=C[index], solver='liblinear')\n",
    "    logreg_l1.fit(train_X,train_Y)\n",
    "    pred_test_Y = logreg_l1.predict(test_X)\n",
    "    # non-zero count\n",
    "    l1_metrics[index,1] = np.count_nonzero(logreg_l1.coef_)\n",
    "    # recall score\n",
    "    l1_metrics[index,2] = recall_score(test_Y, pred_test_Y)\n",
    "\n",
    "# Name the columns and print the array as pandas DataFrame\n",
    "col_names = ['C','Non-Zero Coeffs','Recall']\n",
    "l1_metrics_df = pd.DataFrame(l1_metrics, columns=col_names)\n",
    "print(l1_metrics_df)"
   ]
  },
  {
   "cell_type": "code",
   "execution_count": 22,
   "metadata": {},
   "outputs": [
    {
     "name": "stdout",
     "output_type": "stream",
     "text": [
      "Test accuracy: 0.8026\n"
     ]
    },
    {
     "name": "stderr",
     "output_type": "stream",
     "text": [
      "/Users/alliewu/opt/anaconda3/lib/python3.9/site-packages/sklearn/utils/validation.py:63: DataConversionWarning: A column-vector y was passed when a 1d array was expected. Please change the shape of y to (n_samples, ), for example using ravel().\n",
      "  return f(*args, **kwargs)\n"
     ]
    }
   ],
   "source": [
    "# Build a model with tuned parameter C = 0.025\n",
    "\n",
    "# Initialize logistic regression instance\n",
    "logreg_l1_tuned = LogisticRegression(penalty='l1', \n",
    "                                C=0.025, solver='liblinear')\n",
    "\n",
    "# Fit the model\n",
    "logreg_l1_tuned.fit(train_X, train_Y)\n",
    "\n",
    "# Predict for test_Y\n",
    "pred_test_Y = logreg_l1_tuned.predict(test_X)\n",
    "\n",
    "# Calculate accuracy score\n",
    "print('Test accuracy:', round(accuracy_score(test_Y,pred_test_Y),4))"
   ]
  },
  {
   "cell_type": "code",
   "execution_count": 23,
   "metadata": {},
   "outputs": [
    {
     "name": "stdout",
     "output_type": "stream",
     "text": [
      "                           Feature  Coefficient  Exp_Coefficient\n",
      "1                           tenure    -0.891557         0.410017\n",
      "7                 PhoneService_Yes    -0.803207         0.447890\n",
      "25               Contract_Two year    -0.659475         0.517123\n",
      "19                 TechSupport_Yes    -0.459026         0.631899\n",
      "24               Contract_One year    -0.414919         0.660394\n",
      "13              OnlineSecurity_Yes    -0.382064         0.682452\n",
      "15                OnlineBackup_Yes    -0.157144         0.854581\n",
      "6                   Dependents_Yes    -0.110519         0.895369\n",
      "0                    SeniorCitizen     0.001043         1.001043\n",
      "26            PaperlessBilling_Yes     0.032084         1.032605\n",
      "28  PaymentMethod_Electronic check     0.234078         1.263742\n",
      "2                   MonthlyCharges     0.906202         2.474904\n"
     ]
    }
   ],
   "source": [
    "# Explore coefficients\n",
    "\n",
    "# Combine feature names and coefficients into pandas DataFrame\n",
    "feature_names = pd.DataFrame(train_X.columns, columns=['Feature'])\n",
    "log_coef = pd.DataFrame(logreg_l1_tuned.coef_.T, columns = ['Coefficient'])\n",
    "coefficients = pd.concat([feature_names, log_coef], axis=1)\n",
    "\n",
    "# Calculate exponent of the logistic regression coefficients\n",
    "coefficients['Exp_Coefficient'] = np.exp(coefficients['Coefficient'])\n",
    "\n",
    "# Remove coefficients that are equal to zero\n",
    "coefficients = coefficients[coefficients['Coefficient']!=0]\n",
    "\n",
    "# Print the values sorted by the exponent coefficient\n",
    "print(coefficients.sort_values(by=['Exp_Coefficient']))"
   ]
  }
 ],
 "metadata": {
  "kernelspec": {
   "display_name": "Python 3.9.7 ('base')",
   "language": "python",
   "name": "python3"
  },
  "language_info": {
   "codemirror_mode": {
    "name": "ipython",
    "version": 3
   },
   "file_extension": ".py",
   "mimetype": "text/x-python",
   "name": "python",
   "nbconvert_exporter": "python",
   "pygments_lexer": "ipython3",
   "version": "3.9.7"
  },
  "orig_nbformat": 4,
  "vscode": {
   "interpreter": {
    "hash": "16485c9d48b67492f4a07c611156201f3ef2dc60b9750633e8629682e3781025"
   }
  }
 },
 "nbformat": 4,
 "nbformat_minor": 2
}
