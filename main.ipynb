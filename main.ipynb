{
 "cells": [
  {
   "attachments": {},
   "cell_type": "markdown",
   "metadata": {},
   "source": [
    "# Machine Learning in Marketing by Python"
   ]
  },
  {
   "attachments": {},
   "cell_type": "markdown",
   "metadata": {},
   "source": [
    "## 1. Churn Predictions with Decision Tree"
   ]
  },
  {
   "cell_type": "code",
   "execution_count": 39,
   "metadata": {},
   "outputs": [],
   "source": [
    "import pandas as pd\n",
    "import numpy as np\n",
    "from sklearn.preprocessing import StandardScaler \n",
    "from sklearn.utils import shuffle\n",
    "from sklearn.model_selection import train_test_split\n",
    "from sklearn import tree\n",
    "from sklearn.metrics import accuracy_score"
   ]
  },
  {
   "cell_type": "code",
   "execution_count": 2,
   "metadata": {},
   "outputs": [
    {
     "name": "stdout",
     "output_type": "stream",
     "text": [
      "   customerID  gender  SeniorCitizen Partner Dependents  tenure PhoneService  \\\n",
      "0  7590-VHVEG  Female              0     Yes         No       1           No   \n",
      "1  5575-GNVDE    Male              0      No         No      34          Yes   \n",
      "2  3668-QPYBK    Male              0      No         No       2          Yes   \n",
      "3  7795-CFOCW    Male              0      No         No      45           No   \n",
      "4  9237-HQITU  Female              0      No         No       2          Yes   \n",
      "\n",
      "      MultipleLines InternetService OnlineSecurity  ... DeviceProtection  \\\n",
      "0  No phone service             DSL             No  ...               No   \n",
      "1                No             DSL            Yes  ...              Yes   \n",
      "2                No             DSL            Yes  ...               No   \n",
      "3  No phone service             DSL            Yes  ...              Yes   \n",
      "4                No     Fiber optic             No  ...               No   \n",
      "\n",
      "  TechSupport StreamingTV StreamingMovies        Contract PaperlessBilling  \\\n",
      "0          No          No              No  Month-to-month              Yes   \n",
      "1          No          No              No        One year               No   \n",
      "2          No          No              No  Month-to-month              Yes   \n",
      "3         Yes          No              No        One year               No   \n",
      "4          No          No              No  Month-to-month              Yes   \n",
      "\n",
      "               PaymentMethod MonthlyCharges  TotalCharges Churn  \n",
      "0           Electronic check          29.85         29.85    No  \n",
      "1               Mailed check          56.95        1889.5    No  \n",
      "2               Mailed check          53.85        108.15   Yes  \n",
      "3  Bank transfer (automatic)          42.30       1840.75    No  \n",
      "4           Electronic check          70.70        151.65   Yes  \n",
      "\n",
      "[5 rows x 21 columns]\n"
     ]
    }
   ],
   "source": [
    "telco = pd.read_csv('telco.csv')\n",
    "print(telco.head(5))"
   ]
  },
  {
   "cell_type": "code",
   "execution_count": 3,
   "metadata": {},
   "outputs": [
    {
     "name": "stdout",
     "output_type": "stream",
     "text": [
      "customerID           object\n",
      "gender               object\n",
      "SeniorCitizen         int64\n",
      "Partner              object\n",
      "Dependents           object\n",
      "tenure                int64\n",
      "PhoneService         object\n",
      "MultipleLines        object\n",
      "InternetService      object\n",
      "OnlineSecurity       object\n",
      "OnlineBackup         object\n",
      "DeviceProtection     object\n",
      "TechSupport          object\n",
      "StreamingTV          object\n",
      "StreamingMovies      object\n",
      "Contract             object\n",
      "PaperlessBilling     object\n",
      "PaymentMethod        object\n",
      "MonthlyCharges      float64\n",
      "TotalCharges         object\n",
      "Churn                object\n",
      "dtype: object\n",
      "   customerID  gender  SeniorCitizen Partner Dependents  tenure PhoneService  \\\n",
      "0  7590-VHVEG  Female              0     Yes         No       1           No   \n",
      "1  5575-GNVDE    Male              0      No         No      34          Yes   \n",
      "2  3668-QPYBK    Male              0      No         No       2          Yes   \n",
      "\n",
      "      MultipleLines InternetService OnlineSecurity  ... DeviceProtection  \\\n",
      "0  No phone service             DSL             No  ...               No   \n",
      "1                No             DSL            Yes  ...              Yes   \n",
      "2                No             DSL            Yes  ...               No   \n",
      "\n",
      "  TechSupport StreamingTV StreamingMovies        Contract PaperlessBilling  \\\n",
      "0          No          No              No  Month-to-month              Yes   \n",
      "1          No          No              No        One year               No   \n",
      "2          No          No              No  Month-to-month              Yes   \n",
      "\n",
      "      PaymentMethod MonthlyCharges  TotalCharges Churn  \n",
      "0  Electronic check          29.85         29.85    No  \n",
      "1      Mailed check          56.95        1889.5    No  \n",
      "2      Mailed check          53.85        108.15   Yes  \n",
      "\n",
      "[3 rows x 21 columns]\n",
      "customerID          7043\n",
      "gender                 2\n",
      "SeniorCitizen          2\n",
      "Partner                2\n",
      "Dependents             2\n",
      "tenure                73\n",
      "PhoneService           2\n",
      "MultipleLines          3\n",
      "InternetService        3\n",
      "OnlineSecurity         3\n",
      "OnlineBackup           3\n",
      "DeviceProtection       3\n",
      "TechSupport            3\n",
      "StreamingTV            3\n",
      "StreamingMovies        3\n",
      "Contract               3\n",
      "PaperlessBilling       2\n",
      "PaymentMethod          4\n",
      "MonthlyCharges      1585\n",
      "TotalCharges        6531\n",
      "Churn                  2\n",
      "dtype: int64\n"
     ]
    },
    {
     "data": {
      "text/plain": [
       "customerID          0.0\n",
       "gender              0.0\n",
       "SeniorCitizen       0.0\n",
       "Partner             0.0\n",
       "Dependents          0.0\n",
       "tenure              0.0\n",
       "PhoneService        0.0\n",
       "MultipleLines       0.0\n",
       "InternetService     0.0\n",
       "OnlineSecurity      0.0\n",
       "OnlineBackup        0.0\n",
       "DeviceProtection    0.0\n",
       "TechSupport         0.0\n",
       "StreamingTV         0.0\n",
       "StreamingMovies     0.0\n",
       "Contract            0.0\n",
       "PaperlessBilling    0.0\n",
       "PaymentMethod       0.0\n",
       "MonthlyCharges      0.0\n",
       "TotalCharges        0.0\n",
       "Churn               0.0\n",
       "dtype: float64"
      ]
     },
     "execution_count": 3,
     "metadata": {},
     "output_type": "execute_result"
    }
   ],
   "source": [
    "telco_raw = telco.copy()\n",
    "\n",
    "# print the data types\n",
    "print(telco_raw.dtypes)\n",
    "\n",
    "# print the header\n",
    "print(telco_raw.head(3))\n",
    "\n",
    "# print unique values of each column\n",
    "print(telco_raw.nunique())\n",
    "\n",
    "# check the proportion of missing data\n",
    "telco_raw.isnull().mean()"
   ]
  },
  {
   "cell_type": "code",
   "execution_count": 11,
   "metadata": {},
   "outputs": [
    {
     "name": "stdout",
     "output_type": "stream",
     "text": [
      "Categorical columns: ['gender_Male', 'Partner_Yes', 'Dependents_Yes', 'PhoneService_Yes', 'MultipleLines_No phone service', 'MultipleLines_Yes', 'InternetService_Fiber optic', 'InternetService_No', 'OnlineSecurity_No internet service', 'OnlineSecurity_Yes', 'OnlineBackup_No internet service', 'OnlineBackup_Yes', 'DeviceProtection_No internet service', 'DeviceProtection_Yes', 'TechSupport_No internet service', 'TechSupport_Yes', 'StreamingTV_No internet service', 'StreamingTV_Yes', 'StreamingMovies_No internet service', 'StreamingMovies_Yes', 'Contract_One year', 'Contract_Two year', 'PaperlessBilling_Yes', 'PaymentMethod_Credit card (automatic)', 'PaymentMethod_Electronic check', 'PaymentMethod_Mailed check']\n",
      "\n",
      "Numerical columns: ['tenure', 'MonthlyCharges', 'TotalCharges']\n"
     ]
    }
   ],
   "source": [
    "# Store numerical and categorical data\n",
    "\n",
    "## change data type\n",
    "\n",
    "## store customerId and Churn column names\n",
    "custid = ['customerID']\n",
    "target = ['Churn']\n",
    "\n",
    "## store categorical column names\n",
    "categorical = telco_raw.nunique()[telco_raw.nunique()<5].keys().tolist()\n",
    "categorical.remove(target[0])\n",
    "categorical.remove('SeniorCitizen')\n",
    "print(f'Categorical columns: {categorical}')\n",
    "print()\n",
    "\n",
    "## store numerical column names\n",
    "numerical = [col for col in telco_raw.columns\n",
    "                 if col not in custid + target + categorical]\n",
    "numerical.remove('SeniorCitizen')\n",
    "print(f'Numerical columns: {numerical}')"
   ]
  },
  {
   "cell_type": "code",
   "execution_count": 12,
   "metadata": {},
   "outputs": [
    {
     "name": "stdout",
     "output_type": "stream",
     "text": [
      "            tenure  MonthlyCharges  TotalCharges\n",
      "count  7032.000000     7032.000000   7032.000000\n",
      "mean     32.421786       64.798208   2283.300441\n",
      "std      24.545260       30.085974   2266.771362\n",
      "min       1.000000       18.250000     18.800000\n",
      "25%       9.000000       35.587500    401.450000\n",
      "50%      29.000000       70.350000   1397.475000\n",
      "75%      55.000000       89.862500   3794.737500\n",
      "max      72.000000      118.750000   8684.800000\n",
      "count    7032.000000\n",
      "mean     2283.300441\n",
      "std      2266.771362\n",
      "min        18.800000\n",
      "25%       401.450000\n",
      "50%      1397.475000\n",
      "75%      3794.737500\n",
      "max      8684.800000\n",
      "Name: TotalCharges, dtype: float64\n",
      "       SeniorCitizen       tenure  MonthlyCharges  TotalCharges  gender_Male  \\\n",
      "count    7032.000000  7032.000000     7032.000000   7032.000000  7032.000000   \n",
      "mean        0.162400    32.421786       64.798208   2283.300441     0.504693   \n",
      "std         0.368844    24.545260       30.085974   2266.771362     0.500014   \n",
      "min         0.000000     1.000000       18.250000     18.800000     0.000000   \n",
      "25%         0.000000     9.000000       35.587500    401.450000     0.000000   \n",
      "50%         0.000000    29.000000       70.350000   1397.475000     1.000000   \n",
      "75%         0.000000    55.000000       89.862500   3794.737500     1.000000   \n",
      "max         1.000000    72.000000      118.750000   8684.800000     1.000000   \n",
      "\n",
      "       Partner_Yes  Dependents_Yes  PhoneService_Yes  \\\n",
      "count  7032.000000     7032.000000       7032.000000   \n",
      "mean      0.482509        0.298493          0.903299   \n",
      "std       0.499729        0.457629          0.295571   \n",
      "min       0.000000        0.000000          0.000000   \n",
      "25%       0.000000        0.000000          1.000000   \n",
      "50%       0.000000        0.000000          1.000000   \n",
      "75%       1.000000        1.000000          1.000000   \n",
      "max       1.000000        1.000000          1.000000   \n",
      "\n",
      "       MultipleLines_No phone service  MultipleLines_Yes  ...  \\\n",
      "count                     7032.000000        7032.000000  ...   \n",
      "mean                         0.096701           0.421928  ...   \n",
      "std                          0.295571           0.493902  ...   \n",
      "min                          0.000000           0.000000  ...   \n",
      "25%                          0.000000           0.000000  ...   \n",
      "50%                          0.000000           0.000000  ...   \n",
      "75%                          0.000000           1.000000  ...   \n",
      "max                          1.000000           1.000000  ...   \n",
      "\n",
      "       StreamingTV_No internet service  StreamingTV_Yes  \\\n",
      "count                      7032.000000      7032.000000   \n",
      "mean                          0.216155         0.384386   \n",
      "std                           0.411650         0.486484   \n",
      "min                           0.000000         0.000000   \n",
      "25%                           0.000000         0.000000   \n",
      "50%                           0.000000         0.000000   \n",
      "75%                           0.000000         1.000000   \n",
      "max                           1.000000         1.000000   \n",
      "\n",
      "       StreamingMovies_No internet service  StreamingMovies_Yes  \\\n",
      "count                          7032.000000          7032.000000   \n",
      "mean                              0.216155             0.388367   \n",
      "std                               0.411650             0.487414   \n",
      "min                               0.000000             0.000000   \n",
      "25%                               0.000000             0.000000   \n",
      "50%                               0.000000             0.000000   \n",
      "75%                               0.000000             1.000000   \n",
      "max                               1.000000             1.000000   \n",
      "\n",
      "       Contract_One year  Contract_Two year  PaperlessBilling_Yes  \\\n",
      "count        7032.000000        7032.000000           7032.000000   \n",
      "mean            0.209329           0.239619              0.592719   \n",
      "std             0.406858           0.426881              0.491363   \n",
      "min             0.000000           0.000000              0.000000   \n",
      "25%             0.000000           0.000000              0.000000   \n",
      "50%             0.000000           0.000000              1.000000   \n",
      "75%             0.000000           0.000000              1.000000   \n",
      "max             1.000000           1.000000              1.000000   \n",
      "\n",
      "       PaymentMethod_Credit card (automatic)  PaymentMethod_Electronic check  \\\n",
      "count                            7032.000000                     7032.000000   \n",
      "mean                                0.216297                        0.336320   \n",
      "std                                 0.411748                        0.472483   \n",
      "min                                 0.000000                        0.000000   \n",
      "25%                                 0.000000                        0.000000   \n",
      "50%                                 0.000000                        0.000000   \n",
      "75%                                 0.000000                        1.000000   \n",
      "max                                 1.000000                        1.000000   \n",
      "\n",
      "       PaymentMethod_Mailed check  \n",
      "count                 7032.000000  \n",
      "mean                     0.228100  \n",
      "std                      0.419637  \n",
      "min                      0.000000  \n",
      "25%                      0.000000  \n",
      "50%                      0.000000  \n",
      "75%                      0.000000  \n",
      "max                      1.000000  \n",
      "\n",
      "[8 rows x 30 columns]\n"
     ]
    }
   ],
   "source": [
    "# check numerical columns' property\n",
    "print(telco_raw[numerical].describe())\n",
    "\n",
    "# convert to numerical datatype\n",
    "telco_raw['TotalCharges'] = pd.to_numeric(telco_raw['TotalCharges'], errors = 'coerce')\n",
    "print(telco_raw['TotalCharges'].describe())\n",
    "\n",
    "# drop na values\n",
    "telco_raw = telco_raw.dropna(axis=0)\n",
    "\n",
    "print(telco_raw.describe())"
   ]
  },
  {
   "attachments": {},
   "cell_type": "markdown",
   "metadata": {},
   "source": [
    "While trying to examine properties of numerical columns, there is only information of two columns showing, and column `TotalCharges` is missing. Which means that TotalCharges needs to be changed its datatype.Therefore, I converted this column by its datatype, from string to float, and to ensure all the value can be changed to numerical values, I set the false one to coerce. After the cleaning process, the entire dataset has 7032 rows instead of original 7043 rows."
   ]
  },
  {
   "cell_type": "code",
   "execution_count": 13,
   "metadata": {},
   "outputs": [
    {
     "name": "stdout",
     "output_type": "stream",
     "text": [
      "        tenure  MonthlyCharges  TotalCharges\n",
      "0    -1.280248       -1.161694     -0.994194\n",
      "1     0.064303       -0.260878     -0.173740\n",
      "2    -1.239504       -0.363923     -0.959649\n",
      "3     0.512486       -0.747850     -0.195248\n",
      "4    -1.239504        0.196178     -0.940457\n",
      "...        ...             ...           ...\n",
      "7027 -0.343137        0.664868     -0.129180\n",
      "7028  1.612573        1.276493      2.241056\n",
      "7029 -0.872808       -1.170004     -0.854514\n",
      "7030 -1.158016        0.319168     -0.872095\n",
      "7031  1.368109        1.357932      2.012344\n",
      "\n",
      "[7032 rows x 3 columns]\n",
      "<class 'pandas.core.frame.DataFrame'>\n",
      "Int64Index: 7032 entries, 0 to 7042\n",
      "Data columns (total 32 columns):\n",
      " #   Column                                   Non-Null Count  Dtype  \n",
      "---  ------                                   --------------  -----  \n",
      " 0   customerID                               7032 non-null   object \n",
      " 1   SeniorCitizen                            7032 non-null   int64  \n",
      " 2   tenure                                   7032 non-null   int64  \n",
      " 3   MonthlyCharges                           7032 non-null   float64\n",
      " 4   TotalCharges                             7032 non-null   float64\n",
      " 5   Churn                                    7032 non-null   object \n",
      " 6   gender_Male_1                            7032 non-null   uint8  \n",
      " 7   Partner_Yes_1                            7032 non-null   uint8  \n",
      " 8   Dependents_Yes_1                         7032 non-null   uint8  \n",
      " 9   PhoneService_Yes_1                       7032 non-null   uint8  \n",
      " 10  MultipleLines_No phone service_1         7032 non-null   uint8  \n",
      " 11  MultipleLines_Yes_1                      7032 non-null   uint8  \n",
      " 12  InternetService_Fiber optic_1            7032 non-null   uint8  \n",
      " 13  InternetService_No_1                     7032 non-null   uint8  \n",
      " 14  OnlineSecurity_No internet service_1     7032 non-null   uint8  \n",
      " 15  OnlineSecurity_Yes_1                     7032 non-null   uint8  \n",
      " 16  OnlineBackup_No internet service_1       7032 non-null   uint8  \n",
      " 17  OnlineBackup_Yes_1                       7032 non-null   uint8  \n",
      " 18  DeviceProtection_No internet service_1   7032 non-null   uint8  \n",
      " 19  DeviceProtection_Yes_1                   7032 non-null   uint8  \n",
      " 20  TechSupport_No internet service_1        7032 non-null   uint8  \n",
      " 21  TechSupport_Yes_1                        7032 non-null   uint8  \n",
      " 22  StreamingTV_No internet service_1        7032 non-null   uint8  \n",
      " 23  StreamingTV_Yes_1                        7032 non-null   uint8  \n",
      " 24  StreamingMovies_No internet service_1    7032 non-null   uint8  \n",
      " 25  StreamingMovies_Yes_1                    7032 non-null   uint8  \n",
      " 26  Contract_One year_1                      7032 non-null   uint8  \n",
      " 27  Contract_Two year_1                      7032 non-null   uint8  \n",
      " 28  PaperlessBilling_Yes_1                   7032 non-null   uint8  \n",
      " 29  PaymentMethod_Credit card (automatic)_1  7032 non-null   uint8  \n",
      " 30  PaymentMethod_Electronic check_1         7032 non-null   uint8  \n",
      " 31  PaymentMethod_Mailed check_1             7032 non-null   uint8  \n",
      "dtypes: float64(2), int64(2), object(2), uint8(26)\n",
      "memory usage: 563.1+ KB\n",
      "None\n"
     ]
    }
   ],
   "source": [
    "# perform one-hot encoding to categorical variables\n",
    "telco_raw = pd.get_dummies(data=telco_raw, columns = categorical, drop_first = True)\n",
    "\n",
    "# initialize StandardScaler\n",
    "scaler = StandardScaler()\n",
    "\n",
    "# fit and transform the scaler on numerical columns\n",
    "scaled_numerical = scaler.fit_transform(telco_raw[numerical])\n",
    "scaled_numerical = pd.DataFrame(scaled_numerical, columns = numerical)"
   ]
  },
  {
   "cell_type": "code",
   "execution_count": 27,
   "metadata": {},
   "outputs": [],
   "source": [
    "# obtain features X \n",
    "X = telco_raw.copy()\n",
    "X = X.drop(columns = ['Churn', 'customerID'])\n",
    "X = shuffle(X, random_state=2022)\n",
    "\n",
    "# obtain Y\n",
    "Y = telco_raw.copy()['Churn']\n",
    "Y = pd.get_dummies(data=Y, drop_first=True)\n",
    "Y = shuffle(Y, random_state=2022)"
   ]
  },
  {
   "cell_type": "code",
   "execution_count": 33,
   "metadata": {},
   "outputs": [
    {
     "name": "stdout",
     "output_type": "stream",
     "text": [
      "0.75\n",
      "0.25\n"
     ]
    }
   ],
   "source": [
    "# split X and Y into training and testing datasets\n",
    "train_X, test_X, train_Y, test_Y = train_test_split(X, Y, test_size = 0.25, random_state = 2022) \n",
    "\n",
    "# ensure the proportion of training data and testing data are 75% and 25%\n",
    "print(train_X.shape[0] / X.shape[0])\n",
    "print(test_X.shape[0] / X.shape[0])"
   ]
  },
  {
   "cell_type": "code",
   "execution_count": 38,
   "metadata": {},
   "outputs": [
    {
     "name": "stdout",
     "output_type": "stream",
     "text": [
      "Accuracy score is : 0.7679180887372014\n"
     ]
    }
   ],
   "source": [
    "# Fit a decision tree\n",
    "\n",
    "## Initialize the model \n",
    "mytree = tree.DecisionTreeClassifier(max_depth = 5)\n",
    "\n",
    "## Fit the model on the training data\n",
    "treemodel = mytree.fit(train_X, train_Y)\n",
    "\n",
    "## Predict values on the testing data\n",
    "pred_Y = treemodel.predict(test_X)\n",
    "\n",
    "## Measure model performance on testing data\n",
    "print(f'Accuracy score is : {accuracy_score(test_Y, pred_Y)}')\n"
   ]
  },
  {
   "cell_type": "code",
   "execution_count": 44,
   "metadata": {},
   "outputs": [
    {
     "name": "stdout",
     "output_type": "stream",
     "text": [
      "Training Accuracy is  0.829\n",
      "Testing Accuracy is  0.757\n"
     ]
    }
   ],
   "source": [
    "# initialize the Decision Tree\n",
    "clf = tree.DecisionTreeClassifier(max_depth = 7, criterion = 'gini', splitter = 'best')\n",
    "\n",
    "# fit the model\n",
    "clf = clf.fit(train_X, train_Y)\n",
    "\n",
    "# predict the values on test dataset\n",
    "pred_Y = clf.predict(test_X)\n",
    "\n",
    "# print accuracy values\n",
    "print(\"Training Accuracy is \", np.round(clf.score(train_X, train_Y),3))\n",
    "print(\"Testing Accuracy is \", np.round(accuracy_score(test_Y, pred_Y),3))"
   ]
  }
 ],
 "metadata": {
  "kernelspec": {
   "display_name": "Python 3.9.7 ('base')",
   "language": "python",
   "name": "python3"
  },
  "language_info": {
   "codemirror_mode": {
    "name": "ipython",
    "version": 3
   },
   "file_extension": ".py",
   "mimetype": "text/x-python",
   "name": "python",
   "nbconvert_exporter": "python",
   "pygments_lexer": "ipython3",
   "version": "3.9.7"
  },
  "orig_nbformat": 4,
  "vscode": {
   "interpreter": {
    "hash": "16485c9d48b67492f4a07c611156201f3ef2dc60b9750633e8629682e3781025"
   }
  }
 },
 "nbformat": 4,
 "nbformat_minor": 2
}
